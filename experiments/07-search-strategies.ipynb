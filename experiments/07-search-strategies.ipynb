{
 "cells": [
  {
   "cell_type": "code",
   "execution_count": null,
   "metadata": {},
   "outputs": [],
   "source": [
    "import asyncio\n",
    "from lib.rl.completion_sampler import CompletionSampler\n",
    "from lib.rl.episode import Episode\n",
    "from lib.tokenizer import Tokenizer\n",
    "from typing import Callable, Protocol\n",
    "\n",
    "\n",
    "class SearchStrategy(Protocol):\n",
    "    def __call__(\n",
    "        self,\n",
    "        sampler: CompletionSampler,\n",
    "        tokenizer: Tokenizer,\n",
    "        ready_episodes: asyncio.Queue[Episode],\n",
    "        done_episodes: asyncio.Queue[Episode],\n",
    "        update_progress: Callable[[float], None],\n",
    "    ) -> None: ...\n",
    "\n",
    "\n",
    "async def simple_search(\n",
    "    sampler: CompletionSampler,\n",
    "    tokenizer: Tokenizer,\n",
    "    ready_episodes: asyncio.Queue[Episode],\n",
    "    done_episodes: asyncio.Queue[Episode],\n",
    "    update_progress: Callable[[float], None],\n",
    ") -> None:\n",
    "    while episode := await ready_episodes.get():\n",
    "        task = asyncio.create_task(\n",
    "            episode.sample_completions(\n",
    "                sampler, tokenizer, num_parents=1, branch_factor=1\n",
    "            )\n",
    "        )\n",
    "\n",
    "        def done_callback(_: asyncio.Task[bool]) -> None:\n",
    "            done_episodes.put_nowait(episode)\n",
    "            update_progress(1)\n",
    "\n",
    "        task.add_done_callback(done_callback)"
   ]
  }
 ],
 "metadata": {
  "language_info": {
   "name": "python"
  }
 },
 "nbformat": 4,
 "nbformat_minor": 2
}
