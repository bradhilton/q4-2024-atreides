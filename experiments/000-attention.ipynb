{
 "cells": [
  {
   "cell_type": "code",
   "execution_count": 6,
   "metadata": {},
   "outputs": [
    {
     "data": {
      "text/plain": [
       "{'without_mask': torch.Size([2, 5, 8]), 'with_mask': torch.Size([2, 5, 8])}"
      ]
     },
     "execution_count": 6,
     "metadata": {},
     "output_type": "execute_result"
    }
   ],
   "source": [
    "import torch\n",
    "\n",
    "class Attention(torch.nn.Module):\n",
    "    def __init__(self, dim: int) -> None:\n",
    "        super().__init__()\n",
    "        self.wq = torch.nn.Linear(dim, dim, bias=False)\n",
    "        self.wk = torch.nn.Linear(dim, dim, bias=False)\n",
    "        self.wv = torch.nn.Linear(dim, dim, bias=False)\n",
    "\n",
    "    def forward(self, x: torch.Tensor, mask: torch.Tensor | None = None) -> torch.Tensor:\n",
    "        Q = self.wq(x)  # [batch_size, seq_len, dim]\n",
    "        K = self.wk(x)  # [batch_size, seq_len, dim]\n",
    "        V = self.wv(x)  # [batch_size, seq_len, dim]\n",
    "\n",
    "        # Compute scaled dot-product attention\n",
    "        attention = Q @ K.transpose(-2, -1)  # [batch_size, seq_len, seq_len]\n",
    "        attention /= Q.shape[-1] ** 0.5  # Scale by sqrt of dimension\n",
    "        \n",
    "        if mask is not None:  # Check for mask presence\n",
    "            attention += mask.to(attention.dtype) * -1e9\n",
    "        \n",
    "        attention = torch.softmax(attention, dim=-1)  # Apply softmax along seq_len\n",
    "\n",
    "        # Weighted sum of values\n",
    "        output = attention @ V  # [batch_size, seq_len, dim]\n",
    "        return output\n",
    "\n",
    "\n",
    "# Test the updated Attention module\n",
    "\n",
    "# Create a random input tensor\n",
    "batch_size = 2\n",
    "seq_len = 5\n",
    "dim = 8\n",
    "x = torch.randn(batch_size, seq_len, dim)\n",
    "\n",
    "# Instantiate the Attention module\n",
    "attention_module = Attention(dim=dim)\n",
    "\n",
    "# Test 1: Without Mask\n",
    "output_no_mask = attention_module(x)\n",
    "\n",
    "# Test 2: With Mask (causal mask example)\n",
    "mask = torch.triu(torch.ones(seq_len, seq_len), diagonal=1).unsqueeze(0).repeat(batch_size, 1, 1) * -1e9\n",
    "output_with_mask = attention_module(x, mask=mask)\n",
    "\n",
    "# Output shapes\n",
    "output_shapes = {\n",
    "    \"without_mask\": output_no_mask.shape,\n",
    "    \"with_mask\": output_with_mask.shape\n",
    "}\n",
    "output_shapes\n"
   ]
  }
 ],
 "metadata": {
  "kernelspec": {
   "display_name": ".venv",
   "language": "python",
   "name": "python3"
  },
  "language_info": {
   "codemirror_mode": {
    "name": "ipython",
    "version": 3
   },
   "file_extension": ".py",
   "mimetype": "text/x-python",
   "name": "python",
   "nbconvert_exporter": "python",
   "pygments_lexer": "ipython3",
   "version": "3.12.5"
  }
 },
 "nbformat": 4,
 "nbformat_minor": 2
}
