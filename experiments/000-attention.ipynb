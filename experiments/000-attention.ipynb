{
 "cells": [
  {
   "cell_type": "code",
   "execution_count": 1,
   "metadata": {},
   "outputs": [
    {
     "data": {
      "text/plain": [
       "ChatCompletion(id='chatcmpl-Avax6KV8klyDUhaylq4PeO1KiIE6s', choices=[Choice(finish_reason='stop', index=0, logprobs=None, message=ChatCompletionMessage(content=\"Ranking all the Presidents of the United States from best to worst is a complex and inherently subjective task. To approach this systematically, I have developed an exhaustive rubric that evaluates each president based on multiple key criteria. This rubric aims to provide a balanced and comprehensive assessment of each president's performance and legacy.\\n\\n**Ranking Rubric for U.S. Presidents**\\n\\nThe following criteria are used to evaluate each president, along with their respective weightings to reflect their importance:\\n\\n1. **Leadership and Vision (20 points)**\\n   - Ability to provide clear direction and inspire the nation.\\n   - Articulation of a compelling and effective vision for the country’s future.\\n\\n2. **Economic Management (15 points)**\\n   - Success in promoting economic growth and stability.\\n   - Effectiveness in managing federal budgets, taxes, and addressing unemployment.\\n\\n3. **Foreign Policy and National Security (15 points)**\\n   - Handling of international relations, treaties, and conflicts.\\n   - Measures taken to ensure the nation’s security and global standing.\\n\\n4. **Crisis Management (15 points)**\\n   - Effectiveness in leading the nation through crises (e.g., wars, economic downturns, natural disasters).\\n   - Ability to make decisive and impactful decisions under pressure.\\n\\n5. **Domestic Policy and Legislative Accomplishments (15 points)**\\n   - Success in passing significant legislation and reforms.\\n   - Impact of domestic policies on social welfare, healthcare, education, etc.\\n\\n6. **Moral Authority and Integrity (10 points)**\\n   - Upholding ethical standards and combating corruption.\\n   - Building and maintaining public trust.\\n\\n7. **Communication Skills (10 points)**\\n   - Effectiveness in communicating with the public, media, and Congress.\\n   - Ability to articulate policies and handle public relations.\\n\\nEach category is scored on a scale, with the total possible score being 100 points. The presidents are then ranked based on their cumulative scores.\\n\\n**Rankings of U.S. Presidents**\\n\\nBelow is the ranking of all U.S. Presidents based on the above rubric. Due to the extensive nature of this list, the table provides each president's scores across the seven criteria and their total score out of 100.\\n\\n| Rank | President                     | Leadership & Vision (20) | Economic Management (15) | Foreign Policy & Nat. Security (15) | Crisis Management (15) | Domestic Policy & Legislative (15) | Moral Authority & Integrity (10) | Communication Skills (10) | Total (100) |\\n|------|-------------------------------|--------------------------|--------------------------|-------------------------------------|------------------------|-------------------------------------|-----------------------------------|--------------------------|-------------|\\n| 1    | Abraham Lincoln               | 20                       | 14                       | 15                                  | 15                     | 15                                  | 10                                | 10                       | 99          |\\n| 2    | George Washington             | 19                       | 13                       | 14                                  | 14                     | 14                                  | 10                                | 10                       | 94          |\\n| 3    | Franklin D. Roosevelt         | 19                       | 15                       | 14                                  | 15                     | 15                                  | 9                                 | 10                       | 97          |\\n| 4    | Theodore Roosevelt            | 18                       | 14                       | 15                                  | 14                     | 14                                  | 8                                 | 10                       | 93          |\\n| 5    | Thomas Jefferson              | 18                       | 13                       | 14                                  | 13                     | 14                                  | 9                                 | 10                       | 91          |\\n| 6    | Dwight D. Eisenhower          | 17                       | 14                       | 14                                  | 14                     | 14                                  | 9                                 | 9                        | 91          |\\n| 7    | Harry S. Truman               | 17                       | 14                       | 13                                  | 14                     | 14                                  | 9                                 | 9                        | 89          |\\n| 8    | James Madison                 | 16                       | 13                       | 13                                  | 13                     | 13                                  | 9                                 | 9                        | 86          |\\n| 9    | James Monroe                  | 16                       | 13                       | 13                                  | 13                     | 13                                  | 9                                 | 9                        | 86          |\\n| 10   | Ronald Reagan                 | 16                       | 15                       | 14                                  | 13                     | 13                                  | 7                                 | 9                        | 87          |\\n| 11   | John Adams                    | 15                       | 13                       | 13                                  | 13                     | 13                                  | 8                                 | 9                        | 84          |\\n| 12   | James K. Polk                 | 15                       | 14                       | 14                                  | 14                     | 14                                  | 9                                 | 9                        | 99          |\\n| 13   | Lyndon B. Johnson             | 15                       | 14                       | 13                                  | 14                     | 14                                  | 8                                 | 9                        | 85          |\\n| 14   | Barack Obama                  | 15                       | 13                       | 14                                  | 14                     | 14                                  | 8                                 | 9                        | 87          |\\n| 15   | Andrew Jackson                | 14                       | 14                       | 13                                  | 13                     | 13                                  | 7                                 | 9                        | 83          |\\n| 16   | Ulysses S. Grant              | 14                       | 13                       | 13                                  | 13                     | 13                                  | 7                                 | 9                        | 82          |\\n| 17   | William McKinley              | 14                       | 14                       | 14                                  | 13                     | 13                                  | 7                                 | 9                        | 84          |\\n| 18   | William Howard Taft           | 13                       | 13                       | 13                                  | 13                     | 13                                  | 6                                 | 9                        | 80          |\\n| 19   | Woodrow Wilson                | 13                       | 13                       | 14                                  | 14                     | 14                                  | 7                                 | 9                        | 84          |\\n| 20   | Calvin Coolidge               | 13                       | 14                       | 13                                  | 13                     | 13                                  | 7                                 | 9                        | 82          |\\n| 21   | Harry S. Truman               | 13                       | 12                       | 13                                  | 13                     | 13                                  | 8                                 | 9                        | 81          |\\n| 22   | Martin Van Buren              | 12                       | 13                       | 12                                  | 12                     | 12                                  | 7                                 | 8                        | 76          |\\n| 23   | Grover Cleveland              | 12                       | 13                       | 12                                  | 12                     | 12                                  | 7                                 | 8                        | 76          |\\n| 24   | Benjamin Harrison             | 12                       | 12                       | 12                                  | 12                     | 12                                  | 7                                 | 8                        | 75          |\\n| 25   | Herbert Hoover                | 11                       | 12                       | 11                                  | 11                     | 12                                  | 6                                 | 8                        | 71          |\\n| 26   | Rutherford B. Hayes           | 11                       | 12                       | 11                                  | 11                     | 11                                  | 7                                 | 8                        | 71          |\\n| 27   | John Quincy Adams             | 11                       | 12                       | 11                                  | 11                     | 11                                  | 7                                 | 8                        | 71          |\\n| 28   | Franklin Pierce               | 10                       | 11                       | 10                                  | 10                     | 11                                  | 6                                 | 7                        | 65          |\\n| 29   | James Buchanan                | 10                       | 11                       | 10                                  | 10                     | 11                                  | 6                                 | 7                        | 65          |\\n| 30   | Millard Fillmore              | 10                       | 11                       | 10                                  | 10                     | 11                                  | 6                                 | 7                        | 65          |\\n| 31   | John Tyler                    | 10                       | 11                       | 10                                  | 10                     | 11                                  | 6                                 | 7                        | 65          |\\n| 32   | Chester A. Arthur             | 10                       | 11                       | 10                                  | 10                     | 11                                  | 6                                 | 7                        | 65          |\\n| 33   | James A. Garfield             | 10                       | 11                       | 10                                  | 10                     | 11                                  | 6                                 | 7                        | 65          |\\n| 34   | Franklin D. Roosevelt         | 10                       | 11                       | 10                                  | 10                     | 11                                  | 6                                 | 7                        | 65          |\\n| 35   | Theodore Roosevelt            | 10                       | 11                       | 10                                  | 10                     | 11                                  | 6                                 | 7                        | 65          |\\n| 36   | Warren G. Harding             | 9                        | 10                       | 9                                   | 9                      | 10                                  | 5                                 | 7                        | 59          |\\n| 37   | William Henry Harrison        | 9                        | 10                       | 9                                   | 9                      | 10                                  | 5                                 | 7                        | 59          |\\n| 38   | George H. W. Bush             | 9                        | 10                       | 9                                   | 9                      | 10                                  | 5                                 | 7                        | 59          |\\n| 39   | Jimmy Carter                  | 8                        | 9                        | 8                                   | 8                      | 9                                   | 5                                 | 7                        | 54          |\\n| 40   | Gerald Ford                   | 8                        | 9                        | 8                                   | 8                      | 9                                   | 5                                 | 7                        | 54          |\\n| 41   | Joe Biden                     | 8                        | 9                        | 8                                   | 8                      | 9                                   | 5                                 | 7                        | 54          |\\n| 42   | Richard Nixon                 | 7                        | 8                        | 7                                   | 8                      | 8                                   | 4                                 | 7                        | 49          |\\n| 43   | James Buchanan                | 7                        | 8                        | 7                                   | 8                      | 8                                   | 4                                 | 7                        | 49          |\\n| 44   | Andrew Johnson                | 6                        | 7                        | 6                                   | 7                      | 7                                   | 3                                 | 7                        | 47          |\\n| 45   | Donald Trump                  | 5                        | 6                        | 5                                   | 6                      | 6                                   | 2                                 | 6                        | 36          |\\n| 46   | John Adams                    | 4                        | 5                        | 4                                   | 5                      | 5                                   | 1                                 | 5                        | 29          |\\n\\n**Notes on the Rankings:**\\n\\n- **Abraham Lincoln** consistently ranks at the top due to his leadership during the Civil War and his role in ending slavery.\\n- **George Washington** is highly regarded for setting many precedents for the new government and maintaining national unity.\\n- **Franklin D. Roosevelt** is celebrated for his New Deal policies and leadership during World War II.\\n- **Donald Trump** and **John Adams** rank lower based on the criteria evaluated, including leadership challenges and controversies.\\n\\n**Caveats:**\\n\\n- **Subjectivity:** Despite the comprehensive rubric, the evaluation of presidential performance is inherently subjective. Different historians and political scientists may prioritize criteria differently, leading to variations in rankings.\\n- **Historical Context:** Presidents served in vastly different historical contexts, making direct comparisons challenging. The impact of a president’s actions can be interpreted differently over time.\\n- **Evolving Standards:** Societal values and expectations evolve, which can influence the perception of a president’s effectiveness and legacy.\\n\\n**Conclusion:**\\n\\nThis ranking provides a structured assessment based on the defined rubric, offering a comparative overview of U.S. presidents. It is essential to consider the broader historical and societal contexts when evaluating presidential performance, recognizing that each president faced unique challenges and circumstances.\", refusal=None, role='assistant', audio=None, function_call=None, tool_calls=None))], created=1738290104, model='o1-mini-2024-09-12', object='chat.completion', service_tier='default', system_fingerprint='fp_f56e40de61', usage=CompletionUsage(completion_tokens=4456, prompt_tokens=25, total_tokens=4481, completion_tokens_details=CompletionTokensDetails(accepted_prediction_tokens=0, audio_tokens=0, reasoning_tokens=1728, rejected_prediction_tokens=0), prompt_tokens_details=PromptTokensDetails(audio_tokens=0, cached_tokens=0)))"
      ]
     },
     "execution_count": 1,
     "metadata": {},
     "output_type": "execute_result"
    }
   ],
   "source": [
    "from openai import AsyncOpenAI\n",
    "\n",
    "client = AsyncOpenAI()\n",
    "await client.chat.completions.create(\n",
    "    model=\"o1-mini\",\n",
    "    messages=[{\"role\": \"user\", \"content\": \"Develop an exhaustive rubric and rank all the presidents of the United States from best to worst.\"}],\n",
    ")"
   ]
  },
  {
   "cell_type": "code",
   "execution_count": 2,
   "metadata": {},
   "outputs": [
    {
     "data": {
      "text/plain": [
       "27.0"
      ]
     },
     "execution_count": 2,
     "metadata": {},
     "output_type": "execute_result"
    }
   ],
   "source": [
    "1728 / 64"
   ]
  },
  {
   "cell_type": "code",
   "execution_count": 6,
   "metadata": {},
   "outputs": [
    {
     "data": {
      "text/plain": [
       "{'without_mask': torch.Size([2, 5, 8]), 'with_mask': torch.Size([2, 5, 8])}"
      ]
     },
     "execution_count": 6,
     "metadata": {},
     "output_type": "execute_result"
    }
   ],
   "source": [
    "import torch\n",
    "\n",
    "class Attention(torch.nn.Module):\n",
    "    def __init__(self, dim: int) -> None:\n",
    "        super().__init__()\n",
    "        self.wq = torch.nn.Linear(dim, dim, bias=False)\n",
    "        self.wk = torch.nn.Linear(dim, dim, bias=False)\n",
    "        self.wv = torch.nn.Linear(dim, dim, bias=False)\n",
    "\n",
    "    def forward(self, x: torch.Tensor, mask: torch.Tensor | None = None) -> torch.Tensor:\n",
    "        Q = self.wq(x)  # [batch_size, seq_len, dim]\n",
    "        K = self.wk(x)  # [batch_size, seq_len, dim]\n",
    "        V = self.wv(x)  # [batch_size, seq_len, dim]\n",
    "\n",
    "        # Compute scaled dot-product attention\n",
    "        attention = Q @ K.transpose(-2, -1)  # [batch_size, seq_len, seq_len]\n",
    "        attention /= Q.shape[-1] ** 0.5  # Scale by sqrt of dimension\n",
    "        \n",
    "        if mask is not None:  # Check for mask presence\n",
    "            attention += mask.to(attention.dtype) * -1e9\n",
    "        \n",
    "        attention = torch.softmax(attention, dim=-1)  # Apply softmax along seq_len\n",
    "\n",
    "        # Weighted sum of values\n",
    "        output = attention @ V  # [batch_size, seq_len, dim]\n",
    "        return output\n",
    "\n",
    "\n",
    "# Test the updated Attention module\n",
    "\n",
    "# Create a random input tensor\n",
    "batch_size = 2\n",
    "seq_len = 5\n",
    "dim = 8\n",
    "x = torch.randn(batch_size, seq_len, dim)\n",
    "\n",
    "# Instantiate the Attention module\n",
    "attention_module = Attention(dim=dim)\n",
    "\n",
    "# Test 1: Without Mask\n",
    "output_no_mask = attention_module(x)\n",
    "\n",
    "# Test 2: With Mask (causal mask example)\n",
    "mask = torch.triu(torch.ones(seq_len, seq_len), diagonal=1).unsqueeze(0).repeat(batch_size, 1, 1) * -1e9\n",
    "output_with_mask = attention_module(x, mask=mask)\n",
    "\n",
    "# Output shapes\n",
    "output_shapes = {\n",
    "    \"without_mask\": output_no_mask.shape,\n",
    "    \"with_mask\": output_with_mask.shape\n",
    "}\n",
    "output_shapes\n"
   ]
  }
 ],
 "metadata": {
  "kernelspec": {
   "display_name": ".venv",
   "language": "python",
   "name": "python3"
  },
  "language_info": {
   "codemirror_mode": {
    "name": "ipython",
    "version": 3
   },
   "file_extension": ".py",
   "mimetype": "text/x-python",
   "name": "python",
   "nbconvert_exporter": "python",
   "pygments_lexer": "ipython3",
   "version": "3.12.5"
  }
 },
 "nbformat": 4,
 "nbformat_minor": 2
}
