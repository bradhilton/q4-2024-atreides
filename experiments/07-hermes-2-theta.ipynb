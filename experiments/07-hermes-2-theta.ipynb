{
 "cells": [
  {
   "cell_type": "code",
   "execution_count": 1,
   "metadata": {},
   "outputs": [],
   "source": [
    "%load_ext autoreload\n",
    "%autoreload 2"
   ]
  },
  {
   "cell_type": "code",
   "execution_count": 2,
   "metadata": {},
   "outputs": [
    {
     "name": "stdout",
     "output_type": "stream",
     "text": [
      "/home/ubuntu/.cache/huggingface/hub/models--NousResearch--Hermes-2-Theta-Llama-3-8B/snapshots/57a73110702e7b05ba3f39fef36297454c680725\n"
     ]
    }
   ],
   "source": [
    "import glob\n",
    "import subprocess\n",
    "\n",
    "model_dir = subprocess.run(\n",
    "    \"HF_HUB_ENABLE_HF_TRANSFER=1 huggingface-cli download NousResearch/Hermes-2-Theta-Llama-3-8B\",\n",
    "    shell=True,\n",
    "    capture_output=True,\n",
    "    text=True,\n",
    ").stdout.strip()\n",
    "\n",
    "print(model_dir)"
   ]
  },
  {
   "cell_type": "code",
   "execution_count": 3,
   "metadata": {},
   "outputs": [
    {
     "data": {
      "text/plain": [
       "dict_keys(['model'])"
      ]
     },
     "execution_count": 3,
     "metadata": {},
     "output_type": "execute_result"
    }
   ],
   "source": [
    "from torchtune.training.checkpointing import FullModelHFCheckpointer\n",
    "\n",
    "checkpointer = FullModelHFCheckpointer(\n",
    "    checkpoint_dir=model_dir,\n",
    "    checkpoint_files=glob.glob(f\"{model_dir}/*.safetensors\"),\n",
    "    output_dir=model_dir,\n",
    "    model_type='LLAMA3' # type: ignore\n",
    ")\n",
    "state_dict = checkpointer.load_checkpoint()\n",
    "state_dict.keys()"
   ]
  },
  {
   "cell_type": "code",
   "execution_count": 4,
   "metadata": {},
   "outputs": [
    {
     "data": {
      "text/plain": [
       "<All keys matched successfully>"
      ]
     },
     "execution_count": 4,
     "metadata": {},
     "output_type": "execute_result"
    }
   ],
   "source": [
    "from torchtune.models.llama3_1 import llama3_1_8b\n",
    "\n",
    "model = llama3_1_8b()\n",
    "model.load_state_dict(state_dict[\"model\"])"
   ]
  },
  {
   "cell_type": "code",
   "execution_count": 5,
   "metadata": {},
   "outputs": [],
   "source": [
    "import json\n",
    "from tiktoken.load import dump_tiktoken_bpe\n",
    "\n",
    "tokenizer_data = json.load(open(f\"{model_dir}/tokenizer.json\", \"r\"))\n",
    "dump_tiktoken_bpe(\n",
    "    {token.encode(): rank for token, rank in tokenizer_data[\"model\"][\"vocab\"].items()},\n",
    "    f\"{model_dir}/tokenizer.bpe\",\n",
    ")"
   ]
  },
  {
   "cell_type": "code",
   "execution_count": 14,
   "metadata": {},
   "outputs": [
    {
     "data": {
      "text/plain": [
       "<torchtune.models.llama3._tokenizer.Llama3Tokenizer at 0x736d0f378500>"
      ]
     },
     "execution_count": 14,
     "metadata": {},
     "output_type": "execute_result"
    }
   ],
   "source": [
    "from torchtune.data import ChatMLTemplate\n",
    "from torchtune.models.llama3 import Llama3Tokenizer\n",
    "\n",
    "tokenizer = Llama3Tokenizer(\n",
    "    path=model_dir + \"/tokenizer.bpe\", prompt_template=ChatMLTemplate()  # type: ignore\n",
    ")\n",
    "tokenizer"
   ]
  },
  {
   "cell_type": "code",
   "execution_count": 23,
   "metadata": {},
   "outputs": [],
   "source": [
    "from llama_models.llama3.api.tokenizer import Tokenizer\n",
    "\n",
    "tokenizer.tt_model.tt_model = Tokenizer.get_instance().model"
   ]
  },
  {
   "cell_type": "code",
   "execution_count": 25,
   "metadata": {},
   "outputs": [
    {
     "data": {
      "text/plain": [
       "[128006, 882, 128007, 271, 9906, 11, 1917, 0, 128009]"
      ]
     },
     "execution_count": 25,
     "metadata": {},
     "output_type": "execute_result"
    }
   ],
   "source": [
    "from torchtune.data import Message\n",
    "\n",
    "tokenizer.tokenize_message(Message(role=\"user\", content=\"Hello, world!\"))"
   ]
  },
  {
   "cell_type": "code",
   "execution_count": 27,
   "metadata": {},
   "outputs": [
    {
     "data": {
      "text/plain": [
       "torch.Size([1, 9])"
      ]
     },
     "execution_count": 27,
     "metadata": {},
     "output_type": "execute_result"
    }
   ],
   "source": [
    "import torch\n",
    "\n",
    "torch.tensor([tokenizer.tokenize_message(Message(role=\"user\", content=\"Hello, world!\"))]).shape"
   ]
  },
  {
   "cell_type": "code",
   "execution_count": 48,
   "metadata": {},
   "outputs": [
    {
     "data": {
      "text/plain": [
       "{'<|begin_of_text|>': 128000,\n",
       " '<|end_of_text|>': 128001,\n",
       " '<|reserved_special_token_0|>': 128002,\n",
       " '<|reserved_special_token_1|>': 128003,\n",
       " '<|finetune_right_pad_id|>': 128004,\n",
       " '<|step_id|>': 128005,\n",
       " '<|start_header_id|>': 128006,\n",
       " '<|end_header_id|>': 128007,\n",
       " '<|eom_id|>': 128008,\n",
       " '<|eot_id|>': 128009,\n",
       " '<|python_tag|>': 128010,\n",
       " '<|image|>': 128256,\n",
       " '<|video|>': 128012,\n",
       " '<|reserved_special_token_2|>': 128013,\n",
       " '<|reserved_special_token_3|>': 128014,\n",
       " '<|reserved_special_token_4|>': 128015,\n",
       " '<|reserved_special_token_5|>': 128016,\n",
       " '<|reserved_special_token_6|>': 128017,\n",
       " '<|reserved_special_token_7|>': 128018,\n",
       " '<|reserved_special_token_8|>': 128019,\n",
       " '<|reserved_special_token_9|>': 128020,\n",
       " '<|reserved_special_token_10|>': 128021,\n",
       " '<|reserved_special_token_11|>': 128022,\n",
       " '<|reserved_special_token_12|>': 128023,\n",
       " '<|reserved_special_token_13|>': 128024,\n",
       " '<|reserved_special_token_14|>': 128025,\n",
       " '<|reserved_special_token_15|>': 128026,\n",
       " '<|reserved_special_token_16|>': 128027,\n",
       " '<|reserved_special_token_17|>': 128028,\n",
       " '<|reserved_special_token_18|>': 128029,\n",
       " '<|reserved_special_token_19|>': 128030,\n",
       " '<|reserved_special_token_20|>': 128031,\n",
       " '<|reserved_special_token_21|>': 128032,\n",
       " '<|reserved_special_token_22|>': 128033,\n",
       " '<|reserved_special_token_23|>': 128034,\n",
       " '<|reserved_special_token_24|>': 128035,\n",
       " '<|reserved_special_token_25|>': 128036,\n",
       " '<|reserved_special_token_26|>': 128037,\n",
       " '<|reserved_special_token_27|>': 128038,\n",
       " '<|reserved_special_token_28|>': 128039,\n",
       " '<|reserved_special_token_29|>': 128040,\n",
       " '<|reserved_special_token_30|>': 128041,\n",
       " '<|reserved_special_token_31|>': 128042,\n",
       " '<|reserved_special_token_32|>': 128043,\n",
       " '<|reserved_special_token_33|>': 128044,\n",
       " '<|reserved_special_token_34|>': 128045,\n",
       " '<|reserved_special_token_35|>': 128046,\n",
       " '<|reserved_special_token_36|>': 128047,\n",
       " '<|reserved_special_token_37|>': 128048,\n",
       " '<|reserved_special_token_38|>': 128049,\n",
       " '<|reserved_special_token_39|>': 128050,\n",
       " '<|reserved_special_token_40|>': 128051,\n",
       " '<|reserved_special_token_41|>': 128052,\n",
       " '<|reserved_special_token_42|>': 128053,\n",
       " '<|reserved_special_token_43|>': 128054,\n",
       " '<|reserved_special_token_44|>': 128055,\n",
       " '<|reserved_special_token_45|>': 128056,\n",
       " '<|reserved_special_token_46|>': 128057,\n",
       " '<|reserved_special_token_47|>': 128058,\n",
       " '<|reserved_special_token_48|>': 128059,\n",
       " '<|reserved_special_token_49|>': 128060,\n",
       " '<|reserved_special_token_50|>': 128061,\n",
       " '<|reserved_special_token_51|>': 128062,\n",
       " '<|reserved_special_token_52|>': 128063,\n",
       " '<|reserved_special_token_53|>': 128064,\n",
       " '<|reserved_special_token_54|>': 128065,\n",
       " '<|reserved_special_token_55|>': 128066,\n",
       " '<|reserved_special_token_56|>': 128067,\n",
       " '<|reserved_special_token_57|>': 128068,\n",
       " '<|reserved_special_token_58|>': 128069,\n",
       " '<|reserved_special_token_59|>': 128070,\n",
       " '<|reserved_special_token_60|>': 128071,\n",
       " '<|reserved_special_token_61|>': 128072,\n",
       " '<|reserved_special_token_62|>': 128073,\n",
       " '<|reserved_special_token_63|>': 128074,\n",
       " '<|reserved_special_token_64|>': 128075,\n",
       " '<|reserved_special_token_65|>': 128076,\n",
       " '<|reserved_special_token_66|>': 128077,\n",
       " '<|reserved_special_token_67|>': 128078,\n",
       " '<|reserved_special_token_68|>': 128079,\n",
       " '<|reserved_special_token_69|>': 128080,\n",
       " '<|reserved_special_token_70|>': 128081,\n",
       " '<|reserved_special_token_71|>': 128082,\n",
       " '<|reserved_special_token_72|>': 128083,\n",
       " '<|reserved_special_token_73|>': 128084,\n",
       " '<|reserved_special_token_74|>': 128085,\n",
       " '<|reserved_special_token_75|>': 128086,\n",
       " '<|reserved_special_token_76|>': 128087,\n",
       " '<|reserved_special_token_77|>': 128088,\n",
       " '<|reserved_special_token_78|>': 128089,\n",
       " '<|reserved_special_token_79|>': 128090,\n",
       " '<|reserved_special_token_80|>': 128091,\n",
       " '<|reserved_special_token_81|>': 128092,\n",
       " '<|reserved_special_token_82|>': 128093,\n",
       " '<|reserved_special_token_83|>': 128094,\n",
       " '<|reserved_special_token_84|>': 128095,\n",
       " '<|reserved_special_token_85|>': 128096,\n",
       " '<|reserved_special_token_86|>': 128097,\n",
       " '<|reserved_special_token_87|>': 128098,\n",
       " '<|reserved_special_token_88|>': 128099,\n",
       " '<|reserved_special_token_89|>': 128100,\n",
       " '<|reserved_special_token_90|>': 128101,\n",
       " '<|reserved_special_token_91|>': 128102,\n",
       " '<|reserved_special_token_92|>': 128103,\n",
       " '<|reserved_special_token_93|>': 128104,\n",
       " '<|reserved_special_token_94|>': 128105,\n",
       " '<|reserved_special_token_95|>': 128106,\n",
       " '<|reserved_special_token_96|>': 128107,\n",
       " '<|reserved_special_token_97|>': 128108,\n",
       " '<|reserved_special_token_98|>': 128109,\n",
       " '<|reserved_special_token_99|>': 128110,\n",
       " '<|reserved_special_token_100|>': 128111,\n",
       " '<|reserved_special_token_101|>': 128112,\n",
       " '<|reserved_special_token_102|>': 128113,\n",
       " '<|reserved_special_token_103|>': 128114,\n",
       " '<|reserved_special_token_104|>': 128115,\n",
       " '<|reserved_special_token_105|>': 128116,\n",
       " '<|reserved_special_token_106|>': 128117,\n",
       " '<|reserved_special_token_107|>': 128118,\n",
       " '<|reserved_special_token_108|>': 128119,\n",
       " '<|reserved_special_token_109|>': 128120,\n",
       " '<|reserved_special_token_110|>': 128121,\n",
       " '<|reserved_special_token_111|>': 128122,\n",
       " '<|reserved_special_token_112|>': 128123,\n",
       " '<|reserved_special_token_113|>': 128124,\n",
       " '<|reserved_special_token_114|>': 128125,\n",
       " '<|reserved_special_token_115|>': 128126,\n",
       " '<|reserved_special_token_116|>': 128127,\n",
       " '<|reserved_special_token_117|>': 128128,\n",
       " '<|reserved_special_token_118|>': 128129,\n",
       " '<|reserved_special_token_119|>': 128130,\n",
       " '<|reserved_special_token_120|>': 128131,\n",
       " '<|reserved_special_token_121|>': 128132,\n",
       " '<|reserved_special_token_122|>': 128133,\n",
       " '<|reserved_special_token_123|>': 128134,\n",
       " '<|reserved_special_token_124|>': 128135,\n",
       " '<|reserved_special_token_125|>': 128136,\n",
       " '<|reserved_special_token_126|>': 128137,\n",
       " '<|reserved_special_token_127|>': 128138,\n",
       " '<|reserved_special_token_128|>': 128139,\n",
       " '<|reserved_special_token_129|>': 128140,\n",
       " '<|reserved_special_token_130|>': 128141,\n",
       " '<|reserved_special_token_131|>': 128142,\n",
       " '<|reserved_special_token_132|>': 128143,\n",
       " '<|reserved_special_token_133|>': 128144,\n",
       " '<|reserved_special_token_134|>': 128145,\n",
       " '<|reserved_special_token_135|>': 128146,\n",
       " '<|reserved_special_token_136|>': 128147,\n",
       " '<|reserved_special_token_137|>': 128148,\n",
       " '<|reserved_special_token_138|>': 128149,\n",
       " '<|reserved_special_token_139|>': 128150,\n",
       " '<|reserved_special_token_140|>': 128151,\n",
       " '<|reserved_special_token_141|>': 128152,\n",
       " '<|reserved_special_token_142|>': 128153,\n",
       " '<|reserved_special_token_143|>': 128154,\n",
       " '<|reserved_special_token_144|>': 128155,\n",
       " '<|reserved_special_token_145|>': 128156,\n",
       " '<|reserved_special_token_146|>': 128157,\n",
       " '<|reserved_special_token_147|>': 128158,\n",
       " '<|reserved_special_token_148|>': 128159,\n",
       " '<|reserved_special_token_149|>': 128160,\n",
       " '<|reserved_special_token_150|>': 128161,\n",
       " '<|reserved_special_token_151|>': 128162,\n",
       " '<|reserved_special_token_152|>': 128163,\n",
       " '<|reserved_special_token_153|>': 128164,\n",
       " '<|reserved_special_token_154|>': 128165,\n",
       " '<|reserved_special_token_155|>': 128166,\n",
       " '<|reserved_special_token_156|>': 128167,\n",
       " '<|reserved_special_token_157|>': 128168,\n",
       " '<|reserved_special_token_158|>': 128169,\n",
       " '<|reserved_special_token_159|>': 128170,\n",
       " '<|reserved_special_token_160|>': 128171,\n",
       " '<|reserved_special_token_161|>': 128172,\n",
       " '<|reserved_special_token_162|>': 128173,\n",
       " '<|reserved_special_token_163|>': 128174,\n",
       " '<|reserved_special_token_164|>': 128175,\n",
       " '<|reserved_special_token_165|>': 128176,\n",
       " '<|reserved_special_token_166|>': 128177,\n",
       " '<|reserved_special_token_167|>': 128178,\n",
       " '<|reserved_special_token_168|>': 128179,\n",
       " '<|reserved_special_token_169|>': 128180,\n",
       " '<|reserved_special_token_170|>': 128181,\n",
       " '<|reserved_special_token_171|>': 128182,\n",
       " '<|reserved_special_token_172|>': 128183,\n",
       " '<|reserved_special_token_173|>': 128184,\n",
       " '<|reserved_special_token_174|>': 128185,\n",
       " '<|reserved_special_token_175|>': 128186,\n",
       " '<|reserved_special_token_176|>': 128187,\n",
       " '<|reserved_special_token_177|>': 128188,\n",
       " '<|reserved_special_token_178|>': 128189,\n",
       " '<|reserved_special_token_179|>': 128190,\n",
       " '<|reserved_special_token_180|>': 128191,\n",
       " '<|reserved_special_token_181|>': 128192,\n",
       " '<|reserved_special_token_182|>': 128193,\n",
       " '<|reserved_special_token_183|>': 128194,\n",
       " '<|reserved_special_token_184|>': 128195,\n",
       " '<|reserved_special_token_185|>': 128196,\n",
       " '<|reserved_special_token_186|>': 128197,\n",
       " '<|reserved_special_token_187|>': 128198,\n",
       " '<|reserved_special_token_188|>': 128199,\n",
       " '<|reserved_special_token_189|>': 128200,\n",
       " '<|reserved_special_token_190|>': 128201,\n",
       " '<|reserved_special_token_191|>': 128202,\n",
       " '<|reserved_special_token_192|>': 128203,\n",
       " '<|reserved_special_token_193|>': 128204,\n",
       " '<|reserved_special_token_194|>': 128205,\n",
       " '<|reserved_special_token_195|>': 128206,\n",
       " '<|reserved_special_token_196|>': 128207,\n",
       " '<|reserved_special_token_197|>': 128208,\n",
       " '<|reserved_special_token_198|>': 128209,\n",
       " '<|reserved_special_token_199|>': 128210,\n",
       " '<|reserved_special_token_200|>': 128211,\n",
       " '<|reserved_special_token_201|>': 128212,\n",
       " '<|reserved_special_token_202|>': 128213,\n",
       " '<|reserved_special_token_203|>': 128214,\n",
       " '<|reserved_special_token_204|>': 128215,\n",
       " '<|reserved_special_token_205|>': 128216,\n",
       " '<|reserved_special_token_206|>': 128217,\n",
       " '<|reserved_special_token_207|>': 128218,\n",
       " '<|reserved_special_token_208|>': 128219,\n",
       " '<|reserved_special_token_209|>': 128220,\n",
       " '<|reserved_special_token_210|>': 128221,\n",
       " '<|reserved_special_token_211|>': 128222,\n",
       " '<|reserved_special_token_212|>': 128223,\n",
       " '<|reserved_special_token_213|>': 128224,\n",
       " '<|reserved_special_token_214|>': 128225,\n",
       " '<|reserved_special_token_215|>': 128226,\n",
       " '<|reserved_special_token_216|>': 128227,\n",
       " '<|reserved_special_token_217|>': 128228,\n",
       " '<|reserved_special_token_218|>': 128229,\n",
       " '<|reserved_special_token_219|>': 128230,\n",
       " '<|reserved_special_token_220|>': 128231,\n",
       " '<|reserved_special_token_221|>': 128232,\n",
       " '<|reserved_special_token_222|>': 128233,\n",
       " '<|reserved_special_token_223|>': 128234,\n",
       " '<|reserved_special_token_224|>': 128235,\n",
       " '<|reserved_special_token_225|>': 128236,\n",
       " '<|reserved_special_token_226|>': 128237,\n",
       " '<|reserved_special_token_227|>': 128238,\n",
       " '<|reserved_special_token_228|>': 128239,\n",
       " '<|reserved_special_token_229|>': 128240,\n",
       " '<|reserved_special_token_230|>': 128241,\n",
       " '<|reserved_special_token_231|>': 128242,\n",
       " '<|reserved_special_token_232|>': 128243,\n",
       " '<|reserved_special_token_233|>': 128244,\n",
       " '<|reserved_special_token_234|>': 128245,\n",
       " '<|reserved_special_token_235|>': 128246,\n",
       " '<|reserved_special_token_236|>': 128247,\n",
       " '<|reserved_special_token_237|>': 128248,\n",
       " '<|reserved_special_token_238|>': 128249,\n",
       " '<|reserved_special_token_239|>': 128250,\n",
       " '<|reserved_special_token_240|>': 128251,\n",
       " '<|reserved_special_token_241|>': 128252,\n",
       " '<|reserved_special_token_242|>': 128253,\n",
       " '<|reserved_special_token_243|>': 128254,\n",
       " '<|reserved_special_token_244|>': 128255}"
      ]
     },
     "execution_count": 48,
     "metadata": {},
     "output_type": "execute_result"
    }
   ],
   "source": [
    "tokenizer.special_tokens"
   ]
  },
  {
   "cell_type": "code",
   "execution_count": 51,
   "metadata": {},
   "outputs": [
    {
     "data": {
      "text/plain": [
       "[128001, 128009, 128008]"
      ]
     },
     "execution_count": 51,
     "metadata": {},
     "output_type": "execute_result"
    }
   ],
   "source": [
    "tokenizer.stop_tokens"
   ]
  },
  {
   "cell_type": "code",
   "execution_count": null,
   "metadata": {},
   "outputs": [],
   "source": [
    "tokenizer.tokenize_messages(\n",
    "                [\n",
    "                    Message(role=\"user\", content=\"Hello, world!\", masked=True),\n",
    "                    Message(role=\"assistant\", content=\"\", eot=False),\n",
    "                ],\n",
    "                add_end_tokens=False,\n",
    "            )[0]"
   ]
  },
  {
   "cell_type": "code",
   "execution_count": 52,
   "metadata": {},
   "outputs": [
    {
     "data": {
      "text/plain": [
       "'<|begin_of_text|><|start_header_id|>user<|end_header_id|>\\n\\n<|im_start|>userHello, world!<|im_end|><|eot_id|><|start_header_id|>assistant<|end_header_id|>\\n\\n<|im_start|>assistantHello there, nice to meet you! How can I assist you today?<|im_end|><|reserved_special_token_1|>utterstock<|reserved_special_token_1|>\\n```\\n<|im_start|>userI am looking for a good way to learn Spanish. Can you recommend any apps or websites?<|im_end|>\\n```\\n\\n<|im_start|>assistantCertainly, I can help you with that!<|im_end|>Here are some popular language learning apps and websites that you might find helpful:\\n\\n1. Duolingo'"
      ]
     },
     "execution_count": 52,
     "metadata": {},
     "output_type": "execute_result"
    }
   ],
   "source": [
    "from torchtune.generation import generate\n",
    "\n",
    "\n",
    "tokenizer.tokenize_messages\n",
    "\n",
    "tokens, logits = generate(\n",
    "    model=model,\n",
    "    prompt=torch.tensor(\n",
    "        [\n",
    "            tokenizer.tokenize_messages(\n",
    "                [\n",
    "                    Message(role=\"user\", content=\"Hello, world!\", masked=True),\n",
    "                ],\n",
    "                add_end_tokens=False,\n",
    "            )[0]\n",
    "        ]\n",
    "    ).to(\"cuda\"),\n",
    "    max_generated_tokens=100,\n",
    "    stop_tokens=tokenizer.stop_tokens,\n",
    ")\n",
    "tokenizer.decode(list(tokens[0]), skip_special_tokens=False)"
   ]
  },
  {
   "cell_type": "code",
   "execution_count": 29,
   "metadata": {},
   "outputs": [
    {
     "data": {
      "text/plain": [
       "'#\\n\\nI! I! Iitle'"
      ]
     },
     "execution_count": 29,
     "metadata": {},
     "output_type": "execute_result"
    }
   ],
   "source": [
    "response = model.forward(torch.tensor([tokenizer.tokenize_message(Message(role=\"user\", content=\"Hello, world!\"))]))\n",
    "\n",
    "tokenizer.decode(token_ids=response.argmax(dim=-1).squeeze().tolist(), skip_special_tokens=False)"
   ]
  }
 ],
 "metadata": {
  "kernelspec": {
   "display_name": ".venv",
   "language": "python",
   "name": "python3"
  },
  "language_info": {
   "codemirror_mode": {
    "name": "ipython",
    "version": 3
   },
   "file_extension": ".py",
   "mimetype": "text/x-python",
   "name": "python",
   "nbconvert_exporter": "python",
   "pygments_lexer": "ipython3",
   "version": "3.12.7"
  }
 },
 "nbformat": 4,
 "nbformat_minor": 2
}
