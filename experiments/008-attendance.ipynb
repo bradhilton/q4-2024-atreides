{
 "cells": [
  {
   "cell_type": "code",
   "execution_count": null,
   "metadata": {},
   "outputs": [],
   "source": [
    "from dotenv import load_dotenv\n",
    "import os\n",
    "import pandas as pd\n",
    "import requests\n",
    "from typing import Optional\n",
    "\n",
    "load_dotenv()\n",
    "\n",
    "\n",
    "def get_attendance(from_to: Optional[tuple[str, str]] = None) -> pd.DataFrame:\n",
    "    return pd.DataFrame(\n",
    "        [\n",
    "            {\n",
    "                \"uuid\": attendee[\"uuid\"],\n",
    "                \"displayName\": attendee[\"displayName\"],\n",
    "                **{\n",
    "                    entry[\"date\"][\"isoYearMonthDay\"]: entry[\"isMarkedAttended\"]\n",
    "                    for entry in attendee[\"entries\"] or []\n",
    "                    if pd.to_datetime(entry[\"date\"][\"isoYearMonthDay\"]).day\n",
    "                    in set(range(8, 15)).union(range(22, 29))\n",
    "                },\n",
    "            }\n",
    "            for attendee in requests.get(\n",
    "                os.getenv(\"ATTENDANCE_URL\", \"\")\n",
    "                + (f\"/start/{from_to[0]}/end/{from_to[1]}\" if from_to else \"\"),\n",
    "                {\"lang\": \"eng\"},\n",
    "                headers={\n",
    "                    \"Cookie\": os.getenv(\"ATTENDANCE_COOKIE\", \"\"),\n",
    "                },\n",
    "            ).json()[\"attendanceData\"][\"attendees\"]\n",
    "            if from_to\n",
    "            or \"becef79e-6486-4c26-a9c8-1a308448c33d\" in attendee[\"unitOrgsCombined\"]\n",
    "        ]\n",
    "    ).drop(columns=[\"displayName\"] if from_to else [])\n",
    "\n",
    "\n",
    "attendance = get_attendance().merge(\n",
    "    get_attendance((\"2025-01-25\", \"2025-04-27\")), on=\"uuid\", suffixes=(\"\", \"_duplicate\")\n",
    ")\n",
    "attendance.drop(\n",
    "    columns=[col for col in attendance.columns if col.endswith(\"_duplicate\")],\n",
    "    inplace=True,\n",
    ")\n",
    "attendance.drop(columns=[\"uuid\"], inplace=True)\n",
    "attendance.drop(columns=attendance.columns[~attendance.any()], inplace=True)\n",
    "attendance.set_index(\"displayName\", inplace=True)\n",
    "attendance.index.name = None\n",
    "attendance.sort_index(inplace=True)\n",
    "attendance.sort_index(axis=1, inplace=True)\n",
    "attendance.columns = attendance.columns.str.replace(r\"202\\d-\", \"\", regex=True).str.replace(\"-\", \"/\")\n",
    "attendance"
   ]
  },
  {
   "cell_type": "code",
   "execution_count": null,
   "metadata": {},
   "outputs": [],
   "source": [
    "meetings_attended = attendance.sum(axis=1)\n",
    "meetings_attended"
   ]
  },
  {
   "cell_type": "code",
   "execution_count": null,
   "metadata": {},
   "outputs": [],
   "source": [
    "for name in meetings_attended[meetings_attended > 1].index:\n",
    "    print(name)"
   ]
  },
  {
   "cell_type": "code",
   "execution_count": null,
   "metadata": {},
   "outputs": [],
   "source": [
    "for name in meetings_attended[meetings_attended == 0].index:\n",
    "    print(\"*\", name)"
   ]
  },
  {
   "cell_type": "code",
   "execution_count": null,
   "metadata": {},
   "outputs": [],
   "source": [
    "(\n",
    "    attendance[attendance.any(axis=1)]\n",
    "    .sort_index(key=lambda x: meetings_attended[x])\n",
    "    .replace({True: \"✅\", False: \"❌\"})\n",
    "    .style\n",
    "    # .set_properties(**{\n",
    "    #     'font-size': '14pt',\n",
    "    # })\n",
    "    .set_table_styles([\n",
    "        {'selector': 'th', 'props': [('font-size', '14pt')]}\n",
    "    ])\n",
    ")"
   ]
  },
  {
   "cell_type": "code",
   "execution_count": null,
   "metadata": {},
   "outputs": [],
   "source": [
    "attendance.T[(attendance.T.mean() - attendance.T.ewm(span=5).mean()[-1:].T.squeeze()).sort_values(ascending=False).head(10).index]"
   ]
  }
 ],
 "metadata": {
  "kernelspec": {
   "display_name": ".venv",
   "language": "python",
   "name": "python3"
  },
  "language_info": {
   "codemirror_mode": {
    "name": "ipython",
    "version": 3
   },
   "file_extension": ".py",
   "mimetype": "text/x-python",
   "name": "python",
   "nbconvert_exporter": "python",
   "pygments_lexer": "ipython3",
   "version": "3.12.4"
  }
 },
 "nbformat": 4,
 "nbformat_minor": 2
}
