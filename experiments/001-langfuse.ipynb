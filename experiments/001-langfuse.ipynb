{
 "cells": [
  {
   "cell_type": "code",
   "execution_count": 21,
   "metadata": {},
   "outputs": [
    {
     "data": {
      "application/vnd.jupyter.widget-view+json": {
       "model_id": "c24bd291a3624745a7cadcbed03b7cd8",
       "version_major": 2,
       "version_minor": 0
      },
      "text/plain": [
       "  0%|          | 0/23 [00:00<?, ?it/s]"
      ]
     },
     "metadata": {},
     "output_type": "display_data"
    },
    {
     "data": {
      "text/plain": [
       "True"
      ]
     },
     "execution_count": 21,
     "metadata": {},
     "output_type": "execute_result"
    }
   ],
   "source": [
    "import re\n",
    "from tqdm.notebook import tqdm_notebook\n",
    "\n",
    "string = \"1|23|Loss: 0.6240: 100%|██████████| 23/23 [07:14<00:00, 18.50s/it, advantage=0.0000, advantage_prediction=1.6700, ce=1.1818, entropy=0.8365, entropy_target=0.2365, exploration=1.1376, kl_div=0.4246, policy=0.2253, reinforce=-0.2151, tanh_log_policy=-0.0227, unclipped_policy=0.1026, value=0.0000, weighted_ce=-0.2151, weighted_entropy=0.1519, weighted_kl_div=0.0671]\"\n",
    "\n",
    "def update_tqdm_from_string(string: str, pbar: tqdm_notebook) -> None:\n",
    "    \"\"\"Updates a tqdm progress bar state from a progress string.\n",
    "    \n",
    "    Args:\n",
    "        string: The progress string to parse\n",
    "        pbar: The tqdm progress bar to update\n",
    "    \"\"\"\n",
    "    # Extract main progress components\n",
    "    # pbar.reset()\n",
    "    match = re.match(r\"(\\d+)\\|(\\d+)\\|Loss: ([\\d.]+):\", string)\n",
    "    if match:\n",
    "        epoch, step, loss = match.groups()\n",
    "        pbar.update(int(step) - pbar.n)\n",
    "\n",
    "    pbar.set_description(f\"{epoch}|{step}|Loss: {loss}\")\n",
    "        \n",
    "    # Extract postfix metrics\n",
    "    metrics = {}\n",
    "    for metric_str in re.findall(r\"(\\w+)=([\\d.-]+)\", string):\n",
    "        key, value = metric_str\n",
    "        metrics[key] = float(value)\n",
    "        \n",
    "    if metrics:\n",
    "        pbar.set_postfix(**metrics)\n",
    "\n",
    "pbar = tqdm_notebook(total=23)\n",
    "update_tqdm_from_string(string, pbar)\n",
    "pbar.update()\n",
    "pbar.update()\n",
    "pbar.refresh()"
   ]
  },
  {
   "cell_type": "code",
   "execution_count": 3,
   "metadata": {},
   "outputs": [],
   "source": [
    "from dotenv import load_dotenv\n",
    "from langfuse import Langfuse\n",
    "from langfuse.openai import AsyncOpenAI\n",
    "\n",
    "load_dotenv()\n",
    "\n",
    "langfuse = Langfuse()"
   ]
  },
  {
   "cell_type": "code",
   "execution_count": 4,
   "metadata": {},
   "outputs": [
    {
     "data": {
      "text/plain": [
       "True"
      ]
     },
     "execution_count": 4,
     "metadata": {},
     "output_type": "execute_result"
    }
   ],
   "source": [
    "langfuse.enabled"
   ]
  },
  {
   "cell_type": "code",
   "execution_count": 5,
   "metadata": {},
   "outputs": [
    {
     "data": {
      "text/plain": [
       "'pk-lf-3598930a-f80e-4074-a6d4-24579d0d2605'"
      ]
     },
     "execution_count": 5,
     "metadata": {},
     "output_type": "execute_result"
    }
   ],
   "source": [
    "import os\n",
    "os.environ[\"LANGFUSE_PUBLIC_KEY\"]"
   ]
  },
  {
   "cell_type": "code",
   "execution_count": 6,
   "metadata": {},
   "outputs": [
    {
     "data": {
      "text/plain": [
       "True"
      ]
     },
     "execution_count": 6,
     "metadata": {},
     "output_type": "execute_result"
    }
   ],
   "source": [
    "langfuse.auth_check()"
   ]
  },
  {
   "cell_type": "code",
   "execution_count": 2,
   "metadata": {},
   "outputs": [],
   "source": [
    "from langfuse.decorators import observe\n",
    "from langfuse.openai import openai\n",
    "\n",
    "\n",
    "@observe\n",
    "def test() -> None:\n",
    "    openai.chat.completions.create(\n",
    "        model=\"gpt-4o\",\n",
    "        messages=[{\"role\": \"user\", \"content\": \"Hello, world!\"}],\n",
    "    )\n",
    "\n",
    "test()"
   ]
  },
  {
   "cell_type": "code",
   "execution_count": 2,
   "metadata": {},
   "outputs": [
    {
     "data": {
      "text/plain": [
       "True"
      ]
     },
     "execution_count": 2,
     "metadata": {},
     "output_type": "execute_result"
    }
   ],
   "source": [
    "langfuse.enabled"
   ]
  }
 ],
 "metadata": {
  "kernelspec": {
   "display_name": ".venv",
   "language": "python",
   "name": "python3"
  },
  "language_info": {
   "codemirror_mode": {
    "name": "ipython",
    "version": 3
   },
   "file_extension": ".py",
   "mimetype": "text/x-python",
   "name": "python",
   "nbconvert_exporter": "python",
   "pygments_lexer": "ipython3",
   "version": "3.12.5"
  }
 },
 "nbformat": 4,
 "nbformat_minor": 2
}
