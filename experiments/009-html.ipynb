{
 "cells": [
  {
   "cell_type": "code",
   "execution_count": 1,
   "metadata": {},
   "outputs": [],
   "source": [
    "%load_ext autoreload\n",
    "%autoreload 2"
   ]
  },
  {
   "cell_type": "code",
   "execution_count": null,
   "metadata": {},
   "outputs": [],
   "source": [
    "from lib.rl.trajectory import serve_trajectory_batch_api\n",
    "\n",
    "server = serve_trajectory_batch_api(None)"
   ]
  },
  {
   "cell_type": "code",
   "execution_count": 4,
   "metadata": {},
   "outputs": [
    {
     "data": {
      "text/plain": [
       "11847"
      ]
     },
     "execution_count": 4,
     "metadata": {},
     "output_type": "execute_result"
    }
   ],
   "source": [
    "import os\n",
    "\n",
    "os.getpid()"
   ]
  },
  {
   "cell_type": "code",
   "execution_count": null,
   "metadata": {},
   "outputs": [],
   "source": [
    "import requests\n",
    "\n",
    "requests.get(\"http://localhost:8000/\")"
   ]
  },
  {
   "cell_type": "code",
   "execution_count": null,
   "metadata": {},
   "outputs": [],
   "source": [
    "from lib.rl.trajectory import TrajectoryBatchRequest\n",
    "import requests\n",
    "\n",
    "response = requests.post(\n",
    "    \"http://localhost:8000/trajectory-batch\",\n",
    "    json=TrajectoryBatchRequest(\n",
    "        dir=\"./tensors\", rows=1_000, seqlen=8192, start=0, stop=10\n",
    "    ).model_dump(mode=\"json\"),\n",
    "    timeout=5,\n",
    ")\n",
    "response"
   ]
  },
  {
   "cell_type": "code",
   "execution_count": 6,
   "metadata": {},
   "outputs": [
    {
     "name": "stdout",
     "output_type": "stream",
     "text": [
      "INFO 11-08 20:01:28 llm_engine.py:237] Initializing an LLM engine (vdev) with config: model='NousResearch/Hermes-2-Theta-Llama-3-8B', speculative_config=None, tokenizer='NousResearch/Hermes-2-Theta-Llama-3-8B', skip_tokenizer_init=False, tokenizer_mode=auto, revision=None, override_neuron_config=None, rope_scaling=None, rope_theta=None, tokenizer_revision=None, trust_remote_code=False, dtype=torch.bfloat16, max_seq_len=8192, download_dir=None, load_format=LoadFormat.AUTO, tensor_parallel_size=1, pipeline_parallel_size=1, disable_custom_all_reduce=False, quantization=None, enforce_eager=False, kv_cache_dtype=auto, quantization_param_path=None, device_config=cuda, decoding_config=DecodingConfig(guided_decoding_backend='outlines'), observability_config=ObservabilityConfig(otlp_traces_endpoint=None, collect_model_forward_time=False, collect_model_execute_time=False), seed=0, served_model_name=NousResearch/Hermes-2-Theta-Llama-3-8B, use_v2_block_manager=True, num_scheduler_steps=1, chunked_prefill_enabled=False multi_step_stream_outputs=True, enable_prefix_caching=False, use_async_output_proc=True, use_cached_outputs=False, mm_processor_kwargs=None)\n"
     ]
    }
   ],
   "source": [
    "from IPython.display import HTML\n",
    "from lib.rl import Completion, Episode\n",
    "from lib.tokenizer import Tokenizer\n",
    "\n",
    "tokenizer = Tokenizer(\"NousResearch/Hermes-2-Theta-Llama-3-8B\")\n",
    "completion = Completion.model_validate_json(open(\"best_trajectory.json\").read())\n",
    "episode = Episode([], lambda _: None)\n",
    "episode.completion = completion\n",
    "terminus = episode.best_leaf(tokenizer=tokenizer)"
   ]
  },
  {
   "cell_type": "code",
   "execution_count": 29,
   "metadata": {},
   "outputs": [
    {
     "data": {
      "text/html": [
       "<div style=\"white-space: pre-wrap\"><b>User</b>:\n",
       "On a cool spring morning Leslie, Natalia, and Riley and sat down to play a competitive mystery game.\n",
       "\n",
       "They assembled 3 stacks of cards, each for a different category of data composed of the following:\n",
       "\n",
       "Suspect:\n",
       "- Miss Scarlet\n",
       "- Mr. Green\n",
       "- Mrs. White\n",
       "\n",
       "Weapon:\n",
       "- Candlestick\n",
       "- Knife\n",
       "- Lead Pipe\n",
       "\n",
       "Room:\n",
       "- Hall\n",
       "- Lounge\n",
       "- Dining Room\n",
       "\n",
       "After randomly (and blindly) choosing one card from each group and placing them in the middle of the table facedown, they shuffled the remaining cards and dealt out the following to each player:\n",
       "\n",
       "- Leslie: 2 cards\n",
       "- Natalia: 2 cards (Lead Pipe and Mr. Green)\n",
       "- Riley: 2 cards\n",
       "\n",
       "The game proceeded as follows:\n",
       "\n",
       "1. On their turn, a player asked about a set of exactly 3 cards, one from each of the game's categories. (Note: Players could ask about any cards, including those in their own hand.)\n",
       "2. The player directed this question to the other players in clockwise order, starting with the player to their left.\n",
       "3. If a player had one or more of the asked-about cards, they had to show one of those cards (of their choice) to the asking player privately. The turn then ended, and play passed to the next player.\n",
       "4. If a player did not have any of the asked-about cards, they said so, and the question passed to the next player in clockwise order.\n",
       "5. This continued until either:\n",
       "a) A player showed a card to the asking player, or\n",
       "b) All the queried players had stated they didn't have any of the asked-about cards.\n",
       "6. After a player's turn ended (either by being shown a card or having all queried players pass), play moved to the next player in clockwise order.\n",
       "\n",
       "Here is how the game played out:\n",
       "\n",
       "Leslie asked if anyone had Mrs. White or the Candlestick or the Lounge:\n",
       "- Natalia did not have any of the cards\n",
       "- Riley showed Leslie a card\n",
       "\n",
       "Natalia asked if anyone had Miss Scarlet or the Candlestick or the Lounge:\n",
       "- Riley showed Natalia the Lounge\n",
       "\n",
       "Riley asked if anyone had Miss Scarlet or the Knife or the Dining Room:\n",
       "- Leslie did not have any of the cards\n",
       "- Natalia did not have any of the cards\n",
       "\n",
       "Leslie asked if anyone had Miss Scarlet or the Knife or the Dining Room:\n",
       "- Natalia did not have any of the cards\n",
       "- Riley did not have any of the cards\n",
       "\n",
       "At this point, Natalia was able to correctly deduce the solution and win the game.\n",
       "\n",
       "What were the facedown cards in the center of the table?\n",
       "\n",
       "<b>Assistant</b>:\n",
       "<span style='background-color: rgba(255,0,0, 0.2944809993108114);'>Let</span><span style='background-color: rgba(0,0,255, 0.02590155601501465);'>'s reconstruct the</span><span style='background-color: rgba(0,0,255, 0.03108186721801758);'> game step by step.\n",
       "\n",
       "</span><span style='background-color: rgba(255,0,0, 0.35584799448649085);'>1</span><span style='background-color: rgba(255,0,0, 0.015009774102105022);'>. Leslie asked</span><span style='background-color: rgba(0,0,255, 0.12163734436035156);'> about Mrs</span><span style='background-color: rgba(0,0,255, 0.03830401102701822);'>. White, Candle</span><span style='background-color: rgba(255,0,0, 0.0029890272352430555);'>stick, and Lounge. Riley showed a card</span><span style='background-color: rgba(255,0,0, 0.0269012451171875);'>, so</span><span style='background-color: rgba(255,0,0, 0.4409383138020833);'> it</span><span style='background-color: rgba(0,0,255, 0.059061686197916664);'> must have</span><span style='background-color: rgba(255,0,0, 0.016181098090277776);'> been the Lounge. Since Riley</span><span style='background-color: rgba(0,0,255, 0.0347900390625);'> had the Lounge,</span><span style='background-color: rgba(0,0,255, 0.13916015625);'> they couldn</span><span style='background-color: rgba(0,0,255, 0.07443576388888891);'>'t have the</span><span style='background-color: rgba(255,0,0, 0.11002604166666669);'> Candlestick</span><span style='background-color: rgba(255,0,0, 0.44010416666666674);'> or</span><span style='background-color: rgba(0,0,255, 0.05989583333333333);'> Mrs.</span><span style='background-color: rgba(0,0,255, 0.11979166666666666);'> White.</span><span style='background-color: rgba(0,0,255, 0.03645833333333334);'> Thus, Leslie had</span><span style='background-color: rgba(255,0,0, 0.004166666666666674);'> only the Candlestick left.\n",
       "2. Natalia</span><span style='background-color: rgba(255,0,0, 0.04166666666666663);'> asked about</span><span style='background-color: rgba(0,0,255, 0.0018115942028985503);'> Miss Scarlet, Candlestick, and Lounge. Riley showed her the Lounge. Since Riley showed Natalia the Lounge, they couldn't have the Candlestick or Miss Scarlet. Thus, Natalia had only the Candlestick left.\n",
       "3. Riley asked about Miss Scarlet, Knife, and Dining Room. Both Leslie and Natalia passed, so Riley did not get any information.\n",
       "4. Leslie asked about Miss Scarlet, Knife, and Dining Room. Both Natalia and</span><span style='background-color: rgba(255,0,0, 0.01515151515151515);'> Riley passed, so Leslie did not get any information.\n",
       "\n",
       "At this point, Natalia had deduced the solution</span><span style='background-color: rgba(255,0,0, 0.013888888888888888);'>. She must have realized that Leslie had the Candlestick and Mrs. White, and Riley had the Lounge and Knife.</span><span style='background-color: rgba(0,0,0, 0.0);'> The only possible combination is:\n",
       "\n",
       "- Suspect: Mrs. White\n",
       "- Weapon: Candlestick\n",
       "- Room: Lounge\n",
       "\n",
       "So the facedown cards in the center of the table were Mrs. White, Candlestick, and Lounge.</span></div>"
      ],
      "text/plain": [
       "<IPython.core.display.HTML object>"
      ]
     },
     "execution_count": 29,
     "metadata": {},
     "output_type": "execute_result"
    }
   ],
   "source": [
    "HTML(f'<div style=\"white-space: pre-wrap\">{terminus.html()}</div>')"
   ]
  },
  {
   "cell_type": "code",
   "execution_count": 24,
   "metadata": {},
   "outputs": [
    {
     "data": {
      "text/html": [
       "<div style=\"white-space: pre-wrap\"><b>User</b>:\n",
       "On a cool spring morning Leslie, Natalia, and Riley and sat down to play a competitive mystery game.\n",
       "\n",
       "They assembled 3 stacks of cards, each for a different category of data composed of the following:\n",
       "\n",
       "Suspect:\n",
       "- Miss Scarlet\n",
       "- Mr. Green\n",
       "- Mrs. White\n",
       "\n",
       "Weapon:\n",
       "- Candlestick\n",
       "- Knife\n",
       "- Lead Pipe\n",
       "\n",
       "Room:\n",
       "- Hall\n",
       "- Lounge\n",
       "- Dining Room\n",
       "\n",
       "After randomly (and blindly) choosing one card from each group and placing them in the middle of the table facedown, they shuffled the remaining cards and dealt out the following to each player:\n",
       "\n",
       "- Leslie: 2 cards\n",
       "- Natalia: 2 cards (Lead Pipe and Mr. Green)\n",
       "- Riley: 2 cards\n",
       "\n",
       "The game proceeded as follows:\n",
       "\n",
       "1. On their turn, a player asked about a set of exactly 3 cards, one from each of the game's categories. (Note: Players could ask about any cards, including those in their own hand.)\n",
       "2. The player directed this question to the other players in clockwise order, starting with the player to their left.\n",
       "3. If a player had one or more of the asked-about cards, they had to show one of those cards (of their choice) to the asking player privately. The turn then ended, and play passed to the next player.\n",
       "4. If a player did not have any of the asked-about cards, they said so, and the question passed to the next player in clockwise order.\n",
       "5. This continued until either:\n",
       "a) A player showed a card to the asking player, or\n",
       "b) All the queried players had stated they didn't have any of the asked-about cards.\n",
       "6. After a player's turn ended (either by being shown a card or having all queried players pass), play moved to the next player in clockwise order.\n",
       "\n",
       "Here is how the game played out:\n",
       "\n",
       "Leslie asked if anyone had Mrs. White or the Candlestick or the Lounge:\n",
       "- Natalia did not have any of the cards\n",
       "- Riley showed Leslie a card\n",
       "\n",
       "Natalia asked if anyone had Miss Scarlet or the Candlestick or the Lounge:\n",
       "- Riley showed Natalia the Lounge\n",
       "\n",
       "Riley asked if anyone had Miss Scarlet or the Knife or the Dining Room:\n",
       "- Leslie did not have any of the cards\n",
       "- Natalia did not have any of the cards\n",
       "\n",
       "Leslie asked if anyone had Miss Scarlet or the Knife or the Dining Room:\n",
       "- Natalia did not have any of the cards\n",
       "- Riley did not have any of the cards\n",
       "\n",
       "At this point, Natalia was able to correctly deduce the solution and win the game.\n",
       "\n",
       "What were the facedown cards in the center of the table?\n",
       "\n",
       "<b>Assistant</b>:\n",
       "<span style='background-color: rgba(0,0,255, 0.005695957433477977);'>Let's break down the information we have:\n",
       "\n",
       "1. Natalia initially had the Lead Pipe and Mr. Green cards.\n",
       "2. Riley showed Leslie a card when Leslie asked about Mrs. White, the Candlestick, and the Lounge.\n",
       "3. Riley showed Natalia the Lounge when Natalia asked about Miss Scarlet, the Candlestick, and the Lounge.\n",
       "4. Leslie did not have any of the cards when Riley asked about Miss Scarlet, the Knife, and the Dining Room.\n",
       "5. Natalia did not have any of the cards when Leslie asked about Miss Scarlet, the Knife, and the Dining Room.\n",
       "6. Riley did not have any of the cards when Leslie asked about Miss Scarlet, the Knife, and the Dining Room.\n",
       "\n",
       "From point 3, we know that Riley has the Lounge card.\n",
       "\n",
       "From point 2, we can infer that Riley does not have the Mrs. White or Candlestick cards, as they showed Leslie a card other than those. So, Riley must have the Lounge, and one of the other two cards (Mrs. White or Candlestick) must be in the center of the table.\n",
       "\n",
       "From point 4, we know that Leslie does not have the Miss Scarlet, Knife, or Dining Room cards.\n",
       "\n",
       "From point 5, we know that Natalia does not have the Miss Scarlet, Knife, or Dining Room cards.\n",
       "\n",
       "From point 6, we know that Riley does not have the Miss Scarlet, Knife, or Dining Room cards.\n",
       "\n",
       "This means that the Miss Scarlet, Knife, and Dining Room cards must be in the center of the table.\n",
       "\n",
       "Now, let's consider the remaining cards:\n",
       "\n",
       "- Mr. Green: We know Natalia initially had this card, but we don't know if she still has it or if she showed it to someone. Since Leslie and Riley didn't have it, it must be in the center of the table.\n",
       "- Candlestick: We know Riley doesn't have it, and Leslie and Natalia didn't have it at any point. So, it must be in the center of the table.\n",
       "- Mrs. White: We know Riley doesn't have it, and Leslie and Natalia didn't have it at any point. So, it must be in the center of the table.\n",
       "\n",
       "With this information, we can deduce the facedown cards in the center of the table:\n",
       "\n",
       "- Suspect: Miss Scarlet\n",
       "- Weapon: Knife\n",
       "- Room: Dining Room\n",
       "\n",
       "The final solution is Miss Scarlet with the Knife in the Dining Room. Natalia correctly deduced this solution after Leslie's last question.</span></div>"
      ],
      "text/plain": [
       "<IPython.core.display.HTML object>"
      ]
     },
     "metadata": {},
     "output_type": "display_data"
    }
   ],
   "source": [
    "for leaf in completion.leaves():\n",
    "    if leaf.value() == 1.0:\n",
    "        display(HTML(f'<div style=\"white-space: pre-wrap\">{leaf.html()}</div>'))\n",
    "        break"
   ]
  },
  {
   "cell_type": "code",
   "execution_count": 27,
   "metadata": {},
   "outputs": [
    {
     "data": {
      "text/plain": [
       "0.2944809993108114"
      ]
     },
     "execution_count": 27,
     "metadata": {},
     "output_type": "execute_result"
    }
   ],
   "source": [
    "leaf.advantage()"
   ]
  }
 ],
 "metadata": {
  "kernelspec": {
   "display_name": ".venv",
   "language": "python",
   "name": "python3"
  },
  "language_info": {
   "codemirror_mode": {
    "name": "ipython",
    "version": 3
   },
   "file_extension": ".py",
   "mimetype": "text/x-python",
   "name": "python",
   "nbconvert_exporter": "python",
   "pygments_lexer": "ipython3",
   "version": "3.12.5"
  }
 },
 "nbformat": 4,
 "nbformat_minor": 2
}
