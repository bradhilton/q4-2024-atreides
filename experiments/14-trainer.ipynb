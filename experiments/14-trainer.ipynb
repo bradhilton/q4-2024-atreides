{
 "cells": [
  {
   "cell_type": "code",
   "execution_count": 1,
   "metadata": {},
   "outputs": [],
   "source": [
    "%load_ext autoreload\n",
    "%autoreload 2"
   ]
  },
  {
   "cell_type": "code",
   "execution_count": 2,
   "metadata": {},
   "outputs": [
    {
     "data": {
      "text/html": [
       "<style>\n",
       ".cell-output-ipywidget-background {\n",
       "    background-color: transparent !important;\n",
       "}\n",
       ":root {\n",
       "    --jp-widgets-color: var(--vscode-editor-foreground);\n",
       "    --jp-widgets-font-size: var(--vscode-editor-font-size);\n",
       "}  \n",
       "</style>\n"
      ],
      "text/plain": [
       "<IPython.core.display.HTML object>"
      ]
     },
     "metadata": {},
     "output_type": "display_data"
    }
   ],
   "source": [
    "%%html\n",
    "<style>\n",
    ".cell-output-ipywidget-background {\n",
    "    background-color: transparent !important;\n",
    "}\n",
    ":root {\n",
    "    --jp-widgets-color: var(--vscode-editor-foreground);\n",
    "    --jp-widgets-font-size: var(--vscode-editor-font-size);\n",
    "}  \n",
    "</style>"
   ]
  },
  {
   "cell_type": "code",
   "execution_count": 3,
   "metadata": {},
   "outputs": [
    {
     "name": "stderr",
     "output_type": "stream",
     "text": [
      "/home/ubuntu/atreides/.venv/lib/python3.12/site-packages/vllm/connections.py:8: RuntimeWarning: Failed to read commit hash:\n",
      "No module named 'vllm._version'\n",
      "  from vllm.version import __version__ as VLLM_VERSION\n"
     ]
    },
    {
     "name": "stdout",
     "output_type": "stream",
     "text": [
      "INFO 11-21 04:31:46 llm_engine.py:237] Initializing an LLM engine (vdev) with config: model='NousResearch/Hermes-2-Theta-Llama-3-8B', speculative_config=None, tokenizer='NousResearch/Hermes-2-Theta-Llama-3-8B', skip_tokenizer_init=False, tokenizer_mode=auto, revision=None, override_neuron_config=None, rope_scaling=None, rope_theta=None, tokenizer_revision=None, trust_remote_code=False, dtype=torch.bfloat16, max_seq_len=8192, download_dir=None, load_format=LoadFormat.AUTO, tensor_parallel_size=1, pipeline_parallel_size=1, disable_custom_all_reduce=False, quantization=None, enforce_eager=False, kv_cache_dtype=auto, quantization_param_path=None, device_config=cuda, decoding_config=DecodingConfig(guided_decoding_backend='outlines'), observability_config=ObservabilityConfig(otlp_traces_endpoint=None, collect_model_forward_time=False, collect_model_execute_time=False), seed=0, served_model_name=NousResearch/Hermes-2-Theta-Llama-3-8B, use_v2_block_manager=True, num_scheduler_steps=1, chunked_prefill_enabled=False multi_step_stream_outputs=True, enable_prefix_caching=False, use_async_output_proc=True, use_cached_outputs=False, mm_processor_kwargs=None)\n"
     ]
    }
   ],
   "source": [
    "import asyncio\n",
    "from lib.clue import Clue, DeductiveSolver\n",
    "from lib.rl.episode import Episode, EpisodeCompletion\n",
    "from lib.rl.trainer import Trainer\n",
    "import re\n",
    "\n",
    "\n",
    "def sample_random_episode() -> Episode:\n",
    "    game = Clue(\n",
    "        num_players=3,\n",
    "        elements={\n",
    "            \"suspect\": Clue.suspects[:3],\n",
    "            \"weapon\": Clue.weapons[:3],\n",
    "            \"room\": Clue.rooms[:3],\n",
    "            # \"motive\": Clue.motives[:6],\n",
    "            # \"time\": Clue.get_times(\"21:00\", \"03:00\", \"1h\"),\n",
    "        },\n",
    "    )\n",
    "    game.play(\n",
    "        deductive_solver=DeductiveSolver(\n",
    "            # note_cards_in_hand=False,\n",
    "            # note_responses_to_suggestions=False,\n",
    "            # note_cards_that_players_do_not_have=False,\n",
    "            # check_unique_card_placement_constraints=False,\n",
    "            # check_player_hand_size_constraints=False,\n",
    "            check_solution_has_one_and_only_one_card_per_element=False,\n",
    "            check_one_of_constraints=False,\n",
    "            check_inverse_one_of_constraints=False,\n",
    "            merge_and_check_disjoint_inverse_one_of_constraints=False,\n",
    "            exhaustively_test_possible_assignments=False,\n",
    "        ),\n",
    "        cp_solver_max_solve_time_per_turn=0.01,\n",
    "        check_cp_solver_grid=False,\n",
    "        check_if_deductive_solver_and_cp_solver_grids_match=False,\n",
    "        print_playthrough=False,\n",
    "    )\n",
    "    prompt = game.get_prompt()\n",
    "    follow_up = \"Fill out your answer like this:\\n\" + \"\\n\".join(\n",
    "        f\"{element.capitalize()}: <#{element.upper()}#>\" for element in game.elements\n",
    "    )\n",
    "\n",
    "    async def reward_completion(completion: EpisodeCompletion) -> EpisodeCompletion:\n",
    "        if len(completion.messages) == 2:\n",
    "            completion = await completion.follow_up(\n",
    "                messages=[\n",
    "                    {\"role\": \"user\", \"content\": follow_up},\n",
    "                ]\n",
    "            )\n",
    "        answer = completion.last_assistant_message.get(\"content\")\n",
    "        assert isinstance(answer, str)\n",
    "        completion.reward = sum(\n",
    "            [\n",
    "                bool(\n",
    "                    re.search(\n",
    "                        f\"{element}: {solution}\",\n",
    "                        answer,\n",
    "                        re.IGNORECASE,\n",
    "                    )\n",
    "                )\n",
    "                for element, solution in game.solution.items()\n",
    "            ]\n",
    "        ) / len(game.solution)\n",
    "        return completion\n",
    "\n",
    "    async def on_sample(completions: list[EpisodeCompletion]) -> None:\n",
    "        for completion in await asyncio.gather(\n",
    "            *[reward_completion(completion) for completion in completions]\n",
    "        ):\n",
    "            completion.commit()\n",
    "\n",
    "    return Episode(\n",
    "        messages=[{\"role\": \"user\", \"content\": prompt}],\n",
    "        on_sample=on_sample,\n",
    "    )\n",
    "\n",
    "\n",
    "def train_episodes():\n",
    "    while True:\n",
    "        yield sample_random_episode()\n",
    "\n",
    "\n",
    "trainer = Trainer(\n",
    "    base_model=\"NousResearch/Hermes-2-Theta-Llama-3-8B\",\n",
    "    samples_per_episode=16,\n",
    "    branch_factor=2,\n",
    "    train_episodes=train_episodes(),\n",
    "    episodes_per_iteration=64,\n",
    "    val_episodes=[sample_random_episode() for _ in range(64)],\n",
    "    tune_sequence_length=16384,\n",
    "    vllm_kwargs=dict(disable_log_requests=True),\n",
    "    vllm_max_concurrent_requests=256,\n",
    ")"
   ]
  },
  {
   "cell_type": "code",
   "execution_count": 4,
   "metadata": {},
   "outputs": [
    {
     "name": "stdout",
     "output_type": "stream",
     "text": [
      "$ vllm serve NousResearch/Hermes-2-Theta-Llama-3-8B --disable-log-requests --api-key=default\n"
     ]
    },
    {
     "name": "stderr",
     "output_type": "stream",
     "text": [
      "/home/ubuntu/atreides/.venv/lib/python3.12/site-packages/vllm/connections.py:8: RuntimeWarning: Failed to read commit hash:\n",
      "No module named 'vllm._version'\n",
      "  from vllm.version import __version__ as VLLM_VERSION\n"
     ]
    },
    {
     "name": "stdout",
     "output_type": "stream",
     "text": [
      "INFO 11-21 04:31:51 api_server.py:528] vLLM API server version dev\n",
      "INFO 11-21 04:31:51 api_server.py:529] args: Namespace(subparser='serve', model_tag='NousResearch/Hermes-2-Theta-Llama-3-8B', config='', host=None, port=8000, uvicorn_log_level='info', allow_credentials=False, allowed_origins=['*'], allowed_methods=['*'], allowed_headers=['*'], api_key='default', lora_modules=None, prompt_adapters=None, chat_template=None, response_role='assistant', ssl_keyfile=None, ssl_certfile=None, ssl_ca_certs=None, ssl_cert_reqs=0, root_path=None, middleware=[], return_tokens_as_token_ids=False, disable_frontend_multiprocessing=False, enable_auto_tool_choice=False, tool_call_parser=None, tool_parser_plugin='', model='NousResearch/Hermes-2-Theta-Llama-3-8B', tokenizer=None, skip_tokenizer_init=False, revision=None, code_revision=None, tokenizer_revision=None, tokenizer_mode='auto', trust_remote_code=False, download_dir=None, load_format='auto', config_format='auto', dtype='auto', kv_cache_dtype='auto', quantization_param_path=None, max_model_len=None, guided_decoding_backend='outlines', distributed_executor_backend=None, worker_use_ray=False, pipeline_parallel_size=1, tensor_parallel_size=1, max_parallel_loading_workers=None, ray_workers_use_nsight=False, block_size=16, enable_prefix_caching=False, disable_sliding_window=False, use_v2_block_manager=True, num_lookahead_slots=0, seed=0, swap_space=4, cpu_offload_gb=0, gpu_memory_utilization=0.9, num_gpu_blocks_override=None, max_num_batched_tokens=None, max_num_seqs=256, max_logprobs=20, disable_log_stats=False, quantization=None, rope_scaling=None, rope_theta=None, enforce_eager=False, max_context_len_to_capture=None, max_seq_len_to_capture=8192, disable_custom_all_reduce=False, tokenizer_pool_size=0, tokenizer_pool_type='ray', tokenizer_pool_extra_config=None, limit_mm_per_prompt=None, mm_processor_kwargs=None, enable_lora=False, max_loras=1, max_lora_rank=16, lora_extra_vocab_size=256, lora_dtype='auto', long_lora_scaling_factors=None, max_cpu_loras=None, fully_sharded_loras=False, enable_prompt_adapter=False, max_prompt_adapters=1, max_prompt_adapter_token=0, device='auto', num_scheduler_steps=1, multi_step_stream_outputs=True, scheduler_delay_factor=0.0, enable_chunked_prefill=None, speculative_model=None, speculative_model_quantization=None, num_speculative_tokens=None, speculative_disable_mqa_scorer=False, speculative_draft_tensor_parallel_size=None, speculative_max_model_len=None, speculative_disable_by_batch_size=None, ngram_prompt_lookup_max=None, ngram_prompt_lookup_min=None, spec_decoding_acceptance_method='rejection_sampler', typical_acceptance_sampler_posterior_threshold=None, typical_acceptance_sampler_posterior_alpha=None, disable_logprobs_during_spec_decoding=None, model_loader_extra_config=None, ignore_patterns=[], preemption_mode=None, served_model_name=None, qlora_adapter_name_or_path=None, otlp_traces_endpoint=None, collect_detailed_traces=None, disable_async_output_proc=False, override_neuron_config=None, scheduling_policy='fcfs', disable_log_requests=True, max_log_len=None, disable_fastapi_docs=False, dispatch_function=<function serve at 0x7c63b9808cc0>)\n",
      "INFO 11-21 04:31:51 api_server.py:166] Multiprocessing frontend to use ipc:///tmp/526d3ba5-29a2-47f1-bab3-f37071dc94ae for IPC Path.\n",
      "INFO 11-21 04:31:51 api_server.py:179] Started engine process with PID 24284\n"
     ]
    },
    {
     "name": "stderr",
     "output_type": "stream",
     "text": [
      "/home/ubuntu/atreides/.venv/lib/python3.12/site-packages/vllm/connections.py:8: RuntimeWarning: Failed to read commit hash:\n",
      "No module named 'vllm._version'\n",
      "  from vllm.version import __version__ as VLLM_VERSION\n"
     ]
    },
    {
     "name": "stdout",
     "output_type": "stream",
     "text": [
      "INFO 11-21 04:31:59 llm_engine.py:237] Initializing an LLM engine (vdev) with config: model='NousResearch/Hermes-2-Theta-Llama-3-8B', speculative_config=None, tokenizer='NousResearch/Hermes-2-Theta-Llama-3-8B', skip_tokenizer_init=False, tokenizer_mode=auto, revision=None, override_neuron_config=None, rope_scaling=None, rope_theta=None, tokenizer_revision=None, trust_remote_code=False, dtype=torch.bfloat16, max_seq_len=8192, download_dir=None, load_format=LoadFormat.AUTO, tensor_parallel_size=1, pipeline_parallel_size=1, disable_custom_all_reduce=False, quantization=None, enforce_eager=False, kv_cache_dtype=auto, quantization_param_path=None, device_config=cuda, decoding_config=DecodingConfig(guided_decoding_backend='outlines'), observability_config=ObservabilityConfig(otlp_traces_endpoint=None, collect_model_forward_time=False, collect_model_execute_time=False), seed=0, served_model_name=NousResearch/Hermes-2-Theta-Llama-3-8B, use_v2_block_manager=True, num_scheduler_steps=1, chunked_prefill_enabled=False multi_step_stream_outputs=True, enable_prefix_caching=False, use_async_output_proc=True, use_cached_outputs=True, mm_processor_kwargs=None)\n",
      "INFO 11-21 04:32:00 model_runner.py:1060] Starting to load model NousResearch/Hermes-2-Theta-Llama-3-8B...\n",
      "INFO 11-21 04:32:00 weight_utils.py:243] Using model weights format ['*.safetensors']\n"
     ]
    },
    {
     "name": "stderr",
     "output_type": "stream",
     "text": [
      "Loading safetensors checkpoint shards:   0% Completed | 0/4 [00:00<?, ?it/s]\n",
      "Loading safetensors checkpoint shards:  25% Completed | 1/4 [00:00<00:02,  1.31it/s]\n",
      "Loading safetensors checkpoint shards:  50% Completed | 2/4 [00:01<00:01,  1.33it/s]\n",
      "Loading safetensors checkpoint shards:  75% Completed | 3/4 [00:01<00:00,  1.99it/s]\n",
      "Loading safetensors checkpoint shards: 100% Completed | 4/4 [00:02<00:00,  1.70it/s]\n",
      "Loading safetensors checkpoint shards: 100% Completed | 4/4 [00:02<00:00,  1.64it/s]\n",
      "\n"
     ]
    },
    {
     "name": "stdout",
     "output_type": "stream",
     "text": [
      "INFO 11-21 04:32:03 model_runner.py:1071] Loading model weights took 14.9595 GB\n",
      "INFO 11-21 04:32:03 gpu_executor.py:122] # GPU blocks: 27864, # CPU blocks: 2048\n",
      "INFO 11-21 04:32:03 gpu_executor.py:126] Maximum concurrency for 8192 tokens per request: 54.42x\n",
      "INFO 11-21 04:32:05 model_runner.py:1402] Capturing the model for CUDA graphs. This may lead to unexpected consequences if the model is not static. To run the model in eager mode, set 'enforce_eager=True' or use '--enforce-eager' in the CLI.\n",
      "INFO 11-21 04:32:05 model_runner.py:1406] CUDA graphs can take additional 1~3 GiB memory per GPU. If you are running out of memory, consider decreasing `gpu_memory_utilization` or enforcing eager mode. You can also reduce the `max_num_seqs` as needed to decrease memory usage.\n",
      "INFO 11-21 04:32:11 model_runner.py:1530] Graph capturing finished in 7 secs.\n",
      "INFO 11-21 04:32:12 api_server.py:232] vLLM to use /tmp/tmppn1hg14b as PROMETHEUS_MULTIPROC_DIR\n",
      "WARNING 11-21 04:32:12 serving_embedding.py:199] embedding_mode is False. Embedding API will not work.\n",
      "INFO 11-21 04:32:12 launcher.py:19] Available routes are:\n",
      "INFO 11-21 04:32:12 launcher.py:27] Route: /openapi.json, Methods: GET, HEAD\n",
      "INFO 11-21 04:32:12 launcher.py:27] Route: /docs, Methods: GET, HEAD\n",
      "INFO 11-21 04:32:12 launcher.py:27] Route: /docs/oauth2-redirect, Methods: GET, HEAD\n",
      "INFO 11-21 04:32:12 launcher.py:27] Route: /redoc, Methods: GET, HEAD\n",
      "INFO 11-21 04:32:12 launcher.py:27] Route: /health, Methods: GET\n",
      "INFO 11-21 04:32:12 launcher.py:27] Route: /tokenize, Methods: POST\n",
      "INFO 11-21 04:32:12 launcher.py:27] Route: /detokenize, Methods: POST\n",
      "INFO 11-21 04:32:12 launcher.py:27] Route: /v1/models, Methods: GET\n",
      "INFO 11-21 04:32:12 launcher.py:27] Route: /version, Methods: GET\n",
      "INFO 11-21 04:32:12 launcher.py:27] Route: /v1/chat/completions, Methods: POST\n",
      "INFO 11-21 04:32:12 launcher.py:27] Route: /v1/completions, Methods: POST\n",
      "INFO 11-21 04:32:12 launcher.py:27] Route: /v1/embeddings, Methods: POST\n"
     ]
    },
    {
     "name": "stderr",
     "output_type": "stream",
     "text": [
      "INFO:     Started server process [24248]\n",
      "INFO:     Waiting for application startup.\n",
      "INFO:     Application startup complete.\n",
      "INFO:     Uvicorn running on socket ('0.0.0.0', 8000) (Press CTRL+C to quit)\n"
     ]
    },
    {
     "name": "stdout",
     "output_type": "stream",
     "text": [
      "INFO:     127.0.0.1:32956 - \"POST /v1/chat/completions HTTP/1.1\" 200 OK\n",
      "vLLM server started succesfully. Logs can be found at ./logs/vllm.log\n"
     ]
    },
    {
     "data": {
      "application/vnd.jupyter.widget-view+json": {
       "model_id": "84c6d8fd04624d3a9cf6b0967583bb58",
       "version_major": 2,
       "version_minor": 0
      },
      "text/plain": [
       "val:   0%|          | 0/64 [00:00<?, ?episode/s]"
      ]
     },
     "metadata": {},
     "output_type": "display_data"
    },
    {
     "data": {
      "application/vnd.jupyter.widget-view+json": {
       "model_id": "db9a20dfbceb4a1890c84d2a1cf9f2a8",
       "version_major": 2,
       "version_minor": 0
      },
      "text/plain": [
       "explore:   0%|          | 0/64 [00:00<?, ?episode/s]"
      ]
     },
     "metadata": {},
     "output_type": "display_data"
    }
   ],
   "source": [
    "val_score, episodes = await asyncio.gather(trainer.eval(\"val\", 0), trainer.explore(1))"
   ]
  },
  {
   "cell_type": "code",
   "execution_count": 5,
   "metadata": {},
   "outputs": [
    {
     "data": {
      "text/plain": [
       "10"
      ]
     },
     "execution_count": 5,
     "metadata": {},
     "output_type": "execute_result"
    }
   ],
   "source": [
    "max_depth = 0\n",
    "for episode in episodes:\n",
    "    for leaf in episode.completion.leaves():\n",
    "        max_depth = max(sum(1 for _ in leaf.ancestors(including_self=True)), max_depth)\n",
    "max_depth"
   ]
  },
  {
   "cell_type": "code",
   "execution_count": 6,
   "metadata": {},
   "outputs": [
    {
     "data": {
      "text/plain": [
       "10"
      ]
     },
     "execution_count": 6,
     "metadata": {},
     "output_type": "execute_result"
    }
   ],
   "source": [
    "max_depth"
   ]
  },
  {
   "cell_type": "code",
   "execution_count": 47,
   "metadata": {},
   "outputs": [],
   "source": [
    "from lib.rl.pack import packed_tensors\n",
    "\n",
    "tensors = packed_tensors(\n",
    "    episodes, trainer.model, trainer.tune_sequence_length, None, trainer.tokenizer\n",
    ")"
   ]
  },
  {
   "cell_type": "code",
   "execution_count": 46,
   "metadata": {},
   "outputs": [],
   "source": [
    "import torch\n",
    "\n",
    "def get_mask(\n",
    "    ids: torch.Tensor, ancestor_ids: torch.Tensor\n",
    ") -> torch.Tensor:\n",
    "    \"\"\"Creates an attention mask for hierarchical attention based on node IDs and their ancestor IDs.\n",
    "    \n",
    "    Args:\n",
    "        ids: A tensor of shape (batch_size, sequence_length) containing node IDs\n",
    "        ancestor_ids: A tensor of shape (batch_size, sequence_length, max_ancestors) containing ancestor IDs for each node\n",
    "            including itself, padded with zeros\n",
    "\n",
    "    Returns:\n",
    "        A boolean tensor of shape (batch_size, sequence_length, sequence_length) where True indicates\n",
    "        allowed attention connections. Each position can attend to itself and any of its ancestors\n",
    "        in the hierarchy, but only for previous positions (due to causal masking).\n",
    "    \"\"\"\n",
    "    # Compare each position against all ancestors of each other position\n",
    "    # Shape: (batch, seq, seq, max_ancestors)\n",
    "    mask = (ids.unsqueeze(1).unsqueeze(3) == ancestor_ids.unsqueeze(2))\n",
    "    # Reduce over ancestors dimension to get final mask\n",
    "    # Shape: (batch, seq, seq) \n",
    "    mask = mask.any(dim=3)\n",
    "    # Apply causal mask\n",
    "    mask &= torch.tril(torch.ones_like(mask, dtype=torch.bool, device=ids.device))\n",
    "    return mask\n",
    "\n",
    "mask = get_mask(tensors[\"ids\"], tensors[\"ancestor_ids\"])"
   ]
  },
  {
   "cell_type": "code",
   "execution_count": 38,
   "metadata": {},
   "outputs": [
    {
     "data": {
      "text/plain": [
       "tensor([[  1,   0,   0,  ...,   0,   0,   0],\n",
       "        [  1,   2,   0,  ...,   0,   0,   0],\n",
       "        [  1,   2,   3,  ...,   0,   0,   0],\n",
       "        ...,\n",
       "        [  0,   0,   0,  ..., 874,   0,   0],\n",
       "        [  0,   0,   0,  ..., 874, 875,   0],\n",
       "        [  0,   0,   0,  ..., 874, 875, 876]])"
      ]
     },
     "execution_count": 38,
     "metadata": {},
     "output_type": "execute_result"
    }
   ],
   "source": [
    "mask[0].cumsum(dim=1) * mask[0]"
   ]
  },
  {
   "cell_type": "code",
   "execution_count": 34,
   "metadata": {},
   "outputs": [
    {
     "data": {
      "text/plain": [
       "tensor([[  1,   0,   0,  ...,   0,   0,   0],\n",
       "        [  1,   2,   0,  ...,   0,   0,   0],\n",
       "        [  1,   2,   3,  ...,   0,   0,   0],\n",
       "        ...,\n",
       "        [  0,   0,   0,  ..., 874,   0,   0],\n",
       "        [  0,   0,   0,  ..., 874, 875,   0],\n",
       "        [  0,   0,   0,  ..., 874, 875, 876]])"
      ]
     },
     "execution_count": 34,
     "metadata": {},
     "output_type": "execute_result"
    }
   ],
   "source": [
    "torch.where(mask[0], mask[0].cumsum(dim=1), 0)"
   ]
  },
  {
   "cell_type": "code",
   "execution_count": 32,
   "metadata": {},
   "outputs": [
    {
     "data": {
      "text/plain": [
       "torch.Size([10, 16384])"
      ]
     },
     "execution_count": 32,
     "metadata": {},
     "output_type": "execute_result"
    }
   ],
   "source": [
    "tensors[\"tokens\"].shape"
   ]
  },
  {
   "cell_type": "code",
   "execution_count": 30,
   "metadata": {},
   "outputs": [
    {
     "data": {
      "text/plain": [
       "tensor([[   1,    0,    0,  ...,    0,    0,    0],\n",
       "        [   2,    1,    0,  ...,    0,    0,    0],\n",
       "        [   3,    2,    1,  ...,    0,    0,    0],\n",
       "        ...,\n",
       "        [1430, 1429, 1428,  ...,    1,    0,    0],\n",
       "        [1430, 1429, 1428,  ...,    2,    1,    0],\n",
       "        [1430, 1429, 1428,  ...,    3,    2,    1]])"
      ]
     },
     "execution_count": 30,
     "metadata": {},
     "output_type": "execute_result"
    }
   ],
   "source": [
    "mask[0].cumsum(0)"
   ]
  },
  {
   "cell_type": "code",
   "execution_count": 33,
   "metadata": {},
   "outputs": [
    {
     "data": {
      "text/plain": [
       "tensor([  0,   1,   2,  ..., 873, 874, 875])"
      ]
     },
     "execution_count": 33,
     "metadata": {},
     "output_type": "execute_result"
    }
   ],
   "source": [
    "tensors[\"pos_ids\"][0]"
   ]
  },
  {
   "cell_type": "code",
   "execution_count": 9,
   "metadata": {},
   "outputs": [
    {
     "data": {
      "text/plain": [
       "torch.Size([10, 16384])"
      ]
     },
     "execution_count": 9,
     "metadata": {},
     "output_type": "execute_result"
    }
   ],
   "source": [
    "tensors[\"ids\"].shape"
   ]
  },
  {
   "cell_type": "code",
   "execution_count": 30,
   "metadata": {},
   "outputs": [
    {
     "data": {
      "text/plain": [
       "'3072.0 MB'"
      ]
     },
     "execution_count": 30,
     "metadata": {},
     "output_type": "execute_result"
    }
   ],
   "source": [
    "mask_size = mask.numel() * mask.element_size()\n",
    "f\"{mask_size / 1024 / 1024} MB\""
   ]
  },
  {
   "cell_type": "code",
   "execution_count": null,
   "metadata": {},
   "outputs": [],
   "source": [
    "def mask_and_pos_ids(\n",
    "    ids: torch.Tensor, parent_ids: torch.Tensor\n",
    ") -> tuple[torch.Tensor, torch.Tensor]:\n",
    "    \"\"\"Creates an attention mask and position IDs for hierarchical attention based on node IDs and their parent IDs.\n",
    "\n",
    "    Args:\n",
    "        ids: A tensor of shape (batch_size, sequence_length) containing node IDs\n",
    "        parent_ids: A tensor of shape (batch_size, sequence_length) containing parent IDs for each node\n",
    "\n",
    "    Returns:\n",
    "        A tuple containing:\n",
    "        - mask: A boolean tensor of shape (batch_size, sequence_length, sequence_length) where True indicates\n",
    "          allowed attention connections. Each position can attend to itself and any of its ancestors\n",
    "          in the hierarchy, but only for previous positions (due to causal masking).\n",
    "        - pos_ids: A tensor of shape (batch_size, sequence_length, sequence_length) containing relative\n",
    "          position IDs for each allowed attention connection, with -1 for masked positions.\n",
    "    \"\"\"\n",
    "    mask = ids.unsqueeze(1) == ids.unsqueeze(2)\n",
    "    _mask = mask | (ids.unsqueeze(1) == parent_ids.unsqueeze(2))\n",
    "    while torch.any(mask != _mask):\n",
    "        parent_ids = parent_ids.gather(\n",
    "            1, torch.argmax((parent_ids.unsqueeze(2) == ids.unsqueeze(1)).int(), dim=2)\n",
    "        )\n",
    "        mask = _mask\n",
    "        _mask = mask | (ids.unsqueeze(1) == parent_ids.unsqueeze(2))\n",
    "    mask &= torch.tril(torch.ones_like(mask, dtype=torch.bool, device=ids.device))\n",
    "    # mask = torch.linalg.matrix_power(mask.float(), mask.size(1) - 1) > 0\n",
    "    pos_ids = (torch.where(mask, mask.cumsum(2), 0) - 1).max(1).values\n",
    "    return mask, pos_ids"
   ]
  },
  {
   "cell_type": "code",
   "execution_count": 43,
   "metadata": {},
   "outputs": [
    {
     "data": {
      "image/png": "[encoded data removed]",
      "text/plain": [
       "<Figure size 1000x1000 with 2 Axes>"
      ]
     },
     "metadata": {},
     "output_type": "display_data"
    }
   ],
   "source": [
    "import matplotlib.pyplot as plt\n",
    "\n",
    "\n",
    "def show(mask: torch.Tensor) -> None:\n",
    "    plt.figure(figsize=(10, 10))\n",
    "    plt.imshow(mask, cmap=\"viridis\")\n",
    "    plt.colorbar()\n",
    "    plt.title(\"Attention Mask\")\n",
    "    plt.xlabel(\"Source Position\")\n",
    "    plt.ylabel(\"Target Position\")\n",
    "    plt.show()\n",
    "\n",
    "show(mask[0].cumsum(dim=1) * mask[0])"
   ]
  },
  {
   "cell_type": "code",
   "execution_count": 29,
   "metadata": {},
   "outputs": [
    {
     "ename": "SyntaxError",
     "evalue": "'await' outside function (<magic-timeit-stmt>, line 1)",
     "output_type": "error",
     "traceback": [
      "Traceback \u001b[0;36m(most recent call last)\u001b[0m:\n",
      "\u001b[0m  File \u001b[1;32m~/atreides/.venv/lib/python3.12/site-packages/IPython/core/interactiveshell.py:3577\u001b[0m in \u001b[1;35mrun_code\u001b[0m\n    exec(code_obj, self.user_global_ns, self.user_ns)\u001b[0m\n",
      "\u001b[0m  Cell \u001b[1;32mIn[29], line 1\u001b[0m\n    get_ipython().run_cell_magic('timeit', '', 'tensors = await trainer.tune(episodes[:100])\\n')\u001b[0m\n",
      "\u001b[0m  File \u001b[1;32m~/atreides/.venv/lib/python3.12/site-packages/IPython/core/interactiveshell.py:2541\u001b[0m in \u001b[1;35mrun_cell_magic\u001b[0m\n    result = fn(*args, **kwargs)\u001b[0m\n",
      "\u001b[0m  File \u001b[1;32m~/atreides/.venv/lib/python3.12/site-packages/IPython/core/magics/execution.py:1141\u001b[0m in \u001b[1;35mtimeit\u001b[0m\n    self.shell.compile(ast_stmt, \"<magic-timeit-stmt>\", \"exec\")\u001b[0m\n",
      "\u001b[0;36m  File \u001b[0;32m~/.local/share/uv/python/cpython-3.12.7-linux-x86_64-gnu/lib/python3.12/codeop.py:126\u001b[0;36m in \u001b[0;35m__call__\u001b[0;36m\n\u001b[0;31m    codeob = compile(source, filename, symbol, flags, True)\u001b[0;36m\n",
      "\u001b[0;36m  File \u001b[0;32m<magic-timeit-stmt>:1\u001b[0;36m\u001b[0m\n\u001b[0;31mSyntaxError\u001b[0m\u001b[0;31m:\u001b[0m 'await' outside function\n"
     ]
    }
   ],
   "source": [
    "%%timeit\n",
    "tensors = await trainer.tune(episodes[:100])"
   ]
  },
  {
   "cell_type": "code",
   "execution_count": 24,
   "metadata": {},
   "outputs": [
    {
     "data": {
      "text/plain": [
       "{'tokens': tensor([[128000, 128002,    882,  ..., 128001, 128001, 128001]]),\n",
       " 'advantages': tensor([[nan, nan, nan,  ..., nan, nan, nan]]),\n",
       " 'logprobs': tensor([[nan, nan, nan,  ..., nan, nan, nan]]),\n",
       " 'weights': tensor([[0., 0., 0.,  ..., 0., 0., 0.]]),\n",
       " 'ids': tensor([[136233656190640, 136233656190640, 136233656190640,  ...,\n",
       "                        0,               0,               0]]),\n",
       " 'parent_ids': tensor([[136239448457104, 136239448457104, 136239448457104,  ...,\n",
       "                        0,               0,               0]])}"
      ]
     },
     "execution_count": 24,
     "metadata": {},
     "output_type": "execute_result"
    }
   ],
   "source": [
    "tensors"
   ]
  },
  {
   "cell_type": "code",
   "execution_count": 4,
   "metadata": {},
   "outputs": [
    {
     "name": "stdout",
     "output_type": "stream",
     "text": [
      "$ vllm serve NousResearch/Hermes-2-Theta-Llama-3-8B --disable-log-requests --api-key=default\n"
     ]
    },
    {
     "name": "stderr",
     "output_type": "stream",
     "text": [
      "/home/ubuntu/atreides/.venv/lib/python3.12/site-packages/vllm/connections.py:8: RuntimeWarning: Failed to read commit hash:\n",
      "No module named 'vllm._version'\n",
      "  from vllm.version import __version__ as VLLM_VERSION\n"
     ]
    },
    {
     "name": "stdout",
     "output_type": "stream",
     "text": [
      "INFO 11-20 23:04:45 api_server.py:528] vLLM API server version dev\n",
      "INFO 11-20 23:04:45 api_server.py:529] args: Namespace(subparser='serve', model_tag='NousResearch/Hermes-2-Theta-Llama-3-8B', config='', host=None, port=8000, uvicorn_log_level='info', allow_credentials=False, allowed_origins=['*'], allowed_methods=['*'], allowed_headers=['*'], api_key='default', lora_modules=None, prompt_adapters=None, chat_template=None, response_role='assistant', ssl_keyfile=None, ssl_certfile=None, ssl_ca_certs=None, ssl_cert_reqs=0, root_path=None, middleware=[], return_tokens_as_token_ids=False, disable_frontend_multiprocessing=False, enable_auto_tool_choice=False, tool_call_parser=None, tool_parser_plugin='', model='NousResearch/Hermes-2-Theta-Llama-3-8B', tokenizer=None, skip_tokenizer_init=False, revision=None, code_revision=None, tokenizer_revision=None, tokenizer_mode='auto', trust_remote_code=False, download_dir=None, load_format='auto', config_format='auto', dtype='auto', kv_cache_dtype='auto', quantization_param_path=None, max_model_len=None, guided_decoding_backend='outlines', distributed_executor_backend=None, worker_use_ray=False, pipeline_parallel_size=1, tensor_parallel_size=1, max_parallel_loading_workers=None, ray_workers_use_nsight=False, block_size=16, enable_prefix_caching=False, disable_sliding_window=False, use_v2_block_manager=True, num_lookahead_slots=0, seed=0, swap_space=4, cpu_offload_gb=0, gpu_memory_utilization=0.9, num_gpu_blocks_override=None, max_num_batched_tokens=None, max_num_seqs=256, max_logprobs=20, disable_log_stats=False, quantization=None, rope_scaling=None, rope_theta=None, enforce_eager=False, max_context_len_to_capture=None, max_seq_len_to_capture=8192, disable_custom_all_reduce=False, tokenizer_pool_size=0, tokenizer_pool_type='ray', tokenizer_pool_extra_config=None, limit_mm_per_prompt=None, mm_processor_kwargs=None, enable_lora=False, max_loras=1, max_lora_rank=16, lora_extra_vocab_size=256, lora_dtype='auto', long_lora_scaling_factors=None, max_cpu_loras=None, fully_sharded_loras=False, enable_prompt_adapter=False, max_prompt_adapters=1, max_prompt_adapter_token=0, device='auto', num_scheduler_steps=1, multi_step_stream_outputs=True, scheduler_delay_factor=0.0, enable_chunked_prefill=None, speculative_model=None, speculative_model_quantization=None, num_speculative_tokens=None, speculative_disable_mqa_scorer=False, speculative_draft_tensor_parallel_size=None, speculative_max_model_len=None, speculative_disable_by_batch_size=None, ngram_prompt_lookup_max=None, ngram_prompt_lookup_min=None, spec_decoding_acceptance_method='rejection_sampler', typical_acceptance_sampler_posterior_threshold=None, typical_acceptance_sampler_posterior_alpha=None, disable_logprobs_during_spec_decoding=None, model_loader_extra_config=None, ignore_patterns=[], preemption_mode=None, served_model_name=None, qlora_adapter_name_or_path=None, otlp_traces_endpoint=None, collect_detailed_traces=None, disable_async_output_proc=False, override_neuron_config=None, scheduling_policy='fcfs', disable_log_requests=True, max_log_len=None, disable_fastapi_docs=False, dispatch_function=<function serve at 0x7c725c500cc0>)\n",
      "INFO 11-20 23:04:45 api_server.py:166] Multiprocessing frontend to use ipc:///tmp/8b23faa0-2d91-4b85-90d2-babbfed71c8a for IPC Path.\n",
      "INFO 11-20 23:04:45 api_server.py:179] Started engine process with PID 7699\n"
     ]
    },
    {
     "name": "stderr",
     "output_type": "stream",
     "text": [
      "/home/ubuntu/atreides/.venv/lib/python3.12/site-packages/vllm/connections.py:8: RuntimeWarning: Failed to read commit hash:\n",
      "No module named 'vllm._version'\n",
      "  from vllm.version import __version__ as VLLM_VERSION\n"
     ]
    },
    {
     "name": "stdout",
     "output_type": "stream",
     "text": [
      "INFO 11-20 23:04:56 llm_engine.py:237] Initializing an LLM engine (vdev) with config: model='NousResearch/Hermes-2-Theta-Llama-3-8B', speculative_config=None, tokenizer='NousResearch/Hermes-2-Theta-Llama-3-8B', skip_tokenizer_init=False, tokenizer_mode=auto, revision=None, override_neuron_config=None, rope_scaling=None, rope_theta=None, tokenizer_revision=None, trust_remote_code=False, dtype=torch.bfloat16, max_seq_len=8192, download_dir=None, load_format=LoadFormat.AUTO, tensor_parallel_size=1, pipeline_parallel_size=1, disable_custom_all_reduce=False, quantization=None, enforce_eager=False, kv_cache_dtype=auto, quantization_param_path=None, device_config=cuda, decoding_config=DecodingConfig(guided_decoding_backend='outlines'), observability_config=ObservabilityConfig(otlp_traces_endpoint=None, collect_model_forward_time=False, collect_model_execute_time=False), seed=0, served_model_name=NousResearch/Hermes-2-Theta-Llama-3-8B, use_v2_block_manager=True, num_scheduler_steps=1, chunked_prefill_enabled=False multi_step_stream_outputs=True, enable_prefix_caching=False, use_async_output_proc=True, use_cached_outputs=True, mm_processor_kwargs=None)\n",
      "INFO 11-20 23:04:57 model_runner.py:1060] Starting to load model NousResearch/Hermes-2-Theta-Llama-3-8B...\n",
      "INFO 11-20 23:04:57 weight_utils.py:243] Using model weights format ['*.safetensors']\n"
     ]
    },
    {
     "name": "stderr",
     "output_type": "stream",
     "text": [
      "Loading safetensors checkpoint shards:   0% Completed | 0/4 [00:00<?, ?it/s]\n",
      "Loading safetensors checkpoint shards:  25% Completed | 1/4 [00:00<00:02,  1.09it/s]\n",
      "Loading safetensors checkpoint shards:  50% Completed | 2/4 [00:01<00:01,  1.04it/s]\n",
      "Loading safetensors checkpoint shards:  75% Completed | 3/4 [00:02<00:00,  1.50it/s]\n",
      "Loading safetensors checkpoint shards: 100% Completed | 4/4 [00:03<00:00,  1.31it/s]\n",
      "Loading safetensors checkpoint shards: 100% Completed | 4/4 [00:03<00:00,  1.27it/s]\n",
      "\n"
     ]
    },
    {
     "name": "stdout",
     "output_type": "stream",
     "text": [
      "INFO 11-20 23:05:01 model_runner.py:1071] Loading model weights took 14.9595 GB\n",
      "INFO 11-20 23:05:02 gpu_executor.py:122] # GPU blocks: 27864, # CPU blocks: 2048\n",
      "INFO 11-20 23:05:02 gpu_executor.py:126] Maximum concurrency for 8192 tokens per request: 54.42x\n",
      "INFO 11-20 23:05:04 model_runner.py:1402] Capturing the model for CUDA graphs. This may lead to unexpected consequences if the model is not static. To run the model in eager mode, set 'enforce_eager=True' or use '--enforce-eager' in the CLI.\n",
      "INFO 11-20 23:05:04 model_runner.py:1406] CUDA graphs can take additional 1~3 GiB memory per GPU. If you are running out of memory, consider decreasing `gpu_memory_utilization` or enforcing eager mode. You can also reduce the `max_num_seqs` as needed to decrease memory usage.\n",
      "INFO 11-20 23:05:12 model_runner.py:1530] Graph capturing finished in 8 secs.\n",
      "INFO 11-20 23:05:12 api_server.py:232] vLLM to use /tmp/tmp_4mq67vu as PROMETHEUS_MULTIPROC_DIR\n",
      "WARNING 11-20 23:05:12 serving_embedding.py:199] embedding_mode is False. Embedding API will not work.\n",
      "INFO 11-20 23:05:12 launcher.py:19] Available routes are:\n",
      "INFO 11-20 23:05:12 launcher.py:27] Route: /openapi.json, Methods: HEAD, GET\n",
      "INFO 11-20 23:05:12 launcher.py:27] Route: /docs, Methods: HEAD, GET\n",
      "INFO 11-20 23:05:12 launcher.py:27] Route: /docs/oauth2-redirect, Methods: HEAD, GET\n",
      "INFO 11-20 23:05:12 launcher.py:27] Route: /redoc, Methods: HEAD, GET\n",
      "INFO 11-20 23:05:12 launcher.py:27] Route: /health, Methods: GET\n",
      "INFO 11-20 23:05:12 launcher.py:27] Route: /tokenize, Methods: POST\n",
      "INFO 11-20 23:05:12 launcher.py:27] Route: /detokenize, Methods: POST\n",
      "INFO 11-20 23:05:12 launcher.py:27] Route: /v1/models, Methods: GET\n",
      "INFO 11-20 23:05:12 launcher.py:27] Route: /version, Methods: GET\n",
      "INFO 11-20 23:05:12 launcher.py:27] Route: /v1/chat/completions, Methods: POST\n",
      "INFO 11-20 23:05:12 launcher.py:27] Route: /v1/completions, Methods: POST\n",
      "INFO 11-20 23:05:12 launcher.py:27] Route: /v1/embeddings, Methods: POST\n"
     ]
    },
    {
     "name": "stderr",
     "output_type": "stream",
     "text": [
      "INFO:     Started server process [7664]\n",
      "INFO:     Waiting for application startup.\n",
      "INFO:     Application startup complete.\n",
      "INFO:     Uvicorn running on socket ('0.0.0.0', 8000) (Press CTRL+C to quit)\n"
     ]
    },
    {
     "name": "stdout",
     "output_type": "stream",
     "text": [
      "INFO:     127.0.0.1:43572 - \"POST /v1/chat/completions HTTP/1.1\" 200 OK\n",
      "vLLM server started succesfully. Logs can be found at ./logs/vllm.log\n"
     ]
    },
    {
     "data": {
      "application/vnd.jupyter.widget-view+json": {
       "model_id": "4749b97bfe4f4e388794a9fd12036929",
       "version_major": 2,
       "version_minor": 0
      },
      "text/plain": [
       "val:   0%|          | 0/1 [00:00<?, ?episode/s]"
      ]
     },
     "metadata": {},
     "output_type": "display_data"
    },
    {
     "data": {
      "text/plain": [
       "0.5208333333333333"
      ]
     },
     "execution_count": 4,
     "metadata": {},
     "output_type": "execute_result"
    }
   ],
   "source": [
    "await trainer.eval(\"val\")"
   ]
  },
  {
   "cell_type": "code",
   "execution_count": 5,
   "metadata": {},
   "outputs": [
    {
     "data": {
      "application/vnd.jupyter.widget-view+json": {
       "model_id": "5d137f2d0162471c8ed895964654c81b",
       "version_major": 2,
       "version_minor": 0
      },
      "text/plain": [
       "explore:   0%|          | 0/128 [00:00<?, ?episode/s]"
      ]
     },
     "metadata": {},
     "output_type": "display_data"
    }
   ],
   "source": [
    "episodes = await trainer.explore()"
   ]
  },
  {
   "cell_type": "code",
   "execution_count": 6,
   "metadata": {},
   "outputs": [
    {
     "data": {
      "text/plain": [
       "128"
      ]
     },
     "execution_count": 6,
     "metadata": {},
     "output_type": "execute_result"
    }
   ],
   "source": [
    "len(episodes)"
   ]
  },
  {
   "cell_type": "code",
   "execution_count": 34,
   "metadata": {},
   "outputs": [
    {
     "data": {
      "text/html": [
       "<div style=\"white-space: pre-wrap\"><b>User</b>:\n",
       "On a warm spring evening Brittany, Owen, and Payton sat down to play a competitive sleuthing game.\n",
       "\n",
       "They assembled 3 stacks of cards, each for a separate category of data composed of the following:\n",
       "\n",
       "Suspect:\n",
       "- Miss Scarlet\n",
       "- Mr. Green\n",
       "- Mrs. White\n",
       "\n",
       "Weapon:\n",
       "- Candlestick\n",
       "- Knife\n",
       "- Lead Pipe\n",
       "\n",
       "Room:\n",
       "- Hall\n",
       "- Lounge\n",
       "- Dining Room\n",
       "\n",
       "After randomly (and blindly) choosing one card from each group and placing them in the middle of the table facedown, they shuffled the remaining cards and dealt out the following to each player:\n",
       "\n",
       "- Brittany: 2 cards (Miss Scarlet and Mr. Green)\n",
       "- Owen: 2 cards\n",
       "- Payton: 2 cards\n",
       "\n",
       "The game proceeded as follows:\n",
       "\n",
       "1. On their turn, a player asked about a set of exactly 3 cards, one from each of the game's categories. (Note: Players could ask about any cards, including those in their own hand.)\n",
       "2. The player directed this question to the other players in clockwise order, starting with the player to their left.\n",
       "3. If a player had one or more of the asked-about cards, they had to show one of those cards (of their choice) to the asking player privately. The turn then ended, and play passed to the next player.\n",
       "4. If a player did not have any of the asked-about cards, they said so, and the question passed to the next player in clockwise order.\n",
       "5. This continued until either:\n",
       "a) A player showed a card to the asking player, or\n",
       "b) All the queried players had stated they didn't have any of the asked-about cards.\n",
       "6. After a player's turn ended (either by being shown a card or having all queried players pass), play moved to the next player in clockwise order.\n",
       "\n",
       "Here is how the game played out:\n",
       "\n",
       "Brittany asked if anyone had Mrs. White or the Candlestick or the Dining Room:\n",
       "- Owen did not have any of the cards\n",
       "- Payton did not have any of the cards\n",
       "\n",
       "Owen asked if anyone had Mr. Green or the Candlestick or the Dining Room:\n",
       "- Payton did not have any of the cards\n",
       "- Brittany showed Owen Mr. Green\n",
       "\n",
       "Payton asked if anyone had Mr. Green or the Lead Pipe or the Dining Room:\n",
       "- Brittany showed Payton Mr. Green\n",
       "\n",
       "Then, on their turn, Brittany was able to correctly infer the solution and win the game.\n",
       "\n",
       "What were the facedown cards in the center of the table?\n",
       "\n",
       "<b>Assistant</b>:\n",
       "<span style='background-color: rgba(255,0,0, 0.05896226415094337);'>Let's analyze the game:\n",
       "\n",
       "Brittany has Miss Scarlet and Mr. Green, and she showed Mr. Green to Owen. This means Owen had neither Miss Scarlet nor Mr. Green, so he must have had Mrs. White or the Candlestick or the Dining</span><span style='background-color: rgba(255,0,0, 0.11574074074074076);'> Room. Since Owen didn't have any of the asked-about cards, that means he must have had the Lead Pipe.\n",
       "\n",
       "Payton asked about Mr. Green or the Lead Pipe or the Dining Room, and Brittany didn't show any cards, so Payton must have had</span><span style='background-color: rgba(0,0,255, 0.14150943396226415);'> the other two cards. Since Payton didn't have any of the asked-about cards, that means he must have had Mrs. White or the Candlestick or the Lounge.\n",
       "\n",
       "Now, let's put the pieces together. The cards in the middle, in order from</span><span style='background-color: rgba(0,0,255, 0.09259259259259264);'> left to right, are:\n",
       "\n",
       "- Mrs. White (from Owen)\n",
       "- Candlestick (from Payton)\n",
       "- Dining Room (from Brittany)\n",
       "\n",
       "So, the facedown cards in the center of the table were Mrs. White, Candlestick, and Dining Room.</span>\n",
       "\n",
       "<b>User</b>:\n",
       "Fill out your answer like this:\n",
       "Suspect: <#SUSPECT#>\n",
       "Weapon: <#WEAPON#>\n",
       "Room: <#ROOM#>\n",
       "\n",
       "<b>Assistant</b>:\n",
       "<span style='background-color: rgba(0,0,0, 0.0);'>Suspect: Mrs</span><span style='background-color: rgba(0,0,0, 0.0);'>. White\n",
       "Weapon</span><span style='background-color: rgba(0,0,0, 0.0);'>: Candlestick\n",
       "</span><span style='background-color: rgba(0,0,0, 0.0);'>Room: Dining Room</span></div>"
      ],
      "text/plain": [
       "<IPython.core.display.HTML object>"
      ]
     },
     "execution_count": 34,
     "metadata": {},
     "output_type": "execute_result"
    }
   ],
   "source": [
    "from IPython.display import HTML\n",
    "\n",
    "HTML(f'<div style=\"white-space: pre-wrap\">{list(episodes[2].completion.leaves())[0].html(30.0)}</div>')"
   ]
  },
  {
   "cell_type": "code",
   "execution_count": 6,
   "metadata": {},
   "outputs": [
    {
     "data": {
      "text/plain": [
       "(0.49479166666666663, 64)"
      ]
     },
     "execution_count": 6,
     "metadata": {},
     "output_type": "execute_result"
    }
   ],
   "source": [
    "episodes: list[Episode] = trainer.eval_episodes[\"val\"]  # type: ignore\n",
    "divisor = max(\n",
    "    sum(\n",
    "        1\n",
    "        for episode in episodes\n",
    "        if any(child.model == trainer.model for child in episode.completion.children)\n",
    "    ),\n",
    "    1,\n",
    ")\n",
    "score = sum(\n",
    "    episode.completion.value(model=trainer.model) for episode in episodes\n",
    ") / divisor\n",
    "score, divisor"
   ]
  },
  {
   "cell_type": "code",
   "execution_count": 10,
   "metadata": {},
   "outputs": [
    {
     "data": {
      "text/plain": [
       "[4,\n",
       " 4,\n",
       " 4,\n",
       " 4,\n",
       " 4,\n",
       " 4,\n",
       " 4,\n",
       " 4,\n",
       " 4,\n",
       " 4,\n",
       " 4,\n",
       " 4,\n",
       " 4,\n",
       " 4,\n",
       " 4,\n",
       " 4,\n",
       " 4,\n",
       " 4,\n",
       " 4,\n",
       " 4,\n",
       " 4,\n",
       " 4,\n",
       " 4,\n",
       " 4,\n",
       " 4,\n",
       " 4,\n",
       " 4,\n",
       " 4,\n",
       " 4,\n",
       " 4,\n",
       " 4,\n",
       " 4,\n",
       " 4,\n",
       " 4,\n",
       " 4,\n",
       " 4,\n",
       " 4,\n",
       " 4,\n",
       " 4,\n",
       " 4,\n",
       " 4,\n",
       " 4,\n",
       " 4,\n",
       " 4,\n",
       " 4,\n",
       " 4,\n",
       " 4,\n",
       " 4,\n",
       " 4,\n",
       " 4,\n",
       " 4,\n",
       " 4,\n",
       " 4,\n",
       " 4,\n",
       " 4,\n",
       " 4,\n",
       " 4,\n",
       " 4,\n",
       " 4,\n",
       " 4,\n",
       " 4,\n",
       " 4,\n",
       " 4,\n",
       " 4]"
      ]
     },
     "execution_count": 10,
     "metadata": {},
     "output_type": "execute_result"
    }
   ],
   "source": [
    "[len(list(episode.completion.descendants())) for episode in episodes]"
   ]
  },
  {
   "cell_type": "code",
   "execution_count": 24,
   "metadata": {},
   "outputs": [
    {
     "data": {
      "text/plain": [
       "[{'role': 'assistant', 'content': '\\n<|im_end|>'}]"
      ]
     },
     "execution_count": 24,
     "metadata": {},
     "output_type": "execute_result"
    }
   ],
   "source": [
    "list(list(episodes[0].completion.children)[0].children)[0].message_params()"
   ]
  },
  {
   "cell_type": "code",
   "execution_count": 9,
   "metadata": {},
   "outputs": [
    {
     "data": {
      "text/plain": [
       "[1.3333333333333333,\n",
       " 0.0,\n",
       " 0.3333333333333333,\n",
       " 1.3333333333333333,\n",
       " 2.0,\n",
       " 1.0,\n",
       " 0.0,\n",
       " 2.0,\n",
       " 0.0,\n",
       " 0.0,\n",
       " 1.0,\n",
       " 2.0,\n",
       " 0.6666666666666666,\n",
       " 0.6666666666666666,\n",
       " 0.6666666666666666,\n",
       " 0.0,\n",
       " 1.3333333333333333,\n",
       " 0.6666666666666666,\n",
       " 1.3333333333333333,\n",
       " 0.0,\n",
       " 0.6666666666666666,\n",
       " 0.6666666666666666,\n",
       " 0.6666666666666666,\n",
       " 0.6666666666666666,\n",
       " 1.3333333333333333,\n",
       " 0.6666666666666666,\n",
       " 1.3333333333333333,\n",
       " 0.6666666666666666,\n",
       " 0.6666666666666666,\n",
       " 0.6666666666666666,\n",
       " 0.6666666666666666,\n",
       " 0.6666666666666666,\n",
       " 0.0,\n",
       " 0.6666666666666666,\n",
       " 1.3333333333333333,\n",
       " 0.0,\n",
       " 1.6666666666666665,\n",
       " 0.0,\n",
       " 0.6666666666666666,\n",
       " 1.3333333333333333,\n",
       " 0.0,\n",
       " 0.6666666666666666,\n",
       " 1.3333333333333333,\n",
       " 1.3333333333333333,\n",
       " 0.0,\n",
       " 1.3333333333333333,\n",
       " 0.0,\n",
       " 1.3333333333333333,\n",
       " 0.0,\n",
       " 1.3333333333333333,\n",
       " 0.6666666666666666,\n",
       " 0.6666666666666666,\n",
       " 0.0,\n",
       " 0.6666666666666666,\n",
       " 1.3333333333333333,\n",
       " 0.6666666666666666,\n",
       " 0.0,\n",
       " 0.6666666666666666,\n",
       " 0.0,\n",
       " 0.3333333333333333,\n",
       " 0.6666666666666666,\n",
       " 0.6666666666666666,\n",
       " 1.3333333333333333,\n",
       " 1.3333333333333333]"
      ]
     },
     "execution_count": 9,
     "metadata": {},
     "output_type": "execute_result"
    }
   ],
   "source": [
    "[episode.completion.value(model=trainer.model) for episode in episodes]"
   ]
  },
  {
   "cell_type": "code",
   "execution_count": 8,
   "metadata": {},
   "outputs": [
    {
     "data": {
      "text/plain": [
       "64"
      ]
     },
     "execution_count": 8,
     "metadata": {},
     "output_type": "execute_result"
    }
   ],
   "source": [
    "sum(\n",
    "    sum(child.model == trainer.model for child in episode.completion.children)\n",
    "    for episode in episodes\n",
    ")"
   ]
  },
  {
   "cell_type": "code",
   "execution_count": 4,
   "metadata": {},
   "outputs": [
    {
     "data": {
      "text/plain": [
       "[Episode(samples=1, weight=1.0),\n",
       " Episode(samples=1, weight=1.0),\n",
       " Episode(samples=1, weight=1.0),\n",
       " Episode(samples=1, weight=1.0),\n",
       " Episode(samples=1, weight=1.0),\n",
       " Episode(samples=1, weight=1.0),\n",
       " Episode(samples=1, weight=1.0),\n",
       " Episode(samples=1, weight=1.0),\n",
       " Episode(samples=1, weight=1.0),\n",
       " Episode(samples=1, weight=1.0),\n",
       " Episode(samples=1, weight=1.0),\n",
       " Episode(samples=1, weight=1.0),\n",
       " Episode(samples=1, weight=1.0),\n",
       " Episode(samples=1, weight=1.0),\n",
       " Episode(samples=1, weight=1.0),\n",
       " Episode(samples=1, weight=1.0),\n",
       " Episode(samples=1, weight=1.0),\n",
       " Episode(samples=1, weight=1.0),\n",
       " Episode(samples=1, weight=1.0),\n",
       " Episode(samples=1, weight=1.0),\n",
       " Episode(samples=1, weight=1.0),\n",
       " Episode(samples=1, weight=1.0),\n",
       " Episode(samples=1, weight=1.0),\n",
       " Episode(samples=1, weight=1.0),\n",
       " Episode(samples=1, weight=1.0),\n",
       " Episode(samples=1, weight=1.0),\n",
       " Episode(samples=1, weight=1.0),\n",
       " Episode(samples=1, weight=1.0),\n",
       " Episode(samples=1, weight=1.0),\n",
       " Episode(samples=1, weight=1.0),\n",
       " Episode(samples=1, weight=1.0),\n",
       " Episode(samples=1, weight=1.0),\n",
       " Episode(samples=1, weight=1.0),\n",
       " Episode(samples=1, weight=1.0),\n",
       " Episode(samples=1, weight=1.0),\n",
       " Episode(samples=1, weight=1.0),\n",
       " Episode(samples=1, weight=1.0),\n",
       " Episode(samples=1, weight=1.0),\n",
       " Episode(samples=1, weight=1.0),\n",
       " Episode(samples=1, weight=1.0),\n",
       " Episode(samples=1, weight=1.0),\n",
       " Episode(samples=1, weight=1.0),\n",
       " Episode(samples=1, weight=1.0),\n",
       " Episode(samples=1, weight=1.0),\n",
       " Episode(samples=1, weight=1.0),\n",
       " Episode(samples=1, weight=1.0),\n",
       " Episode(samples=1, weight=1.0),\n",
       " Episode(samples=1, weight=1.0),\n",
       " Episode(samples=1, weight=1.0),\n",
       " Episode(samples=1, weight=1.0),\n",
       " Episode(samples=1, weight=1.0),\n",
       " Episode(samples=1, weight=1.0),\n",
       " Episode(samples=1, weight=1.0),\n",
       " Episode(samples=1, weight=1.0),\n",
       " Episode(samples=1, weight=1.0),\n",
       " Episode(samples=1, weight=1.0),\n",
       " Episode(samples=1, weight=1.0),\n",
       " Episode(samples=1, weight=1.0),\n",
       " Episode(samples=1, weight=1.0),\n",
       " Episode(samples=1, weight=1.0),\n",
       " Episode(samples=1, weight=1.0),\n",
       " Episode(samples=1, weight=1.0),\n",
       " Episode(samples=1, weight=1.0),\n",
       " Episode(samples=1, weight=1.0)]"
      ]
     },
     "execution_count": 4,
     "metadata": {},
     "output_type": "execute_result"
    }
   ],
   "source": []
  },
  {
   "cell_type": "code",
   "execution_count": 5,
   "metadata": {},
   "outputs": [
    {
     "data": {
      "text/plain": [
       "{'NousResearch/Hermes-2-Theta-Llama-3-8B': 0.8854166666666666}"
      ]
     },
     "execution_count": 5,
     "metadata": {},
     "output_type": "execute_result"
    }
   ],
   "source": [
    "trainer.eval_scores[\"val\"]"
   ]
  },
  {
   "cell_type": "code",
   "execution_count": 96,
   "metadata": {},
   "outputs": [
    {
     "data": {
      "image/png": "[encoded data removed]",
      "text/plain": [
       "<Figure size 1000x1000 with 2 Axes>"
      ]
     },
     "metadata": {},
     "output_type": "display_data"
    }
   ],
   "source": [
    "import torch\n",
    "\n",
    "\n",
    "def get_mask(ids: torch.Tensor, parent_ids: torch.Tensor) -> torch.Tensor:\n",
    "    \"\"\"\n",
    "    Creates a causal attention mask based on token group IDs and their parent relationships.\n",
    "\n",
    "    Each token can attend to:\n",
    "    1. All preceding tokens in its own group (tokens with same ID)\n",
    "    2. All tokens in any ancestor group (following parent_ids chain up)\n",
    "    The mask enforces causality - tokens cannot attend to future positions.\n",
    "\n",
    "    Args:\n",
    "        ids: 1D tensor of token group IDs. Shape: [sequence_length]\n",
    "        parent_ids: 1D tensor of parent group IDs. Shape: [sequence_length]\n",
    "            Any integer value is valid - if a parent ID is not found in ids,\n",
    "            that group is treated as a root node.\n",
    "            Each ID must have a corresponding parent ID at the same index.\n",
    "\n",
    "    Returns:\n",
    "        2D boolean tensor of shape [sequence_length, sequence_length] where\n",
    "        mask[i,j] = True means position i can attend to position j.\n",
    "        False means position i cannot attend to position j.\n",
    "\n",
    "    Example:\n",
    "        ids = torch.tensor([0, 0, 1, 1])\n",
    "        parent_ids = torch.tensor([100, 100, 0, 0])\n",
    "        # Group 1 tokens can attend to group 0 tokens since 0 is their parent\n",
    "        # Group 0's parent (100) is not in ids so it's treated as root\n",
    "    \"\"\"\n",
    "    # Create mask of shape [seq_len, seq_len] initialized to False\n",
    "    seq_len = len(ids)\n",
    "    mask = torch.zeros((seq_len, seq_len), dtype=torch.bool)\n",
    "\n",
    "    # For each target position\n",
    "    for i in range(seq_len):\n",
    "        # Get current id and parent id\n",
    "        curr_id = ids[i]\n",
    "        curr_parent = parent_ids[i]\n",
    "\n",
    "        # For each source position up to and including target\n",
    "        for j in range(i + 1):\n",
    "            # Token can attend to itself and earlier tokens in same group\n",
    "            if ids[j] == curr_id:\n",
    "                mask[i, j] = True\n",
    "\n",
    "            # Token can attend to tokens in ancestor groups\n",
    "            ancestor_id = curr_parent\n",
    "            while ancestor_id in ids:  # Only follow chain while ancestor exists in ids\n",
    "                if ids[j] == ancestor_id:\n",
    "                    mask[i, j] = True\n",
    "                # Move up to next ancestor\n",
    "                # Find first occurrence of current ancestor to get its parent\n",
    "                ancestor_idx = torch.where(ids == ancestor_id)[0][0]\n",
    "                ancestor_id = parent_ids[ancestor_idx]\n",
    "\n",
    "    return mask\n",
    "\n",
    "\n",
    "def get_fast_mask(ids: torch.Tensor, parent_ids: torch.Tensor) -> torch.Tensor:\n",
    "    \"\"\"Faster implementation of get_mask using vectorized operations\"\"\"\n",
    "    seq_len = len(ids)\n",
    "\n",
    "    # Get unique group IDs and map them to indices\n",
    "    unique_ids = torch.unique(ids)\n",
    "    group_id_list = unique_ids.tolist()  # Converts tensor to list of Python numbers\n",
    "    group_id_to_index = {group_id: idx for idx, group_id in enumerate(group_id_list)}\n",
    "    num_groups = len(unique_ids)\n",
    "\n",
    "    # Build group_id_to_parent_id mapping\n",
    "    group_parents = {}\n",
    "    for group_id in group_id_list:\n",
    "        indices = (ids == group_id).nonzero(as_tuple=True)[0]\n",
    "        idx = indices[0].item()  # Select the first occurrence\n",
    "        parent_id = parent_ids[idx].item()\n",
    "        group_parents[group_id] = parent_id\n",
    "\n",
    "    # For each group, compute its ancestors\n",
    "    group_ancestors = {}\n",
    "    for group_id in group_id_list:\n",
    "        ancestors = set()\n",
    "        parent_id = group_parents.get(group_id, None)\n",
    "        while parent_id in group_id_list and parent_id not in ancestors:\n",
    "            ancestors.add(parent_id)\n",
    "            parent_id = group_parents.get(parent_id, None)\n",
    "        group_ancestors[group_id] = ancestors\n",
    "\n",
    "    # Create allowed_groups per group index\n",
    "    allowed_groups = torch.zeros((num_groups, num_groups), dtype=torch.bool)\n",
    "    for i, group_id in enumerate(group_id_list):\n",
    "        # Each group can attend to itself\n",
    "        allowed_groups[i, i] = True\n",
    "        # And its ancestors\n",
    "        for ancestor_id in group_ancestors[group_id]:\n",
    "            ancestor_idx = group_id_to_index[ancestor_id]\n",
    "            allowed_groups[i, ancestor_idx] = True\n",
    "\n",
    "    # Map positions to group indices\n",
    "    group_indices = torch.tensor(\n",
    "        [group_id_to_index[group_id.item()] for group_id in ids], dtype=torch.long\n",
    "    )\n",
    "\n",
    "    # Get allowed groups per position\n",
    "    allowed_groups_per_position = allowed_groups[\n",
    "        group_indices\n",
    "    ]  # Shape: [seq_len, num_groups]\n",
    "\n",
    "    # Create group indices matrix for source positions\n",
    "    group_indices_source = group_indices.unsqueeze(0).expand(\n",
    "        seq_len, seq_len\n",
    "    )  # Shape: [seq_len, seq_len]\n",
    "\n",
    "    # Compute mask by checking if source group is allowed for target position\n",
    "    mask = allowed_groups_per_position.gather(1, group_indices_source)\n",
    "\n",
    "    # Enforce causality (tokens cannot attend to future positions)\n",
    "    causal_mask = torch.tril(torch.ones(seq_len, seq_len, dtype=torch.bool))\n",
    "    mask = mask & causal_mask\n",
    "\n",
    "    return mask\n",
    "\n",
    "\n",
    "ids = torch.tensor([0, 0, 0, 1, 1, 2, 2, 3, 4, 4, 4, 5, 5] * 2)\n",
    "parent_ids = torch.tensor([-1, -1, -1, 0, 0, 0, 0, 1, 1, 1, 1, 2, 2] * 2)\n",
    "mask = get_mask(ids, parent_ids)\n",
    "fast_mask = get_fast_mask(ids, parent_ids)\n",
    "assert torch.all(mask == fast_mask), \"Fast implementation does not match original\"\n",
    "\n",
    "import matplotlib.pyplot as plt\n",
    "\n",
    "plt.figure(figsize=(10, 10))\n",
    "plt.imshow(fast_mask, cmap=\"binary\")\n",
    "plt.colorbar()\n",
    "plt.title(\"Attention Mask\")\n",
    "plt.xlabel(\"Source Position\")\n",
    "plt.ylabel(\"Target Position\")\n",
    "plt.show()"
   ]
  },
  {
   "cell_type": "code",
   "execution_count": 187,
   "metadata": {},
   "outputs": [],
   "source": [
    "def get_faster_mask(ids: torch.Tensor, parent_ids: torch.Tensor) -> torch.Tensor:\n",
    "    mask = ids.unsqueeze(0) == ids.unsqueeze(1)\n",
    "    _mask = mask | (ids.unsqueeze(0) == parent_ids.unsqueeze(1))\n",
    "    parent_ids = parent_ids[ids]\n",
    "    while torch.any(mask != _mask):\n",
    "        mask = _mask\n",
    "        _mask = mask | (ids.unsqueeze(0) == parent_ids.unsqueeze(1))\n",
    "        parent_ids = parent_ids[parent_ids]\n",
    "    mask &= torch.tril(torch.ones_like(mask))\n",
    "    return mask"
   ]
  },
  {
   "cell_type": "code",
   "execution_count": 100,
   "metadata": {},
   "outputs": [
    {
     "name": "stdout",
     "output_type": "stream",
     "text": [
      "52.4 μs ± 2.08 μs per loop (mean ± std. dev. of 7 runs, 10,000 loops each)\n"
     ]
    }
   ],
   "source": [
    "%%timeit\n",
    "get_faster_mask(ids, parent_ids)"
   ]
  },
  {
   "cell_type": "code",
   "execution_count": 376,
   "metadata": {},
   "outputs": [
    {
     "data": {
      "text/plain": [
       "tensor([[0, 1, 2, 3, 4, 5, 5, 6, 7],\n",
       "        [0, 1, 0, 0, 1, 2, 2, 3, 5]])"
      ]
     },
     "execution_count": 376,
     "metadata": {},
     "output_type": "execute_result"
    }
   ],
   "source": [
    "import random\n",
    "\n",
    "\n",
    "class Node:\n",
    "    def __init__(self, id: int, parent: \"Node | None\" = None, size: int = 1):\n",
    "        self.id = id\n",
    "        self.parent = parent\n",
    "        self.size = size\n",
    "\n",
    "\n",
    "nodes = [Node(id=0, size=random.randint(1, 1)), Node(id=1, size=random.randint(1, 1))]\n",
    "for i in range(2, 8):\n",
    "    parent = random.choice(nodes)\n",
    "    size = random.randint(1, 2)\n",
    "    node = Node(id=i, parent=parent, size=size)\n",
    "    nodes.append(node)\n",
    "ids = torch.tensor([node.id for node in nodes for _ in range(node.size)])\n",
    "parent_ids = torch.tensor(\n",
    "    [\n",
    "        node.parent.id if node.parent else node.id\n",
    "        for node in nodes\n",
    "        for _ in range(node.size)\n",
    "    ]\n",
    ")\n",
    "# mask = get_mask(ids, parent_ids)\n",
    "# faster_mask = get_faster_mask(ids, parent_ids)\n",
    "torch.stack([ids, parent_ids])"
   ]
  },
  {
   "cell_type": "code",
   "execution_count": 406,
   "metadata": {},
   "outputs": [
    {
     "ename": "RuntimeError",
     "evalue": "self must be a matrix",
     "output_type": "error",
     "traceback": [
      "\u001b[0;31m---------------------------------------------------------------------------\u001b[0m",
      "\u001b[0;31mRuntimeError\u001b[0m                              Traceback (most recent call last)",
      "Cell \u001b[0;32mIn[406], line 57\u001b[0m\n\u001b[1;32m     45\u001b[0m     \u001b[38;5;28;01massert\u001b[39;00m torch\u001b[38;5;241m.\u001b[39mall(\n\u001b[1;32m     46\u001b[0m         pos_ids \u001b[38;5;241m==\u001b[39m torch\u001b[38;5;241m.\u001b[39mtensor([expected_pos_ids])\n\u001b[1;32m     47\u001b[0m     ), \u001b[38;5;124mf\u001b[39m\u001b[38;5;124m\"\u001b[39m\u001b[38;5;132;01m{\u001b[39;00mpos_ids[\u001b[38;5;241m0\u001b[39m]\u001b[38;5;241m.\u001b[39mtolist()\u001b[38;5;132;01m}\u001b[39;00m\u001b[38;5;124m\"\u001b[39m\n\u001b[1;32m     50\u001b[0m test_mask_and_pos_ids(\n\u001b[1;32m     51\u001b[0m     ids\u001b[38;5;241m=\u001b[39m[\u001b[38;5;241m0\u001b[39m, \u001b[38;5;241m1\u001b[39m],\n\u001b[1;32m     52\u001b[0m     parent_ids\u001b[38;5;241m=\u001b[39m[\u001b[38;5;241m0\u001b[39m, \u001b[38;5;241m1\u001b[39m],\n\u001b[1;32m     53\u001b[0m     expected_mask\u001b[38;5;241m=\u001b[39m[[\u001b[38;5;241m1\u001b[39m, \u001b[38;5;241m0\u001b[39m], [\u001b[38;5;241m0\u001b[39m, \u001b[38;5;241m1\u001b[39m]],\n\u001b[1;32m     54\u001b[0m     expected_pos_ids\u001b[38;5;241m=\u001b[39m[\u001b[38;5;241m0\u001b[39m, \u001b[38;5;241m0\u001b[39m],\n\u001b[1;32m     55\u001b[0m )\n\u001b[0;32m---> 57\u001b[0m \u001b[43mtest_mask_and_pos_ids\u001b[49m\u001b[43m(\u001b[49m\n\u001b[1;32m     58\u001b[0m \u001b[43m    \u001b[49m\u001b[43mids\u001b[49m\u001b[38;5;241;43m=\u001b[39;49m\u001b[43m[\u001b[49m\u001b[38;5;241;43m0\u001b[39;49m\u001b[43m,\u001b[49m\u001b[43m \u001b[49m\u001b[38;5;241;43m1\u001b[39;49m\u001b[43m,\u001b[49m\u001b[43m \u001b[49m\u001b[38;5;241;43m1\u001b[39;49m\u001b[43m]\u001b[49m\u001b[43m,\u001b[49m\n\u001b[1;32m     59\u001b[0m \u001b[43m    \u001b[49m\u001b[43mparent_ids\u001b[49m\u001b[38;5;241;43m=\u001b[39;49m\u001b[43m[\u001b[49m\u001b[38;5;241;43m0\u001b[39;49m\u001b[43m,\u001b[49m\u001b[43m \u001b[49m\u001b[38;5;241;43m0\u001b[39;49m\u001b[43m,\u001b[49m\u001b[43m \u001b[49m\u001b[38;5;241;43m0\u001b[39;49m\u001b[43m]\u001b[49m\u001b[43m,\u001b[49m\n\u001b[1;32m     60\u001b[0m \u001b[43m    \u001b[49m\u001b[43mexpected_mask\u001b[49m\u001b[38;5;241;43m=\u001b[39;49m\u001b[43m[\u001b[49m\u001b[43m[\u001b[49m\u001b[38;5;241;43m1\u001b[39;49m\u001b[43m,\u001b[49m\u001b[43m \u001b[49m\u001b[38;5;241;43m0\u001b[39;49m\u001b[43m,\u001b[49m\u001b[43m \u001b[49m\u001b[38;5;241;43m0\u001b[39;49m\u001b[43m]\u001b[49m\u001b[43m,\u001b[49m\u001b[43m \u001b[49m\u001b[43m[\u001b[49m\u001b[38;5;241;43m1\u001b[39;49m\u001b[43m,\u001b[49m\u001b[43m \u001b[49m\u001b[38;5;241;43m1\u001b[39;49m\u001b[43m,\u001b[49m\u001b[43m \u001b[49m\u001b[38;5;241;43m0\u001b[39;49m\u001b[43m]\u001b[49m\u001b[43m,\u001b[49m\u001b[43m \u001b[49m\u001b[43m[\u001b[49m\u001b[38;5;241;43m1\u001b[39;49m\u001b[43m,\u001b[49m\u001b[43m \u001b[49m\u001b[38;5;241;43m1\u001b[39;49m\u001b[43m,\u001b[49m\u001b[43m \u001b[49m\u001b[38;5;241;43m1\u001b[39;49m\u001b[43m]\u001b[49m\u001b[43m]\u001b[49m\u001b[43m,\u001b[49m\n\u001b[1;32m     61\u001b[0m \u001b[43m    \u001b[49m\u001b[43mexpected_pos_ids\u001b[49m\u001b[38;5;241;43m=\u001b[39;49m\u001b[43m[\u001b[49m\u001b[38;5;241;43m0\u001b[39;49m\u001b[43m,\u001b[49m\u001b[43m \u001b[49m\u001b[38;5;241;43m1\u001b[39;49m\u001b[43m,\u001b[49m\u001b[43m \u001b[49m\u001b[38;5;241;43m2\u001b[39;49m\u001b[43m]\u001b[49m\u001b[43m,\u001b[49m\n\u001b[1;32m     62\u001b[0m \u001b[43m)\u001b[49m\n\u001b[1;32m     64\u001b[0m test_mask_and_pos_ids(\n\u001b[1;32m     65\u001b[0m     ids\u001b[38;5;241m=\u001b[39m[\u001b[38;5;241m0\u001b[39m, \u001b[38;5;241m1\u001b[39m, \u001b[38;5;241m2\u001b[39m, \u001b[38;5;241m3\u001b[39m],\n\u001b[1;32m     66\u001b[0m     parent_ids\u001b[38;5;241m=\u001b[39m[\u001b[38;5;241m0\u001b[39m, \u001b[38;5;241m0\u001b[39m, \u001b[38;5;241m1\u001b[39m, \u001b[38;5;241m2\u001b[39m],\n\u001b[1;32m     67\u001b[0m     expected_mask\u001b[38;5;241m=\u001b[39m[[\u001b[38;5;241m1\u001b[39m, \u001b[38;5;241m0\u001b[39m, \u001b[38;5;241m0\u001b[39m, \u001b[38;5;241m0\u001b[39m], [\u001b[38;5;241m1\u001b[39m, \u001b[38;5;241m1\u001b[39m, \u001b[38;5;241m0\u001b[39m, \u001b[38;5;241m0\u001b[39m], [\u001b[38;5;241m1\u001b[39m, \u001b[38;5;241m1\u001b[39m, \u001b[38;5;241m1\u001b[39m, \u001b[38;5;241m0\u001b[39m], [\u001b[38;5;241m1\u001b[39m, \u001b[38;5;241m1\u001b[39m, \u001b[38;5;241m1\u001b[39m, \u001b[38;5;241m1\u001b[39m]],\n\u001b[1;32m     68\u001b[0m     expected_pos_ids\u001b[38;5;241m=\u001b[39m[\u001b[38;5;241m0\u001b[39m, \u001b[38;5;241m1\u001b[39m, \u001b[38;5;241m2\u001b[39m, \u001b[38;5;241m3\u001b[39m],\n\u001b[1;32m     69\u001b[0m )\n\u001b[1;32m     71\u001b[0m test_mask_and_pos_ids(\n\u001b[1;32m     72\u001b[0m     ids\u001b[38;5;241m=\u001b[39m[\u001b[38;5;241m0\u001b[39m, \u001b[38;5;241m0\u001b[39m, \u001b[38;5;241m1\u001b[39m, \u001b[38;5;241m1\u001b[39m],\n\u001b[1;32m     73\u001b[0m     parent_ids\u001b[38;5;241m=\u001b[39m[\u001b[38;5;241m0\u001b[39m, \u001b[38;5;241m0\u001b[39m, \u001b[38;5;241m1\u001b[39m, \u001b[38;5;241m1\u001b[39m],\n\u001b[1;32m     74\u001b[0m     expected_mask\u001b[38;5;241m=\u001b[39m[[\u001b[38;5;241m1\u001b[39m, \u001b[38;5;241m0\u001b[39m, \u001b[38;5;241m0\u001b[39m, \u001b[38;5;241m0\u001b[39m], [\u001b[38;5;241m1\u001b[39m, \u001b[38;5;241m1\u001b[39m, \u001b[38;5;241m0\u001b[39m, \u001b[38;5;241m0\u001b[39m], [\u001b[38;5;241m0\u001b[39m, \u001b[38;5;241m0\u001b[39m, \u001b[38;5;241m1\u001b[39m, \u001b[38;5;241m0\u001b[39m], [\u001b[38;5;241m0\u001b[39m, \u001b[38;5;241m0\u001b[39m, \u001b[38;5;241m1\u001b[39m, \u001b[38;5;241m1\u001b[39m]],\n\u001b[1;32m     75\u001b[0m     expected_pos_ids\u001b[38;5;241m=\u001b[39m[\u001b[38;5;241m0\u001b[39m, \u001b[38;5;241m1\u001b[39m, \u001b[38;5;241m0\u001b[39m, \u001b[38;5;241m1\u001b[39m],\n\u001b[1;32m     76\u001b[0m )\n",
      "Cell \u001b[0;32mIn[406], line 41\u001b[0m, in \u001b[0;36mtest_mask_and_pos_ids\u001b[0;34m(ids, parent_ids, expected_mask, expected_pos_ids)\u001b[0m\n\u001b[1;32m     35\u001b[0m \u001b[38;5;28;01mdef\u001b[39;00m \u001b[38;5;21mtest_mask_and_pos_ids\u001b[39m(\n\u001b[1;32m     36\u001b[0m     ids: \u001b[38;5;28mlist\u001b[39m[\u001b[38;5;28mint\u001b[39m],\n\u001b[1;32m     37\u001b[0m     parent_ids: \u001b[38;5;28mlist\u001b[39m[\u001b[38;5;28mint\u001b[39m],\n\u001b[1;32m     38\u001b[0m     expected_mask: \u001b[38;5;28mlist\u001b[39m[\u001b[38;5;28mlist\u001b[39m[\u001b[38;5;28mint\u001b[39m]],\n\u001b[1;32m     39\u001b[0m     expected_pos_ids: \u001b[38;5;28mlist\u001b[39m[\u001b[38;5;28mint\u001b[39m],\n\u001b[1;32m     40\u001b[0m ):\n\u001b[0;32m---> 41\u001b[0m     mask, pos_ids \u001b[38;5;241m=\u001b[39m \u001b[43mmask_and_pos_ids\u001b[49m\u001b[43m(\u001b[49m\n\u001b[1;32m     42\u001b[0m \u001b[43m        \u001b[49m\u001b[43mids\u001b[49m\u001b[38;5;241;43m=\u001b[39;49m\u001b[43mtorch\u001b[49m\u001b[38;5;241;43m.\u001b[39;49m\u001b[43mtensor\u001b[49m\u001b[43m(\u001b[49m\u001b[43m[\u001b[49m\u001b[43mids\u001b[49m\u001b[43m]\u001b[49m\u001b[43m)\u001b[49m\u001b[43m,\u001b[49m\u001b[43m \u001b[49m\u001b[43mparent_ids\u001b[49m\u001b[38;5;241;43m=\u001b[39;49m\u001b[43mtorch\u001b[49m\u001b[38;5;241;43m.\u001b[39;49m\u001b[43mtensor\u001b[49m\u001b[43m(\u001b[49m\u001b[43m[\u001b[49m\u001b[43mparent_ids\u001b[49m\u001b[43m]\u001b[49m\u001b[43m)\u001b[49m\n\u001b[1;32m     43\u001b[0m \u001b[43m    \u001b[49m\u001b[43m)\u001b[49m\n\u001b[1;32m     44\u001b[0m     \u001b[38;5;28;01massert\u001b[39;00m torch\u001b[38;5;241m.\u001b[39mall(mask\u001b[38;5;241m.\u001b[39mint() \u001b[38;5;241m==\u001b[39m torch\u001b[38;5;241m.\u001b[39mtensor([expected_mask])), \u001b[38;5;124mf\u001b[39m\u001b[38;5;124m\"\u001b[39m\u001b[38;5;130;01m\\n\u001b[39;00m\u001b[38;5;132;01m{\u001b[39;00mmask\u001b[38;5;241m.\u001b[39mint()[\u001b[38;5;241m0\u001b[39m]\u001b[38;5;132;01m}\u001b[39;00m\u001b[38;5;124m\"\u001b[39m\n\u001b[1;32m     45\u001b[0m     \u001b[38;5;28;01massert\u001b[39;00m torch\u001b[38;5;241m.\u001b[39mall(\n\u001b[1;32m     46\u001b[0m         pos_ids \u001b[38;5;241m==\u001b[39m torch\u001b[38;5;241m.\u001b[39mtensor([expected_pos_ids])\n\u001b[1;32m     47\u001b[0m     ), \u001b[38;5;124mf\u001b[39m\u001b[38;5;124m\"\u001b[39m\u001b[38;5;132;01m{\u001b[39;00mpos_ids[\u001b[38;5;241m0\u001b[39m]\u001b[38;5;241m.\u001b[39mtolist()\u001b[38;5;132;01m}\u001b[39;00m\u001b[38;5;124m\"\u001b[39m\n",
      "Cell \u001b[0;32mIn[406], line 26\u001b[0m, in \u001b[0;36mmask_and_pos_ids\u001b[0;34m(ids, parent_ids)\u001b[0m\n\u001b[1;32m     24\u001b[0m     mask \u001b[38;5;241m=\u001b[39m _mask\n\u001b[1;32m     25\u001b[0m     \u001b[38;5;66;03m# _mask = mask | (ids.unsqueeze(1) == parent_ids.unsqueeze(2))\u001b[39;00m\n\u001b[0;32m---> 26\u001b[0m     _mask \u001b[38;5;241m=\u001b[39m \u001b[43mtorch\u001b[49m\u001b[38;5;241;43m.\u001b[39;49m\u001b[43mmm\u001b[49m\u001b[43m(\u001b[49m\u001b[43mmask\u001b[49m\u001b[38;5;241;43m.\u001b[39;49m\u001b[43mfloat\u001b[49m\u001b[43m(\u001b[49m\u001b[43m)\u001b[49m\u001b[43m,\u001b[49m\u001b[43m \u001b[49m\u001b[43mmask\u001b[49m\u001b[38;5;241;43m.\u001b[39;49m\u001b[43mfloat\u001b[49m\u001b[43m(\u001b[49m\u001b[43m)\u001b[49m\u001b[43m)\u001b[49m \u001b[38;5;241m>\u001b[39m \u001b[38;5;241m0\u001b[39m\n\u001b[1;32m     27\u001b[0m \u001b[38;5;66;03m# mask = ids.unsqueeze(1) == ids.unsqueeze(2)\u001b[39;00m\n\u001b[1;32m     28\u001b[0m \u001b[38;5;66;03m# mask |= ids.unsqueeze(1) == parent_ids.unsqueeze(2)\u001b[39;00m\n\u001b[1;32m     29\u001b[0m mask \u001b[38;5;241m&\u001b[39m\u001b[38;5;241m=\u001b[39m torch\u001b[38;5;241m.\u001b[39mtril(torch\u001b[38;5;241m.\u001b[39mones_like(mask, dtype\u001b[38;5;241m=\u001b[39mtorch\u001b[38;5;241m.\u001b[39mbool, device\u001b[38;5;241m=\u001b[39mids\u001b[38;5;241m.\u001b[39mdevice))\n",
      "\u001b[0;31mRuntimeError\u001b[0m: self must be a matrix"
     ]
    }
   ],
   "source": [
    "def mask_and_pos_ids(\n",
    "    ids: torch.Tensor, parent_ids: torch.Tensor\n",
    ") -> tuple[torch.Tensor, torch.Tensor]:\n",
    "    \"\"\"Creates an attention mask and position IDs for hierarchical attention based on node IDs and their parent IDs.\n",
    "\n",
    "    Args:\n",
    "        ids: A tensor of shape (batch_size, sequence_length) containing node IDs\n",
    "        parent_ids: A tensor of shape (batch_size, sequence_length) containing parent IDs for each node\n",
    "\n",
    "    Returns:\n",
    "        A tuple containing:\n",
    "        - mask: A boolean tensor of shape (batch_size, sequence_length, sequence_length) where True indicates\n",
    "          allowed attention connections. Each position can attend to itself and any of its ancestors\n",
    "          in the hierarchy, but only for previous positions (due to causal masking).\n",
    "        - pos_ids: A tensor of shape (batch_size, sequence_length, sequence_length) containing relative\n",
    "          position IDs for each allowed attention connection, with -1 for masked positions.\n",
    "    \"\"\"\n",
    "    mask = ids.unsqueeze(1) == ids.unsqueeze(2)\n",
    "    _mask = mask | (ids.unsqueeze(1) == parent_ids.unsqueeze(2))\n",
    "    while torch.any(mask != _mask):\n",
    "        parent_ids = parent_ids.gather(\n",
    "            1, torch.argmax((parent_ids.unsqueeze(2) == ids.unsqueeze(1)).int(), dim=2)\n",
    "        )\n",
    "        mask = _mask\n",
    "        _mask = mask | (ids.unsqueeze(1) == parent_ids.unsqueeze(2))\n",
    "    mask &= torch.tril(torch.ones_like(mask, dtype=torch.bool, device=ids.device))\n",
    "    # mask = torch.linalg.matrix_power(mask.float(), mask.size(1) - 1) > 0\n",
    "    pos_ids = (torch.where(mask, mask.cumsum(2), 0) - 1).max(1).values\n",
    "    return mask, pos_ids\n",
    "\n",
    "\n",
    "def test_mask_and_pos_ids(\n",
    "    ids: list[int],\n",
    "    parent_ids: list[int],\n",
    "    expected_mask: list[list[int]],\n",
    "    expected_pos_ids: list[int],\n",
    "):\n",
    "    mask, pos_ids = mask_and_pos_ids(\n",
    "        ids=torch.tensor([ids]), parent_ids=torch.tensor([parent_ids])\n",
    "    )\n",
    "    assert torch.all(mask.int() == torch.tensor([expected_mask])), f\"\\n{mask.int()[0]}\"\n",
    "    assert torch.all(\n",
    "        pos_ids == torch.tensor([expected_pos_ids])\n",
    "    ), f\"{pos_ids[0].tolist()}\"\n",
    "\n",
    "\n",
    "test_mask_and_pos_ids(\n",
    "    ids=[0, 1],\n",
    "    parent_ids=[0, 1],\n",
    "    expected_mask=[[1, 0], [0, 1]],\n",
    "    expected_pos_ids=[0, 0],\n",
    ")\n",
    "\n",
    "test_mask_and_pos_ids(\n",
    "    ids=[0, 1, 1],\n",
    "    parent_ids=[0, 0, 0],\n",
    "    expected_mask=[[1, 0, 0], [1, 1, 0], [1, 1, 1]],\n",
    "    expected_pos_ids=[0, 1, 2],\n",
    ")\n",
    "\n",
    "test_mask_and_pos_ids(\n",
    "    ids=[0, 1, 2, 3],\n",
    "    parent_ids=[0, 0, 1, 2],\n",
    "    expected_mask=[[1, 0, 0, 0], [1, 1, 0, 0], [1, 1, 1, 0], [1, 1, 1, 1]],\n",
    "    expected_pos_ids=[0, 1, 2, 3],\n",
    ")\n",
    "\n",
    "test_mask_and_pos_ids(\n",
    "    ids=[0, 0, 1, 1],\n",
    "    parent_ids=[0, 0, 1, 1],\n",
    "    expected_mask=[[1, 0, 0, 0], [1, 1, 0, 0], [0, 0, 1, 0], [0, 0, 1, 1]],\n",
    "    expected_pos_ids=[0, 1, 0, 1],\n",
    ")\n",
    "\n",
    "test_mask_and_pos_ids(\n",
    "    ids=[0, 1, 2, 3],\n",
    "    parent_ids=[0, 1, 0, 1],\n",
    "    expected_mask=[[1, 0, 0, 0], [0, 1, 0, 0], [1, 0, 1, 0], [0, 1, 0, 1]],\n",
    "    expected_pos_ids=[0, 0, 1, 1],\n",
    ")\n",
    "\n",
    "test_mask_and_pos_ids(\n",
    "    ids=[0, 1, 2, 2, 3, 3],\n",
    "    parent_ids=[0, 1, 0, 0, 1, 1],\n",
    "    expected_mask=[\n",
    "        [1, 0, 0, 0, 0, 0],\n",
    "        [0, 1, 0, 0, 0, 0],\n",
    "        [1, 0, 1, 0, 0, 0],\n",
    "        [1, 0, 1, 1, 0, 0],\n",
    "        [0, 1, 0, 0, 1, 0],\n",
    "        [0, 1, 0, 0, 1, 1],\n",
    "    ],\n",
    "    expected_pos_ids=[0, 0, 1, 2, 1, 2],\n",
    ")\n",
    "\n",
    "test_mask_and_pos_ids(\n",
    "    ids=[0, 1, 2, 3, 4, 4, 5, 5],\n",
    "    parent_ids=[0, 0, 1, 1, 2, 2, 3, 3],\n",
    "    expected_mask=[\n",
    "        [1, 0, 0, 0, 0, 0, 0, 0],\n",
    "        [1, 1, 0, 0, 0, 0, 0, 0],\n",
    "        [1, 1, 1, 0, 0, 0, 0, 0],\n",
    "        [1, 1, 0, 1, 0, 0, 0, 0],\n",
    "        [1, 1, 1, 0, 1, 0, 0, 0],\n",
    "        [1, 1, 1, 0, 1, 1, 0, 0],\n",
    "        [1, 1, 0, 1, 0, 0, 1, 0],\n",
    "        [1, 1, 0, 1, 0, 0, 1, 1],\n",
    "    ],\n",
    "    expected_pos_ids=[0, 1, 2, 2, 3, 4, 3, 4],\n",
    ")\n",
    "\n",
    "test_mask_and_pos_ids(\n",
    "    ids=[2, 1, 0],\n",
    "    parent_ids=[2, 2, 0],\n",
    "    expected_mask=[\n",
    "        [1, 0, 0],\n",
    "        [1, 1, 0],\n",
    "        [0, 0, 1],\n",
    "    ],\n",
    "    expected_pos_ids=[0, 1, 0],\n",
    ")"
   ]
  },
  {
   "cell_type": "code",
   "execution_count": 397,
   "metadata": {},
   "outputs": [
    {
     "name": "stdout",
     "output_type": "stream",
     "text": [
      "tensor([[1., 0., 0., 0.],\n",
      "        [1., 1., 0., 0.],\n",
      "        [1., 1., 1., 0.],\n",
      "        [0., 0., 0., 1.]])\n"
     ]
    }
   ],
   "source": [
    "import torch\n",
    "\n",
    "def compute_reachability_matrix(adj_matrix):\n",
    "    # Number of nodes\n",
    "    num_nodes = adj_matrix.size(0)\n",
    "\n",
    "    # Start with the adjacency matrix as reachability\n",
    "    reachability = adj_matrix.clone()\n",
    "\n",
    "    # Add paths of length 2 to N-1\n",
    "    for _ in range(num_nodes - 1):\n",
    "        # Update reachability with additional paths\n",
    "        reachability = reachability + torch.mm(reachability, adj_matrix)\n",
    "\n",
    "    # Convert to binary (reachable or not)\n",
    "    reachability = (reachability > 0).float()\n",
    "\n",
    "    return reachability\n",
    "\n",
    "# Example adjacency matrix\n",
    "adj_matrix = torch.tensor([\n",
    "    [1, 0, 0, 0],\n",
    "    [1, 1, 0, 0],\n",
    "    [0, 1, 1, 0],\n",
    "    [0, 0, 0, 1]\n",
    "], dtype=torch.float32)\n",
    "\n",
    "reachability_matrix = compute_reachability_matrix(adj_matrix)\n",
    "print(reachability_matrix)"
   ]
  },
  {
   "cell_type": "code",
   "execution_count": 399,
   "metadata": {},
   "outputs": [
    {
     "name": "stdout",
     "output_type": "stream",
     "text": [
      "tensor([[1., 0., 0., 0.],\n",
      "        [1., 1., 0., 0.],\n",
      "        [1., 1., 1., 0.],\n",
      "        [0., 0., 0., 1.]])\n"
     ]
    }
   ],
   "source": [
    "def compute_reachability_matrix_one_swoop(adj_matrix):\n",
    "    num_nodes = adj_matrix.size(0)\n",
    "\n",
    "    # Compute the series sum: (I + A + A^2 + ... + A^(N-1))\n",
    "    reachability = torch.matrix_power(adj_matrix, num_nodes - 1)\n",
    "\n",
    "    # Binarize the result\n",
    "    reachability = (reachability > 0).float()\n",
    "\n",
    "    return reachability\n",
    "\n",
    "reachability_matrix = compute_reachability_matrix_one_swoop(adj_matrix)\n",
    "print(reachability_matrix)"
   ]
  },
  {
   "cell_type": "code",
   "execution_count": 403,
   "metadata": {},
   "outputs": [
    {
     "data": {
      "text/plain": [
       "tensor([[  0,   1,   2,  ..., 127, 127, 127],\n",
       "        [  0,   1,   1,  ...,  43,  43,  43]])"
      ]
     },
     "execution_count": 403,
     "metadata": {},
     "output_type": "execute_result"
    }
   ],
   "source": [
    "import random\n",
    "\n",
    "\n",
    "class Node:\n",
    "    def __init__(self, id: int, parent: \"Node | None\" = None, size: int = 1):\n",
    "        self.id = id\n",
    "        self.parent = parent\n",
    "        self.size = size\n",
    "\n",
    "\n",
    "nodes = [Node(id=0, size=random.randint(1, 1)), Node(id=1, size=random.randint(1, 1))]\n",
    "for i in range(2, 128):\n",
    "    parent = random.choice(nodes)\n",
    "    size = random.randint(1, 128)\n",
    "    node = Node(id=i, parent=parent, size=size)\n",
    "    nodes.append(node)\n",
    "ids = torch.tensor([node.id for node in nodes for _ in range(node.size)])\n",
    "parent_ids = torch.tensor(\n",
    "    [\n",
    "        node.parent.id if node.parent else node.id\n",
    "        for node in nodes\n",
    "        for _ in range(node.size)\n",
    "    ]\n",
    ")\n",
    "# mask = get_mask(ids, parent_ids)\n",
    "# faster_mask = get_faster_mask(ids, parent_ids)\n",
    "torch.stack([ids, parent_ids])"
   ]
  },
  {
   "cell_type": "code",
   "execution_count": 391,
   "metadata": {},
   "outputs": [
    {
     "data": {
      "text/plain": [
       "8292"
      ]
     },
     "execution_count": 391,
     "metadata": {},
     "output_type": "execute_result"
    }
   ],
   "source": [
    "len(ids)"
   ]
  },
  {
   "cell_type": "code",
   "execution_count": 404,
   "metadata": {},
   "outputs": [
    {
     "name": "stdout",
     "output_type": "stream",
     "text": [
      "27.9 s ± 85.1 ms per loop (mean ± std. dev. of 7 runs, 1 loop each)\n"
     ]
    }
   ],
   "source": [
    "%%timeit\n",
    "_ = mask_and_pos_ids(torch.stack([ids, ids]), torch.stack([parent_ids, parent_ids]))"
   ]
  },
  {
   "cell_type": "code",
   "execution_count": 148,
   "metadata": {},
   "outputs": [],
   "source": [
    "def show(mask):\n",
    "    plt.figure(figsize=(10, 10))\n",
    "    plt.imshow(mask, cmap=\"binary\")\n",
    "    plt.colorbar()\n",
    "    plt.title(\"Attention Mask\")\n",
    "    plt.xlabel(\"Source Position\")\n",
    "    plt.ylabel(\"Target Position\")\n",
    "    plt.show()"
   ]
  },
  {
   "cell_type": "code",
   "execution_count": 2,
   "metadata": {},
   "outputs": [
    {
     "name": "stdout",
     "output_type": "stream",
     "text": [
      "INFO 11-18 18:14:23 api_server.py:528] vLLM API server version dev\n",
      "\n",
      "INFO 11-18 18:14:23 api_server.py:529] args: Namespace(subparser='serve', model_tag='NousResearch/Hermes-2-Theta-Llama-3-8B', config='', host=None, port=8000, uvicorn_log_level='info', allow_credentials=False, allowed_origins=['*'], allowed_methods=['*'], allowed_headers=['*'], api_key=None, lora_modules=None, prompt_adapters=None, chat_template=None, response_role='assistant', ssl_keyfile=None, ssl_certfile=None, ssl_ca_certs=None, ssl_cert_reqs=0, root_path=None, middleware=[], return_tokens_as_token_ids=False, disable_frontend_multiprocessing=False, enable_auto_tool_choice=False, tool_call_parser=None, tool_parser_plugin='', model='NousResearch/Hermes-2-Theta-Llama-3-8B', tokenizer=None, skip_tokenizer_init=False, revision=None, code_revision=None, tokenizer_revision=None, tokenizer_mode='auto', trust_remote_code=False, download_dir=None, load_format='auto', config_format='auto', dtype='auto', kv_cache_dtype='auto', quantization_param_path=None, max_model_len=None, guided_decoding_backend='outlines', distributed_executor_backend=None, worker_use_ray=False, pipeline_parallel_size=1, tensor_parallel_size=1, max_parallel_loading_workers=None, ray_workers_use_nsight=False, block_size=16, enable_prefix_caching=False, disable_sliding_window=False, use_v2_block_manager=True, num_lookahead_slots=0, seed=0, swap_space=4, cpu_offload_gb=0, gpu_memory_utilization=0.9, num_gpu_blocks_override=None, max_num_batched_tokens=None, max_num_seqs=256, max_logprobs=20, disable_log_stats=False, quantization=None, rope_scaling=None, rope_theta=None, enforce_eager=False, max_context_len_to_capture=None, max_seq_len_to_capture=8192, disable_custom_all_reduce=False, tokenizer_pool_size=0, tokenizer_pool_type='ray', tokenizer_pool_extra_config=None, limit_mm_per_prompt=None, mm_processor_kwargs=None, enable_lora=False, max_loras=1, max_lora_rank=16, lora_extra_vocab_size=256, lora_dtype='auto', long_lora_scaling_factors=None, max_cpu_loras=None, fully_sharded_loras=False, enable_prompt_adapter=False, max_prompt_adapters=1, max_prompt_adapter_token=0, device='auto', num_scheduler_steps=1, multi_step_stream_outputs=True, scheduler_delay_factor=0.0, enable_chunked_prefill=None, speculative_model=None, speculative_model_quantization=None, num_speculative_tokens=None, speculative_disable_mqa_scorer=False, speculative_draft_tensor_parallel_size=None, speculative_max_model_len=None, speculative_disable_by_batch_size=None, ngram_prompt_lookup_max=None, ngram_prompt_lookup_min=None, spec_decoding_acceptance_method='rejection_sampler', typical_acceptance_sampler_posterior_threshold=None, typical_acceptance_sampler_posterior_alpha=None, disable_logprobs_during_spec_decoding=None, model_loader_extra_config=None, ignore_patterns=[], preemption_mode=None, served_model_name=None, qlora_adapter_name_or_path=None, otlp_traces_endpoint=None, collect_detailed_traces=None, disable_async_output_proc=False, override_neuron_config=None, scheduling_policy='fcfs', disable_log_requests=False, max_log_len=None, disable_fastapi_docs=False, dispatch_function=<function serve at 0x781c10210cc0>)\n",
      "\n",
      "INFO 11-18 18:14:23 api_server.py:166] Multiprocessing frontend to use ipc:///tmp/cb2e4a1c-be7a-4775-832d-34b9eaf7e1f3 for IPC Path.\n",
      "\n",
      "INFO 11-18 18:14:23 api_server.py:179] Started engine process with PID 8558\n",
      "\n",
      "INFO 11-18 18:14:33 llm_engine.py:237] Initializing an LLM engine (vdev) with config: model='NousResearch/Hermes-2-Theta-Llama-3-8B', speculative_config=None, tokenizer='NousResearch/Hermes-2-Theta-Llama-3-8B', skip_tokenizer_init=False, tokenizer_mode=auto, revision=None, override_neuron_config=None, rope_scaling=None, rope_theta=None, tokenizer_revision=None, trust_remote_code=False, dtype=torch.bfloat16, max_seq_len=8192, download_dir=None, load_format=LoadFormat.AUTO, tensor_parallel_size=1, pipeline_parallel_size=1, disable_custom_all_reduce=False, quantization=None, enforce_eager=False, kv_cache_dtype=auto, quantization_param_path=None, device_config=cuda, decoding_config=DecodingConfig(guided_decoding_backend='outlines'), observability_config=ObservabilityConfig(otlp_traces_endpoint=None, collect_model_forward_time=False, collect_model_execute_time=False), seed=0, served_model_name=NousResearch/Hermes-2-Theta-Llama-3-8B, use_v2_block_manager=True, num_scheduler_steps=1, chunked_prefill_enabled=False multi_step_stream_outputs=True, enable_prefix_caching=False, use_async_output_proc=True, use_cached_outputs=True, mm_processor_kwargs=None)\n",
      "\n",
      "INFO 11-18 18:14:34 model_runner.py:1060] Starting to load model NousResearch/Hermes-2-Theta-Llama-3-8B...\n",
      "\n",
      "INFO 11-18 18:14:35 weight_utils.py:243] Using model weights format ['*.safetensors']\n",
      "\n",
      "INFO 11-18 18:14:38 model_runner.py:1071] Loading model weights took 14.9595 GB\n",
      "\n",
      "INFO 11-18 18:14:39 gpu_executor.py:122] # GPU blocks: 9604, # CPU blocks: 2048\n",
      "\n",
      "INFO 11-18 18:14:39 gpu_executor.py:126] Maximum concurrency for 8192 tokens per request: 18.76x\n",
      "\n",
      "INFO 11-18 18:14:42 model_runner.py:1402] Capturing the model for CUDA graphs. This may lead to unexpected consequences if the model is not static. To run the model in eager mode, set 'enforce_eager=True' or use '--enforce-eager' in the CLI.\n",
      "\n",
      "INFO 11-18 18:14:42 model_runner.py:1406] CUDA graphs can take additional 1~3 GiB memory per GPU. If you are running out of memory, consider decreasing `gpu_memory_utilization` or enforcing eager mode. You can also reduce the `max_num_seqs` as needed to decrease memory usage.\n",
      "\n",
      "INFO 11-18 18:14:55 model_runner.py:1530] Graph capturing finished in 12 secs.\n",
      "\n",
      "INFO 11-18 18:14:55 api_server.py:232] vLLM to use /tmp/tmpop4p9wim as PROMETHEUS_MULTIPROC_DIR\n",
      "\n",
      "WARNING 11-18 18:14:55 serving_embedding.py:199] embedding_mode is False. Embedding API will not work.\n",
      "\n",
      "INFO 11-18 18:14:55 launcher.py:19] Available routes are:\n",
      "\n",
      "INFO 11-18 18:14:55 launcher.py:27] Route: /openapi.json, Methods: GET, HEAD\n",
      "\n",
      "INFO 11-18 18:14:55 launcher.py:27] Route: /docs, Methods: GET, HEAD\n",
      "\n",
      "INFO 11-18 18:14:55 launcher.py:27] Route: /docs/oauth2-redirect, Methods: GET, HEAD\n",
      "\n",
      "INFO 11-18 18:14:55 launcher.py:27] Route: /redoc, Methods: GET, HEAD\n",
      "\n",
      "INFO 11-18 18:14:55 launcher.py:27] Route: /health, Methods: GET\n",
      "\n",
      "INFO 11-18 18:14:55 launcher.py:27] Route: /tokenize, Methods: POST\n",
      "\n",
      "INFO 11-18 18:14:55 launcher.py:27] Route: /detokenize, Methods: POST\n",
      "\n",
      "INFO 11-18 18:14:55 launcher.py:27] Route: /v1/models, Methods: GET\n",
      "\n",
      "INFO 11-18 18:14:55 launcher.py:27] Route: /version, Methods: GET\n",
      "\n",
      "INFO 11-18 18:14:55 launcher.py:27] Route: /v1/chat/completions, Methods: POST\n",
      "\n",
      "INFO 11-18 18:14:55 launcher.py:27] Route: /v1/completions, Methods: POST\n",
      "\n",
      "INFO 11-18 18:14:55 launcher.py:27] Route: /v1/embeddings, Methods: POST\n",
      "\n",
      "INFO 11-18 18:15:05 metrics.py:345] Avg prompt throughput: 0.0 tokens/s, Avg generation throughput: 0.0 tokens/s, Running: 0 reqs, Swapped: 0 reqs, Pending: 0 reqs, GPU KV cache usage: 0.0%, CPU KV cache usage: 0.0%.\n",
      "\n",
      "INFO 11-18 18:15:15 metrics.py:345] Avg prompt throughput: 0.0 tokens/s, Avg generation throughput: 0.0 tokens/s, Running: 0 reqs, Swapped: 0 reqs, Pending: 0 reqs, GPU KV cache usage: 0.0%, CPU KV cache usage: 0.0%.\n",
      "\n",
      "INFO 11-18 18:15:25 metrics.py:345] Avg prompt throughput: 0.0 tokens/s, Avg generation throughput: 0.0 tokens/s, Running: 0 reqs, Swapped: 0 reqs, Pending: 0 reqs, GPU KV cache usage: 0.0%, CPU KV cache usage: 0.0%.\n",
      "\n",
      "INFO 11-18 18:15:35 metrics.py:345] Avg prompt throughput: 0.0 tokens/s, Avg generation throughput: 0.0 tokens/s, Running: 0 reqs, Swapped: 0 reqs, Pending: 0 reqs, GPU KV cache usage: 0.0%, CPU KV cache usage: 0.0%.\n",
      "\n"
     ]
    }
   ],
   "source": [
    "import asyncio\n",
    "\n",
    "process = await asyncio.create_subprocess_exec(\n",
    "    \"vllm\",\n",
    "    \"serve\",\n",
    "    \"NousResearch/Hermes-2-Theta-Llama-3-8B\",\n",
    "    stdout=asyncio.subprocess.PIPE,\n",
    "    stderr=asyncio.subprocess.PIPE,\n",
    ")\n",
    "while True:\n",
    "    print((await process.stdout.readline()).decode())"
   ]
  },
  {
   "cell_type": "code",
   "execution_count": null,
   "metadata": {},
   "outputs": [],
   "source": [
    "from lib.vllm import start_vllm_server, vllm_server_metrics\n",
    "import os\n",
    "\n",
    "model = \"NousResearch/Hermes-2-Theta-Llama-3-8B\"\n",
    "\n",
    "os.environ[\"VLLM_ALLOW_LONG_MAX_MODEL_LEN\"] = \"1\"\n",
    "shutdown_server, client = await start_vllm_server(\n",
    "    disable_log_requests=True,\n",
    "    max_model_len=16384,\n",
    "    model=model,\n",
    ")"
   ]
  },
  {
   "cell_type": "code",
   "execution_count": null,
   "metadata": {},
   "outputs": [],
   "source": [
    "import asyncio\n",
    "from lib.rl.episode import Episode\n",
    "from typing import AsyncIterable, Literal\n",
    "\n",
    "Split = Literal[\"train\", \"val\", \"test\"]\n",
    "\n",
    "\n",
    "async def episodes(split: Split) -> AsyncIterable[Episode]:\n",
    "    for _ in range(10):\n",
    "        await asyncio.sleep(1)\n",
    "        yield Episode()  # type: ignore\n",
    "\n",
    "\n",
    "async for episode in episodes(split=\"val\"):\n",
    "    print(episode)"
   ]
  },
  {
   "cell_type": "code",
   "execution_count": null,
   "metadata": {},
   "outputs": [],
   "source": [
    "from lib.rl.trainer import Trainer\n",
    "\n",
    "episode = Episode()\n",
    "\n",
    "Trainer(\n",
    "    base_model=model,\n",
    "    episodes={\n",
    "        \"train\": [episode],\n",
    "        \"val\": [episode],\n",
    "        \"test\": [episode],\n",
    "    },\n",
    ")"
   ]
  }
 ],
 "metadata": {
  "kernelspec": {
   "display_name": ".venv",
   "language": "python",
   "name": "python3"
  },
  "language_info": {
   "codemirror_mode": {
    "name": "ipython",
    "version": 3
   },
   "file_extension": ".py",
   "mimetype": "text/x-python",
   "name": "python",
   "nbconvert_exporter": "python",
   "pygments_lexer": "ipython3",
   "version": "3.12.7"
  }
 },
 "nbformat": 4,
 "nbformat_minor": 2
}
