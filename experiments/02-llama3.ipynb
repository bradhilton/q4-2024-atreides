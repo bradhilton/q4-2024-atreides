{
 "cells": [
  {
   "cell_type": "code",
   "execution_count": 1,
   "metadata": {},
   "outputs": [],
   "source": [
    "%load_ext autoreload\n",
    "%autoreload 2"
   ]
  },
  {
   "cell_type": "code",
   "execution_count": 2,
   "metadata": {},
   "outputs": [
    {
     "name": "stdout",
     "output_type": "stream",
     "text": [
      "Loaded in 7.09 seconds\n"
     ]
    },
    {
     "data": {
      "text/plain": [
       "'cpu'"
      ]
     },
     "execution_count": 2,
     "metadata": {},
     "output_type": "execute_result"
    }
   ],
   "source": [
    "from lib.llama3.reference_impl.generation import Llama\n",
    "import os\n",
    "\n",
    "ckpt_dir = os.path.expanduser(\"~/.llama/checkpoints/Llama3.2-1B/original/\")\n",
    "tokenizer_path = ckpt_dir + \"tokenizer.model\"\n",
    "\n",
    "llama = Llama.build(\n",
    "    ckpt_dir=ckpt_dir,\n",
    "    tokenizer_path=tokenizer_path,\n",
    "    max_seq_len=512,\n",
    "    max_batch_size=1,\n",
    "    device=\"cpu\",\n",
    ")\n",
    "\n",
    "next(llama.model.parameters()).device.type"
   ]
  },
  {
   "cell_type": "code",
   "execution_count": 4,
   "metadata": {},
   "outputs": [
    {
     "data": {
      "text/plain": [
       "' Is there a purpose? Is there a reason for'"
      ]
     },
     "execution_count": 4,
     "metadata": {},
     "output_type": "execute_result"
    }
   ],
   "source": [
    "llama.text_completion(\"What is the meaning of life?\", max_gen_len=10).generation"
   ]
  },
  {
   "cell_type": "code",
   "execution_count": 3,
   "metadata": {},
   "outputs": [
    {
     "name": "stdout",
     "output_type": "stream",
     "text": [
      "First few lines of Shakespeare's text:\n",
      "First Citizen:\n",
      "Before we proceed any further, hear me speak.\n",
      "\n",
      "All:\n",
      "Speak, speak.\n",
      "\n",
      "First Citizen:\n",
      "You are all resolved rather to die than to famish?\n",
      "\n",
      "All:\n",
      "Resolved. resolved.\n",
      "\n",
      "First Citizen:\n",
      "First, you know Caius Marcius is chief enemy to the people.\n",
      "\n",
      "All:\n",
      "We know't, we know't.\n",
      "\n",
      "First Citizen:\n",
      "Let us kill him, and we'll have corn at our own price.\n",
      "Is't a verdict?\n",
      "\n",
      "All:\n",
      "No more talking on't; let it be done: away, away!\n",
      "\n",
      "Second Citizen:\n",
      "One word, good citizens.\n",
      "\n",
      "First Citizen:\n",
      "We are accounted poor\n",
      "\n",
      "Total characters: 1115394\n",
      "Total lines: 40000\n"
     ]
    }
   ],
   "source": [
    "shakespeare_text = open(\"./data/tinyshakespeare.txt\", \"r\").read()\n",
    "\n",
    "# Display the first few lines\n",
    "print(\"First few lines of Shakespeare's text:\")\n",
    "print(shakespeare_text[:500])\n",
    "\n",
    "# Get some statistics\n",
    "total_chars = len(shakespeare_text)\n",
    "total_lines = shakespeare_text.count(\"\\n\")\n",
    "\n",
    "print(f\"\\nTotal characters: {total_chars}\")\n",
    "print(f\"Total lines: {total_lines}\")"
   ]
  },
  {
   "cell_type": "code",
   "execution_count": 4,
   "metadata": {},
   "outputs": [],
   "source": [
    "import json\n",
    "from lib.llama3.reference_impl.model import ModelArgs, Transformer\n",
    "from pathlib import Path\n",
    "\n",
    "\n",
    "with open(Path(ckpt_dir) / \"params.json\", \"r\") as f:\n",
    "    params = json.loads(f.read())\n",
    "\n",
    "params[\"dim\"] //= 4\n",
    "params[\"n_heads\"] //= 4\n",
    "params[\"n_kv_heads\"] //= 4\n",
    "params[\"n_layers\"] //= 4\n",
    "\n",
    "model_args: ModelArgs = ModelArgs(\n",
    "    max_seq_len=512,\n",
    "    max_batch_size=16,\n",
    "    **params,\n",
    ")\n",
    "\n",
    "model = Transformer(model_args)"
   ]
  },
  {
   "cell_type": "code",
   "execution_count": 5,
   "metadata": {},
   "outputs": [
    {
     "name": "stdout",
     "output_type": "stream",
     "text": [
      "Model Parameters:\n",
      "Vocabulary Size: 128256\n",
      "Number of Layers: 4\n",
      "Embedding Dimension: 512\n",
      "Number of Attention Heads: 8\n",
      "Max Sequence Length: 512\n",
      "Feedforward Dimension: 2048\n",
      "\n",
      "Parameter Initialization:\n",
      "tok_embeddings.weight: Initialized\n",
      "layers.0.attention.wq.weight: Initialized\n",
      "layers.0.attention.wk.weight: Initialized\n",
      "layers.0.attention.wv.weight: Initialized\n",
      "layers.0.attention.wo.weight: Initialized\n",
      "layers.0.feed_forward.w1.weight: Initialized\n",
      "layers.0.feed_forward.w2.weight: Initialized\n",
      "layers.0.feed_forward.w3.weight: Initialized\n",
      "layers.0.attention_norm.weight: Initialized\n",
      "layers.0.ffn_norm.weight: Initialized\n",
      "layers.1.attention.wq.weight: Initialized\n",
      "layers.1.attention.wk.weight: Initialized\n",
      "layers.1.attention.wv.weight: Initialized\n",
      "layers.1.attention.wo.weight: Initialized\n",
      "layers.1.feed_forward.w1.weight: Initialized\n",
      "layers.1.feed_forward.w2.weight: Initialized\n",
      "layers.1.feed_forward.w3.weight: Initialized\n",
      "layers.1.attention_norm.weight: Initialized\n",
      "layers.1.ffn_norm.weight: Initialized\n",
      "layers.2.attention.wq.weight: Initialized\n",
      "layers.2.attention.wk.weight: Initialized\n",
      "layers.2.attention.wv.weight: Initialized\n",
      "layers.2.attention.wo.weight: Initialized\n",
      "layers.2.feed_forward.w1.weight: Initialized\n",
      "layers.2.feed_forward.w2.weight: Initialized\n",
      "layers.2.feed_forward.w3.weight: Initialized\n",
      "layers.2.attention_norm.weight: Initialized\n",
      "layers.2.ffn_norm.weight: Initialized\n",
      "layers.3.attention.wq.weight: Initialized\n",
      "layers.3.attention.wk.weight: Initialized\n",
      "layers.3.attention.wv.weight: Initialized\n",
      "layers.3.attention.wo.weight: Initialized\n",
      "layers.3.feed_forward.w1.weight: Initialized\n",
      "layers.3.feed_forward.w2.weight: Initialized\n",
      "layers.3.feed_forward.w3.weight: Initialized\n",
      "layers.3.attention_norm.weight: Initialized\n",
      "layers.3.ffn_norm.weight: Initialized\n",
      "norm.weight: Initialized\n",
      "output.weight: Initialized\n",
      "\n",
      "Key Component Shapes:\n",
      "Token Embeddings: torch.Size([128256, 512])\n",
      "Output Layer: torch.Size([128256, 512])\n",
      "First Layer Query Weight: torch.Size([512, 512])\n",
      "First Layer Key Weight: torch.Size([128, 512])\n",
      "First Layer Value Weight: torch.Size([128, 512])\n",
      "\n",
      "NaN/Inf Check:\n",
      "tok_embeddings.weight: OK\n",
      "layers.0.attention.wq.weight: OK\n",
      "layers.0.attention.wk.weight: OK\n",
      "layers.0.attention.wv.weight: OK\n",
      "layers.0.attention.wo.weight: OK\n",
      "layers.0.feed_forward.w1.weight: OK\n",
      "layers.0.feed_forward.w2.weight: OK\n",
      "layers.0.feed_forward.w3.weight: OK\n",
      "layers.0.attention_norm.weight: OK\n",
      "layers.0.ffn_norm.weight: OK\n",
      "layers.1.attention.wq.weight: OK\n",
      "layers.1.attention.wk.weight: OK\n",
      "layers.1.attention.wv.weight: OK\n",
      "layers.1.attention.wo.weight: OK\n",
      "layers.1.feed_forward.w1.weight: OK\n",
      "layers.1.feed_forward.w2.weight: OK\n",
      "layers.1.feed_forward.w3.weight: OK\n",
      "layers.1.attention_norm.weight: OK\n",
      "layers.1.ffn_norm.weight: OK\n",
      "layers.2.attention.wq.weight: OK\n",
      "layers.2.attention.wk.weight: OK\n",
      "layers.2.attention.wv.weight: OK\n",
      "layers.2.attention.wo.weight: OK\n",
      "layers.2.feed_forward.w1.weight: OK\n",
      "layers.2.feed_forward.w2.weight: OK\n",
      "layers.2.feed_forward.w3.weight: OK\n",
      "layers.2.attention_norm.weight: OK\n",
      "layers.2.ffn_norm.weight: OK\n",
      "layers.3.attention.wq.weight: OK\n",
      "layers.3.attention.wk.weight: OK\n",
      "layers.3.attention.wv.weight: OK\n",
      "layers.3.attention.wo.weight: OK\n",
      "layers.3.feed_forward.w1.weight: OK\n",
      "layers.3.feed_forward.w2.weight: OK\n",
      "layers.3.feed_forward.w3.weight: OK\n",
      "layers.3.attention_norm.weight: OK\n",
      "layers.3.ffn_norm.weight: OK\n",
      "norm.weight: OK\n",
      "output.weight: OK\n"
     ]
    }
   ],
   "source": [
    "import torch\n",
    "\n",
    "# Check model parameters\n",
    "print(\"Model Parameters:\")\n",
    "print(f\"Vocabulary Size: {model.vocab_size}\")\n",
    "print(f\"Number of Layers: {model.n_layers}\")\n",
    "print(f\"Embedding Dimension: {model.params.dim}\")\n",
    "print(f\"Number of Attention Heads: {model.params.n_heads}\")\n",
    "print(f\"Max Sequence Length: {model.params.max_seq_len}\")\n",
    "print(f\"Feedforward Dimension: {model.layers[0].feed_forward.w1.out_features}\")\n",
    "\n",
    "# Check if parameters are initialized\n",
    "print(\"\\nParameter Initialization:\")\n",
    "for name, param in model.named_parameters():\n",
    "    if param.requires_grad:\n",
    "        print(f\"{name}: {'Initialized' if param.sum().item() != 0 else 'Not initialized'}\")\n",
    "\n",
    "# Verify shapes of key components\n",
    "print(\"\\nKey Component Shapes:\")\n",
    "print(f\"Token Embeddings: {model.tok_embeddings.weight.shape}\")\n",
    "print(f\"Output Layer: {model.output.weight.shape}\")\n",
    "print(f\"First Layer Query Weight: {model.layers[0].attention.wq.weight.shape}\")\n",
    "print(f\"First Layer Key Weight: {model.layers[0].attention.wk.weight.shape}\")\n",
    "print(f\"First Layer Value Weight: {model.layers[0].attention.wv.weight.shape}\")\n",
    "\n",
    "# Check for NaNs or infinities\n",
    "print(\"\\nNaN/Inf Check:\")\n",
    "for name, param in model.named_parameters():\n",
    "    if torch.isnan(param).any() or torch.isinf(param).any():\n",
    "        print(f\"Warning: {name} contains NaN or Inf values\")\n",
    "    else:\n",
    "        print(f\"{name}: OK\")\n"
   ]
  },
  {
   "cell_type": "code",
   "execution_count": 6,
   "metadata": {},
   "outputs": [
    {
     "name": "stdout",
     "output_type": "stream",
     "text": [
      "\n",
      "Total Trainable Parameters: 146,543,104\n",
      "Approximate Model Size: 0.55 GB\n"
     ]
    }
   ],
   "source": [
    "# Calculate number of trainable parameters\n",
    "total_params = sum(p.numel() for p in model.parameters() if p.requires_grad)\n",
    "print(f\"\\nTotal Trainable Parameters: {total_params:,}\")\n",
    "\n",
    "# Calculate size in gigabytes (assuming float32 parameters)\n",
    "size_in_gb = total_params * 4 / (1024**3)  # 4 bytes per float32 parameter\n",
    "print(f\"Approximate Model Size: {size_in_gb:.2f} GB\")"
   ]
  },
  {
   "cell_type": "code",
   "execution_count": 51,
   "metadata": {},
   "outputs": [
    {
     "name": "stderr",
     "output_type": "stream",
     "text": [
      "Epoch 1/1: 37batch [05:30,  8.93s/batch, Loss=0.3155]                     \n"
     ]
    },
    {
     "name": "stdout",
     "output_type": "stream",
     "text": [
      "Epoch 1/1 completed. Average Loss: 0.3303\n",
      "Training completed!\n",
      " to wooing with a wife, my heart.\n",
      "\n",
      "JULIET:\n",
      "What's he will make good night.\n",
      "\n",
      "JULIET:\n",
      "So much to be my fortune, and I love.\n",
      "\n",
      "JULIET:\n",
      "I'll stay the county.\n",
      "\n",
      "JULIET:\n",
      "So would be.\n",
      "\n",
      "JULIET:\n",
      "So: but give me the sin that I but hate thee.\n",
      "\n",
      "JULIET:\n",
      "I will defend the heart; one\n",
      "How night you love the better, but my love\n"
     ]
    }
   ],
   "source": [
    "import torch\n",
    "import torch.nn.functional as F\n",
    "\n",
    "# Tokenize the text\n",
    "tokens = llama.tokenizer.encode(shakespeare_text, bos=False, eos=False)\n",
    "\n",
    "# Set up optimizer\n",
    "optimizer = torch.optim.AdamW(model.parameters(), lr=1e-4)\n",
    "\n",
    "# Get the device\n",
    "device = next(model.parameters()).device\n",
    "\n",
    "# Training loop\n",
    "from tqdm import tqdm\n",
    "\n",
    "seq_len = model.params.max_seq_len\n",
    "num_epochs = 1\n",
    "batch_size = 16\n",
    "model.train()\n",
    "for epoch in range(num_epochs):\n",
    "    total_loss = 0\n",
    "    num_batches = (len(tokens) - seq_len) // (batch_size * seq_len)\n",
    "    \n",
    "    with tqdm(total=num_batches, desc=f\"Epoch {epoch+1}/{num_epochs}\", unit=\"batch\") as pbar:\n",
    "        for i in range(0, len(tokens) - seq_len, batch_size * seq_len):\n",
    "            batch_end = min(i + batch_size * seq_len, len(tokens) - seq_len)\n",
    "            x = torch.tensor([tokens[j:j+seq_len] for j in range(i, batch_end, seq_len)], dtype=torch.long).to(device)\n",
    "            y = torch.tensor([tokens[j+1:j+seq_len+1] for j in range(i, batch_end, seq_len)], dtype=torch.long).to(device)\n",
    "            \n",
    "            optimizer.zero_grad()\n",
    "            \n",
    "            logits = model(x, 0)\n",
    "            loss = F.cross_entropy(logits.view(-1, model.vocab_size), y.view(-1))\n",
    "            \n",
    "            loss.backward()\n",
    "            optimizer.step()\n",
    "            \n",
    "            total_loss += loss.item()\n",
    "            \n",
    "            pbar.update(1)\n",
    "            pbar.set_postfix({\"Loss\": f\"{loss.item():.4f}\"})\n",
    "    \n",
    "    avg_loss = total_loss / num_batches\n",
    "    print(f\"Epoch {epoch+1}/{num_epochs} completed. Average Loss: {avg_loss:.4f}\")\n",
    "\n",
    "print(\"Training completed!\")\n",
    "\n",
    "# Generate some text using the trained model\n",
    "model.eval()\n",
    "print(Llama(model, llama.tokenizer, model_args).text_completion(\"To be or not to be, \", max_gen_len=100).generation)"
   ]
  },
  {
   "cell_type": "code",
   "execution_count": 52,
   "metadata": {},
   "outputs": [
    {
     "name": "stdout",
     "output_type": "stream",
     "text": [
      "Model checkpoint saved to checkpoints/llama3_model_checkpoint.pth\n",
      "Model arguments saved to checkpoints/llama3_model_args.json\n"
     ]
    }
   ],
   "source": [
    "# Checkpoint the model\n",
    "import os\n",
    "\n",
    "# Create a directory for checkpoints if it doesn't exist\n",
    "checkpoint_dir = \"checkpoints\"\n",
    "os.makedirs(checkpoint_dir, exist_ok=True)\n",
    "\n",
    "# Save the model state\n",
    "checkpoint_path = os.path.join(checkpoint_dir, \"llama3_model_checkpoint.pth\")\n",
    "torch.save(model.state_dict(), checkpoint_path)\n",
    "\n",
    "print(f\"Model checkpoint saved to {checkpoint_path}\")\n",
    "\n",
    "# Save the model arguments\n",
    "import json\n",
    "\n",
    "model_args_path = os.path.join(checkpoint_dir, \"llama3_model_args.json\")\n",
    "with open(model_args_path, 'w') as f:\n",
    "    json.dump(vars(model.params), f, indent=2)\n",
    "\n",
    "print(f\"Model arguments saved to {model_args_path}\")"
   ]
  },
  {
   "cell_type": "code",
   "execution_count": 54,
   "metadata": {},
   "outputs": [
    {
     "name": "stdout",
     "output_type": "stream",
     "text": [
      "To be or not to be, no will to die through love itself.\n",
      "Why, how to tread how do to honour newly your brother,\n",
      "But to have five thousand thanks too much to Clarence:\n",
      "I'll give my soul,\n",
      "To should our speech of gold and too:\n",
      "You are dear train, and father, poor brother,\n",
      "Ere further conference with a passing small.\n",
      "O Dorsetable.\n",
      "Your sense may beggarly the tomb,\n",
      "And bid me mistress sit dispatch: past the boy,\n",
      "And well lost with one thing just proportion,\n",
      "And over the board, under his liking!\n",
      "And all the watchful eye of dear faith,\n",
      "More fierce and an inditeous wrath!\n",
      "How well, lords, I befall, and lay,\n",
      "Is not forgot the tyrant, to fill the crown,\n",
      "And manage of your glorious sun: regent join'd!\n",
      "Yet would youravenousoddess, that went;\n",
      "And well we have heard of all run a needful';\n",
      "Anduile me with the root\n",
      "And buryWhat! myself become a tyrant\n",
      "Stands without the brat's king in Bosworth\n",
      "To leap upon a black tidings was;\n",
      "And in all my tumble down: great leaving me,\n",
      "'Twere a bloody axe to that makes your countenance.\n",
      "See how, command of the head brings a tyrant,\n",
      "Found that the fair volume of York, God,\n",
      "Vouches her career me that was in'd death.\n",
      "\n",
      "EDWARD:\n",
      "Let me be not; and take me no fight:\n",
      "I'll none but well-spAGUE:\n",
      "My lord, yea, fealty like you night;\n",
      "And your mind are fled; and so most I stay,\n",
      "Together with many gawdy; and welcome down\n",
      "'Tis'd by them-ch committed by envious,\n",
      "And ancient feast, like a cover to obey.\n",
      "But if my ghostly heart's sin,\n",
      "Hark you in this and left protectors,\n",
      "And chivalrous'd my common men's music of alike,\n",
      "Since knees with O, the book of Percy,\n",
      "This heavy chamber-potless of pestil\n",
      "That brings the white man? that must we mock thee.\n",
      "Therefore, what a greater thaniger in this cell,\n",
      "Is ignorant with a dyingadvisedly com,\n",
      "Then vial and kin and Tybroke,\n",
      "This music crept like the grave with the bloody fray.\n",
      "\n",
      "RICHARD:\n",
      "O Duke of Somerset, Richard, dull delay\n",
      "WillDie in the vice: little thinks not goodly, my lord,\n",
      "Come quickly\n"
     ]
    }
   ],
   "source": [
    "model.eval()\n",
    "print(Llama(model, llama.tokenizer, model_args).text_completion(\"To be or not to be,\", temperature=1.0, max_gen_len=500, echo=True).generation.split(\"<|begin_of_text|>\")[1])"
   ]
  }
 ],
 "metadata": {
  "kernelspec": {
   "display_name": ".venv",
   "language": "python",
   "name": "python3"
  },
  "language_info": {
   "codemirror_mode": {
    "name": "ipython",
    "version": 3
   },
   "file_extension": ".py",
   "mimetype": "text/x-python",
   "name": "python",
   "nbconvert_exporter": "python",
   "pygments_lexer": "ipython3",
   "version": "3.12.5"
  }
 },
 "nbformat": 4,
 "nbformat_minor": 2
}
