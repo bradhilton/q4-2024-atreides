{
 "cells": [
  {
   "cell_type": "code",
   "execution_count": 1,
   "metadata": {},
   "outputs": [],
   "source": [
    "%load_ext autoreload\n",
    "%autoreload 2"
   ]
  },
  {
   "cell_type": "code",
   "execution_count": 2,
   "metadata": {},
   "outputs": [
    {
     "name": "stderr",
     "output_type": "stream",
     "text": [
      "/home/ubuntu/atreides/.venv/lib/python3.12/site-packages/vllm/connections.py:8: RuntimeWarning: Failed to read commit hash:\n",
      "No module named 'vllm._version'\n",
      "  from vllm.version import __version__ as VLLM_VERSION\n",
      "/home/ubuntu/atreides/.venv/lib/python3.12/site-packages/vllm/connections.py:8: RuntimeWarning: Failed to read commit hash:\n",
      "No module named 'vllm._version'\n",
      "  from vllm.version import __version__ as VLLM_VERSION\n",
      "Loading safetensors checkpoint shards:   0% Completed | 0/4 [00:00<?, ?it/s]\n",
      "Loading safetensors checkpoint shards:  25% Completed | 1/4 [00:00<00:01,  1.56it/s]\n",
      "Loading safetensors checkpoint shards:  50% Completed | 2/4 [00:01<00:01,  1.30it/s]\n",
      "Loading safetensors checkpoint shards:  75% Completed | 3/4 [00:01<00:00,  1.69it/s]\n",
      "Loading safetensors checkpoint shards: 100% Completed | 4/4 [00:02<00:00,  1.56it/s]\n",
      "Loading safetensors checkpoint shards: 100% Completed | 4/4 [00:02<00:00,  1.54it/s]\n",
      "\n"
     ]
    }
   ],
   "source": [
    "from lib.vllm import start_vllm_server, vllm_server_metrics\n",
    "\n",
    "model = \"NousResearch/Hermes-2-Theta-Llama-3-8B\"\n",
    "\n",
    "shutdown_server, client = await start_vllm_server(\n",
    "    disable_log_requests=True,\n",
    "    model=model,\n",
    ")"
   ]
  },
  {
   "cell_type": "code",
   "execution_count": 26,
   "metadata": {},
   "outputs": [
    {
     "data": {
      "text/plain": [
       "False"
      ]
     },
     "execution_count": 26,
     "metadata": {},
     "output_type": "execute_result"
    }
   ],
   "source": [
    "shutdown_server()"
   ]
  },
  {
   "cell_type": "code",
   "execution_count": null,
   "metadata": {},
   "outputs": [],
   "source": [
    "from lib.rl.sampler import CompletionSampler\n",
    "\n",
    "completion_sampler = CompletionSampler(\n",
    "    client,\n",
    ")"
   ]
  },
  {
   "cell_type": "code",
   "execution_count": null,
   "metadata": {},
   "outputs": [],
   "source": [
    "import asyncio\n",
    "from lib.rl.completion import Completion\n",
    "from openai.types.chat.chat_completion_message_param import ChatCompletionMessageParam\n",
    "from typing import Callable, Coroutine\n",
    "\n",
    "\n",
    "class Episode:\n",
    "    def __init__(\n",
    "        self,\n",
    "        messages: list[ChatCompletionMessageParam],\n",
    "        on_sample: Callable[[list[Completion]], None | Coroutine[None, None, None]],\n",
    "        get_easier_episode: (\n",
    "            Callable[[], \"Episode\" | Coroutine[None, None, None]] | None\n",
    "        ) = None,\n",
    "        get_harder_episode: (\n",
    "            Callable[[], \"Episode\" | Coroutine[None, None, None]] | None\n",
    "        ) = None,\n",
    "    ) -> None:\n",
    "        self.completion = Completion(messages=messages)  # type: ignore\n",
    "        self.on_sample = on_sample\n",
    "        self.get_easier_episode = get_easier_episode\n",
    "        self.get_harder_episode = get_harder_episode\n",
    "        self.weight = 1.0\n",
    "        self.task = asyncio.create_task(asyncio.sleep(0))"
   ]
  },
  {
   "cell_type": "code",
   "execution_count": null,
   "metadata": {},
   "outputs": [],
   "source": [
    "async def on_sample(completions) -> None: ...\n",
    "\n",
    "\n",
    "episode = Episode(\n",
    "    messages=[\n",
    "        {\"role\": \"user\", \"content\": \"Hello, how are you doing today?\"},\n",
    "    ],\n",
    "    on_sample=on_sample,\n",
    ")"
   ]
  },
  {
   "cell_type": "code",
   "execution_count": null,
   "metadata": {},
   "outputs": [],
   "source": [
    "def get_episode() -> Episode:\n",
    "    ..."
   ]
  },
  {
   "cell_type": "code",
   "execution_count": null,
   "metadata": {},
   "outputs": [],
   "source": [
    "import inspect\n",
    "\n",
    "branch_factor = 2\n",
    "min_requests = 10\n",
    "abs_buffer_size = 100\n",
    "weighted_buffer_size = 200\n",
    "buffer: set[Episode] = set()\n",
    "\n",
    "\n",
    "async def sample_completions(episode: Episode) -> None:\n",
    "    if episode.completion.children:\n",
    "        parent = episode.completion\n",
    "    else:\n",
    "        parent = max(\n",
    "            episode.completion.descendants(),\n",
    "            key=lambda c: abs(c.advantage()),\n",
    "        )\n",
    "    completions = await completion_sampler.sample_completions(\n",
    "        parent,\n",
    "        n=branch_factor,\n",
    "    )\n",
    "    on_sample = episode.on_sample(completions)\n",
    "    if inspect.iscoroutine(on_sample):\n",
    "        await on_sample\n",
    "    if all(c.advantage() == 0 for c in episode.completion.descendants()):\n",
    "        buffer.remove(episode)\n",
    "\n",
    "\n",
    "while True:\n",
    "    await asyncio.sleep(1)\n",
    "    running, pending = vllm_server_metrics()\n",
    "    for _ in range(0, running - pending + min_requests, branch_factor * 2):\n",
    "        if (\n",
    "            len(buffer) < abs_buffer_size\n",
    "            or sum(e.weight for e in buffer) < weighted_buffer_size\n",
    "        ):\n",
    "            episode = get_episode()\n",
    "            buffer.add(episode)\n",
    "            episode.task = asyncio.create_task(sample_completions(episode))"
   ]
  }
 ],
 "metadata": {
  "kernelspec": {
   "display_name": ".venv",
   "language": "python",
   "name": "python3"
  },
  "language_info": {
   "codemirror_mode": {
    "name": "ipython",
    "version": 3
   },
   "file_extension": ".py",
   "mimetype": "text/x-python",
   "name": "python",
   "nbconvert_exporter": "python",
   "pygments_lexer": "ipython3",
   "version": "3.12.7"
  }
 },
 "nbformat": 4,
 "nbformat_minor": 2
}
