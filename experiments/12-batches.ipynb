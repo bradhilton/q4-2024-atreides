{
 "cells": [
  {
   "cell_type": "code",
   "execution_count": 1,
   "metadata": {},
   "outputs": [],
   "source": [
    "%load_ext autoreload\n",
    "%autoreload 2"
   ]
  },
  {
   "cell_type": "code",
   "execution_count": 6,
   "metadata": {},
   "outputs": [
    {
     "name": "stderr",
     "output_type": "stream",
     "text": [
      "/home/ubuntu/atreides/.venv/lib/python3.12/site-packages/vllm/connections.py:8: RuntimeWarning: Failed to read commit hash:\n",
      "No module named 'vllm._version'\n",
      "  from vllm.version import __version__ as VLLM_VERSION\n",
      "Loading safetensors checkpoint shards:   0% Completed | 0/4 [00:00<?, ?it/s]\n",
      "Loading safetensors checkpoint shards:  25% Completed | 1/4 [00:00<00:01,  1.54it/s]\n",
      "Loading safetensors checkpoint shards:  50% Completed | 2/4 [00:01<00:01,  1.29it/s]\n",
      "Loading safetensors checkpoint shards:  75% Completed | 3/4 [00:01<00:00,  1.68it/s]\n",
      "Loading safetensors checkpoint shards: 100% Completed | 4/4 [00:02<00:00,  1.55it/s]\n",
      "Loading safetensors checkpoint shards: 100% Completed | 4/4 [00:02<00:00,  1.53it/s]\n",
      "\n"
     ]
    }
   ],
   "source": [
    "from lib.vllm import start_vllm_server, vllm_server_metrics\n",
    "\n",
    "model = \"NousResearch/Hermes-2-Theta-Llama-3-8B\"\n",
    "\n",
    "shutdown_server, client = await start_vllm_server(\n",
    "    disable_log_requests=True,\n",
    "    model=model,\n",
    ")"
   ]
  },
  {
   "cell_type": "code",
   "execution_count": 26,
   "metadata": {},
   "outputs": [
    {
     "data": {
      "text/plain": [
       "False"
      ]
     },
     "execution_count": 26,
     "metadata": {},
     "output_type": "execute_result"
    }
   ],
   "source": [
    "shutdown_server()"
   ]
  },
  {
   "cell_type": "code",
   "execution_count": null,
   "metadata": {},
   "outputs": [],
   "source": [
    "import asyncio\n",
    "\n",
    "while True:\n",
    "    await asyncio.sleep(1)\n",
    "    running, pending = vllm_server_metrics()\n",
    "    for _ in range(running - pending + 10):\n",
    "        ..."
   ]
  },
  {
   "cell_type": "code",
   "execution_count": 10,
   "metadata": {},
   "outputs": [
    {
     "name": "stdout",
     "output_type": "stream",
     "text": [
      "INFO 11-02 15:23:13 metrics.py:345] Avg prompt throughput: 0.0 tokens/s, Avg generation throughput: 0.0 tokens/s, Running: 0 reqs, Swapped: 0 reqs, Pending: 0 reqs, GPU KV cache usage: 0.0%, CPU KV cache usage: 0.0%.INFO 11-02 15:23:13 metrics.py:345] Avg prompt throughput: 0.0 tokens/s, Avg generation throughput: 0.0 tokens/s, Running: 0 reqs, Swapped: 0 reqs, Pending: 0 reqs, GPU KV cache usage: 0.0%, CPU KV cache usage: 0.0%.\n",
      "INFO 11-02 15:23:03 metrics.py:345] Avg prompt throughput: 0.0 tokens/s, Avg generation throughput: 0.0 tokens/s, Running: 0 reqs, Swapped: 0 reqs, Pending: 0 reqs, GPU KV cache usage: 0.0%, CPU KV cache usage: 0.0%.\n",
      "INFO 11-02 15:22:53 metrics.py:345] Avg prompt throughput: 0.0 tokens/s, Avg generation throughput: 0.0 tokens/s, Running: 0 reqs, Swapped: 0 reqs, Pending: 0 reqs, GPU KV cache usage: 0.0%, CPU KV cache usage: 0.0%.\n",
      "INFO 11-02 15:22:43 metrics.py:345] Avg prompt throughput: 0.0 tokens/s, Avg generation throughput: 0.0 tokens/s, Running: 0 reqs, Swapped: 0 reqs, Pending: 0 reqs, GPU KV cache usage: 0.0%, CPU KV cache usage: 0.0%.\n",
      "INFO 11-02 15:22:33 metrics.py:345] Avg prompt throughput: 0.0 tokens/s, Avg generation throughput: 0.0 tokens/s, Running: 0 reqs, Swapped: 0 reqs, Pending: 0 reqs, GPU KV cache usage: 0.0%, CPU KV cache usage: 0.0%.\n"
     ]
    }
   ],
   "source": [
    "def read_last_n_lines(filename: str, n: int) -> str:\n",
    "    \"\"\"Read the last n lines of a file efficiently.\n",
    "    \n",
    "    Args:\n",
    "        filename: Path to the file to read\n",
    "        n: Number of lines to read from end\n",
    "        \n",
    "    Returns:\n",
    "        String containing the last n lines\n",
    "    \"\"\"\n",
    "    from collections import deque\n",
    "    \n",
    "    # Use deque with maxlen to efficiently store only n lines\n",
    "    lines = deque(maxlen=n)\n",
    "    \n",
    "    # Read file in chunks from end\n",
    "    with open(filename, 'rb') as f:\n",
    "        # Seek to end of file\n",
    "        f.seek(0, 2)\n",
    "        file_size = f.tell()\n",
    "        \n",
    "        # Start from end, read in 8KB chunks\n",
    "        chunk_size = 8192\n",
    "        position = file_size\n",
    "        \n",
    "        # Read chunks until we have n lines or reach start\n",
    "        while position > 0 and len(lines) < n:\n",
    "            # Move back one chunk\n",
    "            chunk_size = min(chunk_size, position)\n",
    "            position -= chunk_size\n",
    "            f.seek(position)\n",
    "            chunk = f.read(chunk_size).decode()\n",
    "            \n",
    "            # Split into lines and add to deque\n",
    "            lines.extendleft(chunk.splitlines())\n",
    "            \n",
    "        # If we're not at file start, we may have a partial first line\n",
    "        if position > 0:\n",
    "            # Read one more chunk to get complete first line\n",
    "            position -= 1\n",
    "            f.seek(position)\n",
    "            chunk = f.read(chunk_size).decode()\n",
    "            lines[0] = chunk[chunk.rindex('\\n')+1:] + lines[0]\n",
    "            \n",
    "    return '\\n'.join(lines)\n",
    "\n",
    "print(read_last_n_lines('./logs/vllm.log', 5))"
   ]
  },
  {
   "cell_type": "code",
   "execution_count": 11,
   "metadata": {},
   "outputs": [
    {
     "name": "stdout",
     "output_type": "stream",
     "text": [
      "44.5 μs ± 3.2 μs per loop (mean ± std. dev. of 7 runs, 10,000 loops each)\n"
     ]
    }
   ],
   "source": [
    "read_last_n_lines('./logs/vllm.log', 5)"
   ]
  },
  {
   "cell_type": "code",
   "execution_count": 15,
   "metadata": {},
   "outputs": [
    {
     "data": {
      "text/plain": [
       "(0, 0)"
      ]
     },
     "execution_count": 15,
     "metadata": {},
     "output_type": "execute_result"
    }
   ],
   "source": [
    "def parse_last_req_stats(log_str: str) -> tuple[int, int] | None:\n",
    "    \"\"\"Parse the last request statistics line from a log string.\n",
    "    \n",
    "    Args:\n",
    "        log_str: String containing log contents\n",
    "        \n",
    "    Returns:\n",
    "        Tuple of (running_reqs, pending_reqs)\n",
    "    \"\"\"\n",
    "    import re\n",
    "    pattern = r\"Running: (\\d+) reqs, Swapped: \\d+ reqs, Pending: (\\d+) reqs\"\n",
    "    matches = list(re.finditer(pattern, log_str))\n",
    "    if not matches:\n",
    "        return None\n",
    "    last_match = matches[-1]\n",
    "    return (int(last_match.group(1)), int(last_match.group(2)))\n",
    "\n",
    "parse_last_req_stats(read_last_n_lines('./logs/vllm.log', 5))"
   ]
  },
  {
   "cell_type": "code",
   "execution_count": 17,
   "metadata": {},
   "outputs": [
    {
     "name": "stdout",
     "output_type": "stream",
     "text": [
      "66.4 μs ± 8.19 μs per loop (mean ± std. dev. of 7 runs, 10,000 loops each)\n"
     ]
    }
   ],
   "source": [
    "%%timeit\n",
    "parse_last_req_stats(read_last_n_lines('./logs/vllm.log', 20))"
   ]
  }
 ],
 "metadata": {
  "kernelspec": {
   "display_name": ".venv",
   "language": "python",
   "name": "python3"
  },
  "language_info": {
   "codemirror_mode": {
    "name": "ipython",
    "version": 3
   },
   "file_extension": ".py",
   "mimetype": "text/x-python",
   "name": "python",
   "nbconvert_exporter": "python",
   "pygments_lexer": "ipython3",
   "version": "3.12.7"
  }
 },
 "nbformat": 4,
 "nbformat_minor": 2
}
