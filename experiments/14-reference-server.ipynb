{
 "cells": [
  {
   "cell_type": "code",
   "execution_count": 1,
   "metadata": {},
   "outputs": [],
   "source": [
    "from lib.vllm import start_vllm\n",
    "\n",
    "vllm = await start_vllm(\n",
    "    \"NousResearch/Hermes-2-Theta-Llama-3-8B\",\n",
    "    env={\n",
    "        \"VLLM_ALLOW_LONG_MAX_MODEL_LEN\": \"1\",\n",
    "        \"PYTORCH_CUDA_ALLOC_CONF\": \"expandable_segments:True\",\n",
    "    },\n",
    "    timeout=360,\n",
    "    # block_size=32,\n",
    "    disable_log_requests=True,\n",
    "    # enable_prefix_caching=True,\n",
    "    # enforce_eager=True,\n",
    "    gpu_memory_utilization=0.5,\n",
    "    max_model_len=16384,\n",
    "    max_num_seqs=3,\n",
    "    # max_num_batched_tokens=16384,\n",
    "    # return_tokens_as_token_ids=True,\n",
    "    # swap_space=32,\n",
    ")"
   ]
  }
 ],
 "metadata": {
  "kernelspec": {
   "display_name": ".venv",
   "language": "python",
   "name": "python3"
  },
  "language_info": {
   "codemirror_mode": {
    "name": "ipython",
    "version": 3
   },
   "file_extension": ".py",
   "mimetype": "text/x-python",
   "name": "python",
   "nbconvert_exporter": "python",
   "pygments_lexer": "ipython3",
   "version": "3.12.7"
  }
 },
 "nbformat": 4,
 "nbformat_minor": 2
}
