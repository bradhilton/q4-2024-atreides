{
 "cells": [
  {
   "cell_type": "code",
   "execution_count": null,
   "metadata": {},
   "outputs": [],
   "source": [
    "%load_ext autoreload\n",
    "%autoreload 2"
   ]
  },
  {
   "cell_type": "code",
   "execution_count": null,
   "metadata": {},
   "outputs": [],
   "source": [
    "from vllm import LLM\n",
    "\n",
    "llm = LLM(\n",
    "    model=\"NousResearch/Hermes-2-Theta-Llama-3-8B\"\n",
    ")"
   ]
  },
  {
   "cell_type": "code",
   "execution_count": null,
   "metadata": {},
   "outputs": [],
   "source": [
    "from vllm.sampling_params import SamplingParams\n",
    "\n",
    "prompt = \"\"\"\n",
    "On a warm spring day Summer, Giselle and Connor sat down to play a casual mystery game.\n",
    "\n",
    "They assembled 3 decks of cards, each for a separate type of information composed of the following:\n",
    "\n",
    "Suspect:\n",
    "- Miss Scarlet\n",
    "- Mr. Green\n",
    "- Mrs. White\n",
    "\n",
    "Weapon:\n",
    "- Candlestick\n",
    "- Knife\n",
    "- Lead Pipe\n",
    "\n",
    "Room:\n",
    "- Hall\n",
    "- Lounge\n",
    "- Dining Room\n",
    "\n",
    "After randomly (and blindly) choosing one card from each group and placing them in the middle of the table facedown, they shuffled the remaining cards and dealt out the following to each player:\n",
    "\n",
    "- Summer: 2 cards\n",
    "- Giselle: 2 cards ('Lounge', 'Miss Scarlet')\n",
    "- Connor: 2 cards\n",
    "\n",
    "The game proceeded as follows:\n",
    "\n",
    "1. On their turn, a player asked about a set of exactly 3 cards, one from each of the game's categories. (Note: Players could ask about any cards, including those in their own hand.)\n",
    "2. The player directed this question to the other players in clockwise order, starting with the player to their left.\n",
    "3. If a player had one or more of the asked-about cards, they had to show one of those cards (of their choice) to the asking player privately. The turn then ended, and play passed to the next player.\n",
    "4. If a player did not have any of the asked-about cards, they said so, and the question passed to the next player in clockwise order.\n",
    "5. This continued until either:\n",
    "    a) A player showed a card to the asking player, or\n",
    "    b) All the queried players had stated they didn't have any of the asked-about cards.\n",
    "6. After a player's turn ended (either by being shown a card or having all queried players pass), play moved to the next player in clockwise order.\n",
    "\n",
    "Here is how the game played out:\n",
    "\n",
    "Summer asked if anyone had 'Mrs. White' or 'Knife' or 'Dining Room':\n",
    "- Giselle did not have any of the cards\n",
    "- Connor showed Summer a card\n",
    "\n",
    "Giselle asked if anyone had 'Mrs. White' or 'Knife' or 'Lounge':\n",
    "- Connor did not have any of the cards\n",
    "- Summer did not have any of the cards\n",
    "\n",
    "Connor asked if anyone had 'Miss Scarlet' or 'Candlestick' or 'Hall':\n",
    "- Summer did not have any of the cards\n",
    "- Giselle showed Connor 'Miss Scarlet'\n",
    "\n",
    "Summer asked if anyone had 'Mr. Green' or 'Knife' or 'Hall':\n",
    "- Giselle did not have any of the cards\n",
    "- Connor did not have any of the cards\n",
    "\n",
    "At this point, Giselle was able to correctly infer the solution and win the game.\n",
    "\n",
    "What were the facedown cards in the middle of the table?\n",
    "\"\"\".strip()\n",
    "\n",
    "output = llm.chat([[dict(role=\"user\", content=prompt)]] * 1, sampling_params=SamplingParams(max_tokens=10_000))  # type: ignore"
   ]
  }
 ],
 "metadata": {
  "kernelspec": {
   "display_name": ".venv",
   "language": "python",
   "name": "python3"
  },
  "language_info": {
   "name": "python",
   "version": "3.12.7"
  }
 },
 "nbformat": 4,
 "nbformat_minor": 2
}
