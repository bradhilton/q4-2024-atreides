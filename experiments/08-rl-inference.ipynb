{
 "cells": [
  {
   "cell_type": "code",
   "execution_count": 1,
   "metadata": {},
   "outputs": [],
   "source": [
    "%load_ext autoreload\n",
    "%autoreload 2"
   ]
  },
  {
   "cell_type": "code",
   "execution_count": 2,
   "metadata": {},
   "outputs": [
    {
     "name": "stderr",
     "output_type": "stream",
     "text": [
      "/home/ubuntu/atreides/.venv/lib/python3.12/site-packages/vllm/connections.py:8: RuntimeWarning: Failed to read commit hash:\n",
      "No module named 'vllm._version'\n",
      "  from vllm.version import __version__ as VLLM_VERSION\n"
     ]
    },
    {
     "data": {
      "application/vnd.jupyter.widget-view+json": {
       "model_id": "8cc1a85f665e409f81ee6d0bea5b8836",
       "version_major": 2,
       "version_minor": 0
      },
      "text/plain": [
       "config.json:   0%|          | 0.00/716 [00:00<?, ?B/s]"
      ]
     },
     "metadata": {},
     "output_type": "display_data"
    },
    {
     "name": "stdout",
     "output_type": "stream",
     "text": [
      "INFO 10-25 15:42:55 llm_engine.py:237] Initializing an LLM engine (vdev) with config: model='NousResearch/Hermes-2-Theta-Llama-3-8B', speculative_config=None, tokenizer='NousResearch/Hermes-2-Theta-Llama-3-8B', skip_tokenizer_init=False, tokenizer_mode=auto, revision=None, override_neuron_config=None, rope_scaling=None, rope_theta=None, tokenizer_revision=None, trust_remote_code=False, dtype=torch.bfloat16, max_seq_len=8192, download_dir=None, load_format=LoadFormat.AUTO, tensor_parallel_size=1, pipeline_parallel_size=1, disable_custom_all_reduce=False, quantization=None, enforce_eager=False, kv_cache_dtype=auto, quantization_param_path=None, device_config=cuda, decoding_config=DecodingConfig(guided_decoding_backend='outlines'), observability_config=ObservabilityConfig(otlp_traces_endpoint=None, collect_model_forward_time=False, collect_model_execute_time=False), seed=0, served_model_name=NousResearch/Hermes-2-Theta-Llama-3-8B, use_v2_block_manager=True, num_scheduler_steps=1, chunked_prefill_enabled=False multi_step_stream_outputs=True, enable_prefix_caching=False, use_async_output_proc=True, use_cached_outputs=False, mm_processor_kwargs=None)\n"
     ]
    },
    {
     "data": {
      "application/vnd.jupyter.widget-view+json": {
       "model_id": "d33a197133244e75bd859f9bb7162b54",
       "version_major": 2,
       "version_minor": 0
      },
      "text/plain": [
       "tokenizer_config.json:   0%|          | 0.00/56.3k [00:00<?, ?B/s]"
      ]
     },
     "metadata": {},
     "output_type": "display_data"
    },
    {
     "data": {
      "application/vnd.jupyter.widget-view+json": {
       "model_id": "6de15d31ca9d4fc69bb7c310373ac2f7",
       "version_major": 2,
       "version_minor": 0
      },
      "text/plain": [
       "tokenizer.json:   0%|          | 0.00/9.09M [00:00<?, ?B/s]"
      ]
     },
     "metadata": {},
     "output_type": "display_data"
    },
    {
     "data": {
      "application/vnd.jupyter.widget-view+json": {
       "model_id": "0539d059498f41a2b1d6659ec0d5e59b",
       "version_major": 2,
       "version_minor": 0
      },
      "text/plain": [
       "special_tokens_map.json:   0%|          | 0.00/444 [00:00<?, ?B/s]"
      ]
     },
     "metadata": {},
     "output_type": "display_data"
    },
    {
     "data": {
      "application/vnd.jupyter.widget-view+json": {
       "model_id": "029eef3cfcff48c785080eea2ed80fe7",
       "version_major": 2,
       "version_minor": 0
      },
      "text/plain": [
       "generation_config.json:   0%|          | 0.00/169 [00:00<?, ?B/s]"
      ]
     },
     "metadata": {},
     "output_type": "display_data"
    },
    {
     "name": "stdout",
     "output_type": "stream",
     "text": [
      "INFO 10-25 15:42:57 model_runner.py:1060] Starting to load model NousResearch/Hermes-2-Theta-Llama-3-8B...\n",
      "INFO 10-25 15:42:57 weight_utils.py:243] Using model weights format ['*.safetensors']\n"
     ]
    },
    {
     "data": {
      "application/vnd.jupyter.widget-view+json": {
       "model_id": "a99868b123974baab2a471f3eedcea34",
       "version_major": 2,
       "version_minor": 0
      },
      "text/plain": [
       "model-00001-of-00004.safetensors:   0%|          | 0.00/4.98G [00:00<?, ?B/s]"
      ]
     },
     "metadata": {},
     "output_type": "display_data"
    },
    {
     "data": {
      "application/vnd.jupyter.widget-view+json": {
       "model_id": "4fabec9d2acc466b9e872905f9091090",
       "version_major": 2,
       "version_minor": 0
      },
      "text/plain": [
       "model-00002-of-00004.safetensors:   0%|          | 0.00/5.00G [00:00<?, ?B/s]"
      ]
     },
     "metadata": {},
     "output_type": "display_data"
    },
    {
     "data": {
      "application/vnd.jupyter.widget-view+json": {
       "model_id": "9d0efac3d7a349dfb406311a8e9e93d0",
       "version_major": 2,
       "version_minor": 0
      },
      "text/plain": [
       "model-00003-of-00004.safetensors:   0%|          | 0.00/4.92G [00:00<?, ?B/s]"
      ]
     },
     "metadata": {},
     "output_type": "display_data"
    },
    {
     "data": {
      "application/vnd.jupyter.widget-view+json": {
       "model_id": "19c6dd9407ab4e10b7a514dd0f3057d9",
       "version_major": 2,
       "version_minor": 0
      },
      "text/plain": [
       "model-00004-of-00004.safetensors:   0%|          | 0.00/1.17G [00:00<?, ?B/s]"
      ]
     },
     "metadata": {},
     "output_type": "display_data"
    },
    {
     "data": {
      "application/vnd.jupyter.widget-view+json": {
       "model_id": "12c6c272064e44228676592411dbde97",
       "version_major": 2,
       "version_minor": 0
      },
      "text/plain": [
       "model.safetensors.index.json:   0%|          | 0.00/23.9k [00:00<?, ?B/s]"
      ]
     },
     "metadata": {},
     "output_type": "display_data"
    },
    {
     "data": {
      "application/vnd.jupyter.widget-view+json": {
       "model_id": "8020a5287db241df81ed330c61982486",
       "version_major": 2,
       "version_minor": 0
      },
      "text/plain": [
       "Loading safetensors checkpoint shards:   0% Completed | 0/4 [00:00<?, ?it/s]\n"
      ]
     },
     "metadata": {},
     "output_type": "display_data"
    },
    {
     "name": "stdout",
     "output_type": "stream",
     "text": [
      "INFO 10-25 15:43:23 model_runner.py:1071] Loading model weights took 14.9595 GB\n",
      "INFO 10-25 15:43:25 gpu_executor.py:122] # GPU blocks: 1604, # CPU blocks: 2048\n",
      "INFO 10-25 15:43:25 gpu_executor.py:126] Maximum concurrency for 8192 tokens per request: 3.13x\n",
      "INFO 10-25 15:43:27 model_runner.py:1402] Capturing the model for CUDA graphs. This may lead to unexpected consequences if the model is not static. To run the model in eager mode, set 'enforce_eager=True' or use '--enforce-eager' in the CLI.\n",
      "INFO 10-25 15:43:27 model_runner.py:1406] CUDA graphs can take additional 1~3 GiB memory per GPU. If you are running out of memory, consider decreasing `gpu_memory_utilization` or enforcing eager mode. You can also reduce the `max_num_seqs` as needed to decrease memory usage.\n",
      "INFO 10-25 15:43:40 model_runner.py:1530] Graph capturing finished in 14 secs.\n"
     ]
    }
   ],
   "source": [
    "from vllm import LLM\n",
    "\n",
    "llm = LLM(\n",
    "    model=\"NousResearch/Hermes-2-Theta-Llama-3-8B\"\n",
    ")"
   ]
  },
  {
   "cell_type": "code",
   "execution_count": 3,
   "metadata": {},
   "outputs": [
    {
     "name": "stdout",
     "output_type": "stream",
     "text": [
      "Player 1's Hand: {'Mrs. White', 'Candlestick'}\n",
      "Player 2's Hand: {'Dining Room', 'Lounge'}\n",
      "Player 3's Hand: {'Miss Scarlet', 'Lead Pipe'}\n",
      "Solution: {'suspect': 'Mr. Green', 'weapon': 'Knife', 'room': 'Hall'}\n",
      "Player                1  2  3\n",
      "Element Card                 \n",
      "Suspect Miss Scarlet  ✗  ✗  ✓\n",
      "        Mr. Green     ✗  ✗  ✗\n",
      "        Mrs. White    ✓  ✗  ✗\n",
      "Weapon  Candlestick   ✓  ✗  ✗\n",
      "        Knife         ✗  ✗  ✗\n",
      "        Lead Pipe     ✗  ✗  ✓\n",
      "Room    Hall          ✗  ✗  ✗\n",
      "        Lounge        ✗  ✓  ✗\n",
      "        Dining Room   ✗  ✓  ✗\n",
      "Player 1's Simple Solver Grid:\n",
      "Player                1  2  3\n",
      "Element Card                 \n",
      "Suspect Miss Scarlet  ✗      \n",
      "        Mr. Green     ✗      \n",
      "        Mrs. White    ✓  ✗  ✗\n",
      "Weapon  Candlestick   ✓  ✗  ✗\n",
      "        Knife         ✗      \n",
      "        Lead Pipe     ✗      \n",
      "Room    Hall          ✗      \n",
      "        Lounge        ✗      \n",
      "        Dining Room   ✗      \n",
      "Player 1's CP-SAT Solver Grid:\n",
      "Player                1  2  3\n",
      "Element Card                 \n",
      "Suspect Miss Scarlet  ✗      \n",
      "        Mr. Green     ✗      \n",
      "        Mrs. White    ✓  ✗  ✗\n",
      "Weapon  Candlestick   ✓  ✗  ✗\n",
      "        Knife         ✗      \n",
      "        Lead Pipe     ✗      \n",
      "Room    Hall          ✗      \n",
      "        Lounge        ✗      \n",
      "        Dining Room   ✗      \n",
      "Player 1 suggests: ['Mr. Green', 'Candlestick', 'Lounge']\n",
      "Player 2 reveals Lounge to Player 1\n",
      "Player 2's Simple Solver Grid:\n",
      "Player                1  2  3\n",
      "Element Card                 \n",
      "Suspect Miss Scarlet     ✗   \n",
      "        Mr. Green        ✗   \n",
      "        Mrs. White       ✗   \n",
      "Weapon  Candlestick      ✗   \n",
      "        Knife            ✗   \n",
      "        Lead Pipe        ✗   \n",
      "Room    Hall             ✗   \n",
      "        Lounge        ✗  ✓  ✗\n",
      "        Dining Room   ✗  ✓  ✗\n",
      "Player 2's CP-SAT Solver Grid:\n",
      "Player                1  2  3\n",
      "Element Card                 \n",
      "Suspect Miss Scarlet     ✗   \n",
      "        Mr. Green        ✗   \n",
      "        Mrs. White       ✗   \n",
      "Weapon  Candlestick      ✗   \n",
      "        Knife            ✗   \n",
      "        Lead Pipe        ✗   \n",
      "Room    Hall          ✗  ✗  ✗\n",
      "        Lounge        ✗  ✓  ✗\n",
      "        Dining Room   ✗  ✓  ✗\n",
      "Player 2 suggests: ['Mrs. White', 'Lead Pipe', 'Hall']\n",
      "Player 3 reveals Lead Pipe to Player 2\n",
      "Player 3's Simple Solver Grid:\n",
      "Player                1  2  3\n",
      "Element Card                 \n",
      "Suspect Miss Scarlet  ✗  ✗  ✓\n",
      "        Mr. Green           ✗\n",
      "        Mrs. White          ✗\n",
      "Weapon  Candlestick         ✗\n",
      "        Knife               ✗\n",
      "        Lead Pipe     ✗  ✗  ✓\n",
      "Room    Hall                ✗\n",
      "        Lounge              ✗\n",
      "        Dining Room         ✗\n",
      "Player 3's CP-SAT Solver Grid:\n",
      "Player                1  2  3\n",
      "Element Card                 \n",
      "Suspect Miss Scarlet  ✗  ✗  ✓\n",
      "        Mr. Green           ✗\n",
      "        Mrs. White          ✗\n",
      "Weapon  Candlestick         ✗\n",
      "        Knife               ✗\n",
      "        Lead Pipe     ✗  ✗  ✓\n",
      "Room    Hall                ✗\n",
      "        Lounge              ✗\n",
      "        Dining Room         ✗\n",
      "Player 3 suggests: ['Mrs. White', 'Lead Pipe', 'Hall']\n",
      "Player 1 reveals Mrs. White to Player 3\n",
      "Player 1's Simple Solver Grid:\n",
      "Player                1  2  3\n",
      "Element Card                 \n",
      "Suspect Miss Scarlet  ✗      \n",
      "        Mr. Green     ✗      \n",
      "        Mrs. White    ✓  ✗  ✗\n",
      "Weapon  Candlestick   ✓  ✗  ✗\n",
      "        Knife         ✗      \n",
      "        Lead Pipe     ✗      \n",
      "Room    Hall          ✗      \n",
      "        Lounge        ✗  ✓  ✗\n",
      "        Dining Room   ✗      \n",
      "Player 1's CP-SAT Solver Grid:\n",
      "Player                1  2  3\n",
      "Element Card                 \n",
      "Suspect Miss Scarlet  ✗      \n",
      "        Mr. Green     ✗      \n",
      "        Mrs. White    ✓  ✗  ✗\n",
      "Weapon  Candlestick   ✓  ✗  ✗\n",
      "        Knife         ✗      \n",
      "        Lead Pipe     ✗      \n",
      "Room    Hall          ✗      \n",
      "        Lounge        ✗  ✓  ✗\n",
      "        Dining Room   ✗      \n",
      "Player 1 suggests: ['Mr. Green', 'Lead Pipe', 'Hall']\n",
      "Player 2 has no card to reveal\n",
      "Player 3 reveals Lead Pipe to Player 1\n",
      "Player 2's Simple Solver Grid:\n",
      "Player                1  2  3\n",
      "Element Card                 \n",
      "Suspect Miss Scarlet     ✗   \n",
      "        Mr. Green        ✗   \n",
      "        Mrs. White       ✗   \n",
      "Weapon  Candlestick      ✗   \n",
      "        Knife            ✗   \n",
      "        Lead Pipe     ✗  ✗  ✓\n",
      "Room    Hall             ✗   \n",
      "        Lounge        ✗  ✓  ✗\n",
      "        Dining Room   ✗  ✓  ✗\n",
      "Player 2's CP-SAT Solver Grid:\n",
      "Player                1  2  3\n",
      "Element Card                 \n",
      "Suspect Miss Scarlet     ✗   \n",
      "        Mr. Green        ✗   \n",
      "        Mrs. White    ✓  ✗  ✗\n",
      "Weapon  Candlestick      ✗   \n",
      "        Knife            ✗   \n",
      "        Lead Pipe     ✗  ✗  ✓\n",
      "Room    Hall          ✗  ✗  ✗\n",
      "        Lounge        ✗  ✓  ✗\n",
      "        Dining Room   ✗  ✓  ✗\n",
      "Player 2 suggests: ['Mrs. White', 'Candlestick', 'Lounge']\n",
      "Player 3 has no card to reveal\n",
      "Player 1 reveals Mrs. White to Player 2\n",
      "Player 3's Simple Solver Grid:\n",
      "Player                1  2  3\n",
      "Element Card                 \n",
      "Suspect Miss Scarlet  ✗  ✗  ✓\n",
      "        Mr. Green        ✗  ✗\n",
      "        Mrs. White    ✓  ✗  ✗\n",
      "Weapon  Candlestick         ✗\n",
      "        Knife               ✗\n",
      "        Lead Pipe     ✗  ✗  ✓\n",
      "Room    Hall             ✗  ✗\n",
      "        Lounge              ✗\n",
      "        Dining Room         ✗\n",
      "Player 3's CP-SAT Solver Grid:\n",
      "Player                1  2  3\n",
      "Element Card                 \n",
      "Suspect Miss Scarlet  ✗  ✗  ✓\n",
      "        Mr. Green     ✗  ✗  ✗\n",
      "        Mrs. White    ✓  ✗  ✗\n",
      "Weapon  Candlestick         ✗\n",
      "        Knife               ✗\n",
      "        Lead Pipe     ✗  ✗  ✓\n",
      "Room    Hall             ✗  ✗\n",
      "        Lounge              ✗\n",
      "        Dining Room         ✗\n",
      "Player 3 suggests: ['Miss Scarlet', 'Knife', 'Hall']\n",
      "Player 1 has no card to reveal\n",
      "Player 2 has no card to reveal\n",
      "Player 1's Simple Solver Grid:\n",
      "Player                1  2  3\n",
      "Element Card                 \n",
      "Suspect Miss Scarlet  ✗  ✗   \n",
      "        Mr. Green     ✗  ✗   \n",
      "        Mrs. White    ✓  ✗  ✗\n",
      "Weapon  Candlestick   ✓  ✗  ✗\n",
      "        Knife         ✗  ✗   \n",
      "        Lead Pipe     ✗  ✗  ✓\n",
      "Room    Hall          ✗  ✗   \n",
      "        Lounge        ✗  ✓  ✗\n",
      "        Dining Room   ✗  ✓  ✗\n",
      "Player 1's CP-SAT Solver Grid:\n",
      "Player                1  2  3\n",
      "Element Card                 \n",
      "Suspect Miss Scarlet  ✗  ✗   \n",
      "        Mr. Green     ✗  ✗   \n",
      "        Mrs. White    ✓  ✗  ✗\n",
      "Weapon  Candlestick   ✓  ✗  ✗\n",
      "        Knife         ✗  ✗  ✗\n",
      "        Lead Pipe     ✗  ✗  ✓\n",
      "Room    Hall          ✗  ✗  ✗\n",
      "        Lounge        ✗  ✓  ✗\n",
      "        Dining Room   ✗  ✓  ✗\n",
      "Player 1 suggests: ['Mr. Green', 'Candlestick', 'Hall']\n",
      "Player 2 has no card to reveal\n",
      "Player 3 has no card to reveal\n",
      "Player 2's Simple Solver Grid:\n",
      "Player                1  2  3\n",
      "Element Card                 \n",
      "Suspect Miss Scarlet  ✗  ✗   \n",
      "        Mr. Green        ✗  ✗\n",
      "        Mrs. White    ✓  ✗  ✗\n",
      "Weapon  Candlestick      ✗  ✗\n",
      "        Knife         ✗  ✗   \n",
      "        Lead Pipe     ✗  ✗  ✓\n",
      "Room    Hall          ✗  ✗  ✗\n",
      "        Lounge        ✗  ✓  ✗\n",
      "        Dining Room   ✗  ✓  ✗\n",
      "Player 2's CP-SAT Solver Grid:\n",
      "Player                1  2  3\n",
      "Element Card                 \n",
      "Suspect Miss Scarlet  ✗  ✗   \n",
      "        Mr. Green        ✗  ✗\n",
      "        Mrs. White    ✓  ✗  ✗\n",
      "Weapon  Candlestick      ✗  ✗\n",
      "        Knife         ✗  ✗   \n",
      "        Lead Pipe     ✗  ✗  ✓\n",
      "Room    Hall          ✗  ✗  ✗\n",
      "        Lounge        ✗  ✓  ✗\n",
      "        Dining Room   ✗  ✓  ✗\n",
      "Player 2 suggests: ['Mr. Green', 'Candlestick', 'Hall']\n",
      "Player 3 has no card to reveal\n",
      "Player 1 reveals Candlestick to Player 2\n",
      "Player 3's Simple Solver Grid:\n",
      "Player                1  2  3\n",
      "Element Card                 \n",
      "Suspect Miss Scarlet  ✗  ✗  ✓\n",
      "        Mr. Green        ✗  ✗\n",
      "        Mrs. White    ✓  ✗  ✗\n",
      "Weapon  Candlestick      ✗  ✗\n",
      "        Knife         ✗  ✗  ✗\n",
      "        Lead Pipe     ✗  ✗  ✓\n",
      "Room    Hall          ✗  ✗  ✗\n",
      "        Lounge        ✗  ✓  ✗\n",
      "        Dining Room   ✗  ✓  ✗\n",
      "Player 3's CP-SAT Solver Grid:\n",
      "Player                1  2  3\n",
      "Element Card                 \n",
      "Suspect Miss Scarlet  ✗  ✗  ✓\n",
      "        Mr. Green     ✗  ✗  ✗\n",
      "        Mrs. White    ✓  ✗  ✗\n",
      "Weapon  Candlestick   ✓  ✗  ✗\n",
      "        Knife         ✗  ✗  ✗\n",
      "        Lead Pipe     ✗  ✗  ✓\n",
      "Room    Hall          ✗  ✗  ✗\n",
      "        Lounge        ✗  ✓  ✗\n",
      "        Dining Room   ✗  ✓  ✗\n",
      "Player 3 suggests: ['Mr. Green', 'Knife', 'Hall']\n",
      "Player 1 has no card to reveal\n",
      "Player 2 has no card to reveal\n",
      "Player 1's Simple Solver Grid:\n",
      "Player                1  2  3\n",
      "Element Card                 \n",
      "Suspect Miss Scarlet  ✗  ✗   \n",
      "        Mr. Green     ✗  ✗  ✗\n",
      "        Mrs. White    ✓  ✗  ✗\n",
      "Weapon  Candlestick   ✓  ✗  ✗\n",
      "        Knife         ✗  ✗   \n",
      "        Lead Pipe     ✗  ✗  ✓\n",
      "Room    Hall          ✗  ✗  ✗\n",
      "        Lounge        ✗  ✓  ✗\n",
      "        Dining Room   ✗  ✓  ✗\n",
      "Player 1's CP-SAT Solver Grid:\n",
      "Player                1  2  3\n",
      "Element Card                 \n",
      "Suspect Miss Scarlet  ✗  ✗  ✓\n",
      "        Mr. Green     ✗  ✗  ✗\n",
      "        Mrs. White    ✓  ✗  ✗\n",
      "Weapon  Candlestick   ✓  ✗  ✗\n",
      "        Knife         ✗  ✗  ✗\n",
      "        Lead Pipe     ✗  ✗  ✓\n",
      "Room    Hall          ✗  ✗  ✗\n",
      "        Lounge        ✗  ✓  ✗\n",
      "        Dining Room   ✗  ✓  ✗\n",
      "Player 1 suggests: ['Mrs. White', 'Knife', 'Dining Room']\n",
      "Player 2 reveals Dining Room to Player 1\n",
      "Player 2's Simple Solver Grid:\n",
      "Player                1  2  3\n",
      "Element Card                 \n",
      "Suspect Miss Scarlet  ✗  ✗   \n",
      "        Mr. Green     ✗  ✗  ✗\n",
      "        Mrs. White    ✓  ✗  ✗\n",
      "Weapon  Candlestick   ✓  ✗  ✗\n",
      "        Knife         ✗  ✗   \n",
      "        Lead Pipe     ✗  ✗  ✓\n",
      "Room    Hall          ✗  ✗  ✗\n",
      "        Lounge        ✗  ✓  ✗\n",
      "        Dining Room   ✗  ✓  ✗\n",
      "Player 2's CP-SAT Solver Grid:\n",
      "Player                1  2  3\n",
      "Element Card                 \n",
      "Suspect Miss Scarlet  ✗  ✗  ✓\n",
      "        Mr. Green     ✗  ✗  ✗\n",
      "        Mrs. White    ✓  ✗  ✗\n",
      "Weapon  Candlestick   ✓  ✗  ✗\n",
      "        Knife         ✗  ✗  ✗\n",
      "        Lead Pipe     ✗  ✗  ✓\n",
      "Room    Hall          ✗  ✗  ✗\n",
      "        Lounge        ✗  ✓  ✗\n",
      "        Dining Room   ✗  ✓  ✗\n",
      "Player 2 suggests: ['Mr. Green', 'Knife', 'Dining Room']\n",
      "Player 3 has no card to reveal\n",
      "Player 1 has no card to reveal\n",
      "Player 3's Simple Solver Grid:\n",
      "Player                1  2  3\n",
      "Element Card                 \n",
      "Suspect Miss Scarlet  ✗  ✗  ✓\n",
      "        Mr. Green     ✗  ✗  ✗\n",
      "        Mrs. White    ✓  ✗  ✗\n",
      "Weapon  Candlestick   ✓  ✗  ✗\n",
      "        Knife         ✗  ✗  ✗\n",
      "        Lead Pipe     ✗  ✗  ✓\n",
      "Room    Hall          ✗  ✗  ✗\n",
      "        Lounge        ✗  ✓  ✗\n",
      "        Dining Room   ✗  ✓  ✗\n",
      "Player 3's CP-SAT Solver Grid:\n",
      "Player                1  2  3\n",
      "Element Card                 \n",
      "Suspect Miss Scarlet  ✗  ✗  ✓\n",
      "        Mr. Green     ✗  ✗  ✗\n",
      "        Mrs. White    ✓  ✗  ✗\n",
      "Weapon  Candlestick   ✓  ✗  ✗\n",
      "        Knife         ✗  ✗  ✗\n",
      "        Lead Pipe     ✗  ✗  ✓\n",
      "Room    Hall          ✗  ✗  ✗\n",
      "        Lounge        ✗  ✓  ✗\n",
      "        Dining Room   ✗  ✓  ✗\n",
      "Player 3 has an accusation: ['Mr. Green', 'Knife', 'Hall']\n",
      "The actual solution is: {'suspect': 'Mr. Green', 'weapon': 'Knife', 'room': 'Hall'}\n",
      "Player 3 won on turn 12!\n"
     ]
    }
   ],
   "source": [
    "from lib.clue import Clue, DeductiveSolver\n",
    "\n",
    "game = Clue(\n",
    "    num_players=3,\n",
    "    elements={\n",
    "        \"suspect\": Clue.suspects[:3],\n",
    "        \"weapon\": Clue.weapons[:3],\n",
    "        \"room\": Clue.rooms[:3],\n",
    "        # \"motive\": Clue.motives[:6],\n",
    "        # \"time\": Clue.get_times(\"21:00\", \"03:00\", \"1h\"),\n",
    "    },\n",
    ")\n",
    "game.play(\n",
    "    deductive_solver=DeductiveSolver(\n",
    "        # note_cards_in_hand=False,\n",
    "        # note_responses_to_suggestions=False,\n",
    "        # note_cards_that_players_do_not_have=False,\n",
    "        # check_unique_card_placement_constraints=False,\n",
    "        # check_player_hand_size_constraints=False,\n",
    "        check_solution_has_one_and_only_one_card_per_element=False,\n",
    "        check_one_of_constraints=False,\n",
    "        check_inverse_one_of_constraints=False,\n",
    "        merge_and_check_disjoint_inverse_one_of_constraints=False,\n",
    "        exhaustively_test_possible_assignments=False,\n",
    "    ),\n",
    "    check_if_deductive_solver_and_cp_solver_grids_match=False,\n",
    ")\n",
    "prompt = game.get_prompt()"
   ]
  },
  {
   "cell_type": "code",
   "execution_count": null,
   "metadata": {},
   "outputs": [],
   "source": [
    "from vllm.sampling_params import SamplingParams\n",
    "\n",
    "prompt = \"\"\"\n",
    "On a warm spring day Summer, Giselle and Connor sat down to play a casual mystery game.\n",
    "\n",
    "They assembled 3 decks of cards, each for a separate type of information composed of the following:\n",
    "\n",
    "Suspect:\n",
    "- Miss Scarlet\n",
    "- Mr. Green\n",
    "- Mrs. White\n",
    "\n",
    "Weapon:\n",
    "- Candlestick\n",
    "- Knife\n",
    "- Lead Pipe\n",
    "\n",
    "Room:\n",
    "- Hall\n",
    "- Lounge\n",
    "- Dining Room\n",
    "\n",
    "After randomly (and blindly) choosing one card from each group and placing them in the middle of the table facedown, they shuffled the remaining cards and dealt out the following to each player:\n",
    "\n",
    "- Summer: 2 cards\n",
    "- Giselle: 2 cards ('Lounge', 'Miss Scarlet')\n",
    "- Connor: 2 cards\n",
    "\n",
    "The game proceeded as follows:\n",
    "\n",
    "1. On their turn, a player asked about a set of exactly 3 cards, one from each of the game's categories. (Note: Players could ask about any cards, including those in their own hand.)\n",
    "2. The player directed this question to the other players in clockwise order, starting with the player to their left.\n",
    "3. If a player had one or more of the asked-about cards, they had to show one of those cards (of their choice) to the asking player privately. The turn then ended, and play passed to the next player.\n",
    "4. If a player did not have any of the asked-about cards, they said so, and the question passed to the next player in clockwise order.\n",
    "5. This continued until either:\n",
    "    a) A player showed a card to the asking player, or\n",
    "    b) All the queried players had stated they didn't have any of the asked-about cards.\n",
    "6. After a player's turn ended (either by being shown a card or having all queried players pass), play moved to the next player in clockwise order.\n",
    "\n",
    "Here is how the game played out:\n",
    "\n",
    "Summer asked if anyone had 'Mrs. White' or 'Knife' or 'Dining Room':\n",
    "- Giselle did not have any of the cards\n",
    "- Connor showed Summer a card\n",
    "\n",
    "Giselle asked if anyone had 'Mrs. White' or 'Knife' or 'Lounge':\n",
    "- Connor did not have any of the cards\n",
    "- Summer did not have any of the cards\n",
    "\n",
    "Connor asked if anyone had 'Miss Scarlet' or 'Candlestick' or 'Hall':\n",
    "- Summer did not have any of the cards\n",
    "- Giselle showed Connor 'Miss Scarlet'\n",
    "\n",
    "Summer asked if anyone had 'Mr. Green' or 'Knife' or 'Hall':\n",
    "- Giselle did not have any of the cards\n",
    "- Connor did not have any of the cards\n",
    "\n",
    "At this point, Giselle was able to correctly infer the solution and win the game.\n",
    "\n",
    "What were the facedown cards in the middle of the table?\n",
    "\"\"\".strip()\n",
    "\n",
    "output = llm.chat([[dict(role=\"user\", content=prompt)]] * 1, sampling_params=SamplingParams(max_tokens=10_000))  # type: ignore"
   ]
  }
 ],
 "metadata": {
  "kernelspec": {
   "display_name": ".venv",
   "language": "python",
   "name": "python3"
  },
  "language_info": {
   "codemirror_mode": {
    "name": "ipython",
    "version": 3
   },
   "file_extension": ".py",
   "mimetype": "text/x-python",
   "name": "python",
   "nbconvert_exporter": "python",
   "pygments_lexer": "ipython3",
   "version": "3.12.7"
  }
 },
 "nbformat": 4,
 "nbformat_minor": 2
}
