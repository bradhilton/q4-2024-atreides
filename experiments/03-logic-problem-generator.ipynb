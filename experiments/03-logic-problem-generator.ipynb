{
 "cells": [
  {
   "cell_type": "code",
   "execution_count": 1,
   "metadata": {},
   "outputs": [
    {
     "ename": "KeyError",
     "evalue": "'Alice'",
     "output_type": "error",
     "traceback": [
      "\u001b[0;31m---------------------------------------------------------------------------\u001b[0m",
      "\u001b[0;31mKeyError\u001b[0m                                  Traceback (most recent call last)",
      "Cell \u001b[0;32mIn[1], line 52\u001b[0m\n\u001b[1;32m     49\u001b[0m problem\u001b[38;5;241m.\u001b[39maddConstraint(\u001b[38;5;28;01mlambda\u001b[39;00m f: f[\u001b[38;5;241m1\u001b[39m] \u001b[38;5;241m==\u001b[39m \u001b[38;5;124m\"\u001b[39m\u001b[38;5;124m3:00-5:00\u001b[39m\u001b[38;5;124m\"\u001b[39m, [\u001b[38;5;124m\"\u001b[39m\u001b[38;5;124mFireworks\u001b[39m\u001b[38;5;124m\"\u001b[39m])\n\u001b[1;32m     51\u001b[0m \u001b[38;5;66;03m# Solve the problem\u001b[39;00m\n\u001b[0;32m---> 52\u001b[0m solution \u001b[38;5;241m=\u001b[39m \u001b[43mproblem\u001b[49m\u001b[38;5;241;43m.\u001b[39;49m\u001b[43mgetSolutions\u001b[49m\u001b[43m(\u001b[49m\u001b[43m)\u001b[49m\n\u001b[1;32m     54\u001b[0m \u001b[38;5;66;03m# Display the solution(s)\u001b[39;00m\n\u001b[1;32m     55\u001b[0m \u001b[38;5;28;01mif\u001b[39;00m solution:\n",
      "File \u001b[0;32m~/github/bradhilton/atreides/.venv/lib/python3.12/site-packages/constraint/__init__.py:268\u001b[0m, in \u001b[0;36mProblem.getSolutions\u001b[0;34m(self)\u001b[0m\n\u001b[1;32m    252\u001b[0m \u001b[38;5;28;01mdef\u001b[39;00m \u001b[38;5;21mgetSolutions\u001b[39m(\u001b[38;5;28mself\u001b[39m):\n\u001b[1;32m    253\u001b[0m \u001b[38;5;250m    \u001b[39m\u001b[38;5;124;03m\"\"\"\u001b[39;00m\n\u001b[1;32m    254\u001b[0m \u001b[38;5;124;03m    Find and return all solutions to the problem\u001b[39;00m\n\u001b[1;32m    255\u001b[0m \n\u001b[0;32m   (...)\u001b[0m\n\u001b[1;32m    266\u001b[0m \u001b[38;5;124;03m    @rtype: list of dictionaries mapping variables to values\u001b[39;00m\n\u001b[1;32m    267\u001b[0m \u001b[38;5;124;03m    \"\"\"\u001b[39;00m\n\u001b[0;32m--> 268\u001b[0m     domains, constraints, vconstraints \u001b[38;5;241m=\u001b[39m \u001b[38;5;28;43mself\u001b[39;49m\u001b[38;5;241;43m.\u001b[39;49m\u001b[43m_getArgs\u001b[49m\u001b[43m(\u001b[49m\u001b[43m)\u001b[49m\n\u001b[1;32m    269\u001b[0m     \u001b[38;5;28;01mif\u001b[39;00m \u001b[38;5;129;01mnot\u001b[39;00m domains:\n\u001b[1;32m    270\u001b[0m         \u001b[38;5;28;01mreturn\u001b[39;00m []\n",
      "File \u001b[0;32m~/github/bradhilton/atreides/.venv/lib/python3.12/site-packages/constraint/__init__.py:309\u001b[0m, in \u001b[0;36mProblem._getArgs\u001b[0;34m(self)\u001b[0m\n\u001b[1;32m    307\u001b[0m \u001b[38;5;28;01mfor\u001b[39;00m constraint, variables \u001b[38;5;129;01min\u001b[39;00m constraints:\n\u001b[1;32m    308\u001b[0m     \u001b[38;5;28;01mfor\u001b[39;00m variable \u001b[38;5;129;01min\u001b[39;00m variables:\n\u001b[0;32m--> 309\u001b[0m         \u001b[43mvconstraints\u001b[49m\u001b[43m[\u001b[49m\u001b[43mvariable\u001b[49m\u001b[43m]\u001b[49m\u001b[38;5;241m.\u001b[39mappend((constraint, variables))\n\u001b[1;32m    310\u001b[0m \u001b[38;5;28;01mfor\u001b[39;00m constraint, variables \u001b[38;5;129;01min\u001b[39;00m constraints[:]:\n\u001b[1;32m    311\u001b[0m     constraint\u001b[38;5;241m.\u001b[39mpreProcess(variables, domains, constraints, vconstraints)\n",
      "\u001b[0;31mKeyError\u001b[0m: 'Alice'"
     ]
    }
   ],
   "source": [
    "from constraint import Problem, AllDifferentConstraint\n",
    "\n",
    "# Define the problem\n",
    "problem = Problem()\n",
    "\n",
    "# Define locations and timeslots\n",
    "locations = [\"Town Square\", \"Beachfront\", \"Community Hall\"]\n",
    "timeslots = [\"10:00-12:00\", \"12:30-2:30\", \"3:00-5:00\"]\n",
    "\n",
    "# Define events and their constraints\n",
    "events = [\"Parade\", \"Sandcastle Contest\", \"Talent Show\", \n",
    "          \"Fireworks\", \"Artisan Market\", \"Charity Auction\"]\n",
    "\n",
    "performers = [\"Alice\", \"Ben\", \"Carlos\", \"Daisy\"]\n",
    "\n",
    "# Assign each event a (location, timeslot) pair\n",
    "for event in events:\n",
    "    problem.addVariable(event, [(loc, time) for loc in locations for time in timeslots])\n",
    "\n",
    "# Add location-specific constraints\n",
    "problem.addConstraint(lambda x: x[0] == \"Town Square\", [\"Parade\"])\n",
    "problem.addConstraint(lambda x: x[0] == \"Beachfront\", [\"Sandcastle Contest\"])\n",
    "problem.addConstraint(lambda t1, t2: t1 != t2, [\"Talent Show\", \"Charity Auction\"])\n",
    "\n",
    "# Performer availability constraints\n",
    "problem.addVariable(\"Carlos_Event\", events)\n",
    "problem.addConstraint(lambda e1, e2: e1 != e2, [\"Carlos_Event\", \"Fireworks\"])  # Carlos performs only once\n",
    "\n",
    "def available_before_3(event):\n",
    "    return event[1] in [\"10:00-12:00\", \"12:30-2:30\"]\n",
    "\n",
    "problem.addConstraint(available_before_3, [\"Alice\", \"Ben\"])\n",
    "\n",
    "# Daisy participation constraints\n",
    "problem.addConstraint(lambda p, m: p == (\"Town Square\", \"10:00-12:00\") and m[0] == \"Community Hall\", [\"Parade\", \"Artisan Market\"])\n",
    "\n",
    "# Time gap constraints\n",
    "def no_overlap(e1, e2):\n",
    "    return e1[1] != e2[1]\n",
    "\n",
    "for location in locations:\n",
    "    events_in_location = [event for event in events if location in event]\n",
    "    problem.addConstraint(AllDifferentConstraint(), events_in_location)\n",
    "\n",
    "# Sandcastle Contest must overlap with another event for 1 hour\n",
    "problem.addConstraint(lambda s, o: s[1] == o[1], [\"Sandcastle Contest\", \"Parade\"])\n",
    "\n",
    "# Fireworks must be the final event\n",
    "problem.addConstraint(lambda f: f[1] == \"3:00-5:00\", [\"Fireworks\"])\n",
    "\n",
    "# Solve the problem\n",
    "solution = problem.getSolutions()\n",
    "\n",
    "# Display the solution(s)\n",
    "if solution:\n",
    "    for sol in solution:\n",
    "        print(\"Valid Schedule:\")\n",
    "        for event in events:\n",
    "            print(f\"{event}: Location - {sol[event][0]}, Time - {sol[event][1]}\")\n",
    "else:\n",
    "    print(\"No valid solution found.\")\n"
   ]
  },
  {
   "cell_type": "code",
   "execution_count": 7,
   "metadata": {},
   "outputs": [
    {
     "name": "stdout",
     "output_type": "stream",
     "text": [
      "{'Bob': 'Blue', 'Charlie': 'Red', 'Alice': 'Green'}\n"
     ]
    }
   ],
   "source": [
    "from constraint import Problem, AllDifferentConstraint\n",
    "\n",
    "# Create a new problem instance\n",
    "problem = Problem()\n",
    "\n",
    "# Define the possible colors\n",
    "colors = [\"Red\", \"Blue\", \"Green\"]\n",
    "\n",
    "# Add variables for each friend with the possible colors\n",
    "problem.addVariable(\"Alice\", colors)\n",
    "problem.addVariable(\"Bob\", colors)\n",
    "problem.addVariable(\"Charlie\", colors)\n",
    "\n",
    "# Add a constraint that all shirts are different colors\n",
    "problem.addConstraint(AllDifferentConstraint())\n",
    "\n",
    "# Constraint 1: Alice is not wearing the Red shirt\n",
    "problem.addConstraint(lambda alice: alice != \"Red\", [\"Alice\"])\n",
    "\n",
    "# Constraint 2: Bob is wearing either the Blue or Green shirt\n",
    "problem.addConstraint(lambda bob: bob in [\"Blue\", \"Green\"], [\"Bob\"])\n",
    "\n",
    "# Constraint 3: Charlie is wearing the Red shirt if and only if Bob is not wearing the Green shirt\n",
    "def charlie_constraint(charlie, bob):\n",
    "    return (charlie == \"Red\") == (bob != \"Green\")\n",
    "\n",
    "problem.addConstraint(charlie_constraint, [\"Charlie\", \"Bob\"])\n",
    "\n",
    "# Find and print all possible solutions\n",
    "solutions = problem.getSolutions()\n",
    "for solution in solutions:\n",
    "    print(solution)"
   ]
  },
  {
   "cell_type": "code",
   "execution_count": 8,
   "metadata": {},
   "outputs": [
    {
     "name": "stdout",
     "output_type": "stream",
     "text": [
      "{'Edward': 'Apple', 'Fiona': 'Banana', 'Diana': 'Cherry'}\n"
     ]
    }
   ],
   "source": [
    "# Create a new problem instance\n",
    "problem = Problem()\n",
    "\n",
    "# Define the possible favorite fruits\n",
    "fruits = [\"Apple\", \"Banana\", \"Cherry\"]\n",
    "\n",
    "# Add variables for each colleague with the possible fruits\n",
    "problem.addVariable(\"Diana\", fruits)\n",
    "problem.addVariable(\"Edward\", fruits)\n",
    "problem.addVariable(\"Fiona\", fruits)\n",
    "\n",
    "# Add a constraint that all favorite fruits are different\n",
    "problem.addConstraint(AllDifferentConstraint())\n",
    "\n",
    "# Constraint 1: Diana does not like Banana\n",
    "problem.addConstraint(lambda diana: diana != \"Banana\", [\"Diana\"])\n",
    "\n",
    "# Constraint 2: Edward's favorite fruit is either Apple or Cherry\n",
    "problem.addConstraint(lambda edward: edward in [\"Apple\", \"Cherry\"], [\"Edward\"])\n",
    "\n",
    "# Constraint 3: Fiona likes Cherry if and only if Edward does not like Apple\n",
    "def fiona_constraint(fiona, edward):\n",
    "    return (fiona == \"Cherry\") == (edward != \"Apple\")\n",
    "\n",
    "problem.addConstraint(fiona_constraint, [\"Fiona\", \"Edward\"])\n",
    "\n",
    "# Find and print all possible solutions\n",
    "solutions = problem.getSolutions()\n",
    "for solution in solutions:\n",
    "    print(solution)"
   ]
  },
  {
   "cell_type": "code",
   "execution_count": 11,
   "metadata": {},
   "outputs": [],
   "source": [
    "from constraint import Problem, AllDifferentConstraint\n",
    "\n",
    "# Create a new problem instance\n",
    "problem = Problem()\n",
    "\n",
    "# Define the possible roles\n",
    "roles = [\"Developer\", \"Designer\", \"Tester\", \"Project Manager\"]\n",
    "\n",
    "# Add variables for each colleague with the possible roles\n",
    "problem.addVariable(\"Grace\", roles)\n",
    "problem.addVariable(\"Henry\", roles)\n",
    "problem.addVariable(\"Irene\", roles)\n",
    "problem.addVariable(\"Jack\", roles)\n",
    "\n",
    "# Add a constraint that all roles are assigned uniquely\n",
    "problem.addConstraint(AllDifferentConstraint())\n",
    "\n",
    "# Constraint 1: Grace cannot be the Project Manager\n",
    "problem.addConstraint(lambda grace: grace != \"Project Manager\", [\"Grace\"])\n",
    "\n",
    "# Constraint 2: Henry prefers not to be the Tester\n",
    "problem.addConstraint(lambda henry: henry != \"Tester\", [\"Henry\"])\n",
    "\n",
    "# Constraint 3: Grace and Henry cannot be Developer and Designer in any order\n",
    "def dev_designer_not_grace_henry(grace, henry):\n",
    "    return not (\n",
    "        (grace == \"Developer\" and henry == \"Designer\") or\n",
    "        (grace == \"Designer\" and henry == \"Developer\")\n",
    "    )\n",
    "\n",
    "problem.addConstraint(dev_designer_not_grace_henry, [\"Grace\", \"Henry\"])\n",
    "\n",
    "# Constraint 4: Irene will only take the role of Tester if Jack is the Project Manager\n",
    "def irene_tester_jack_pm(irene, jack):\n",
    "    if irene == \"Tester\":\n",
    "        return jack == \"Project Manager\"\n",
    "    return True\n",
    "\n",
    "problem.addConstraint(irene_tester_jack_pm, [\"Irene\", \"Jack\"])\n",
    "\n",
    "# Constraint 5: Jack cannot be the Designer\n",
    "problem.addConstraint(lambda jack: jack != \"Designer\", [\"Jack\"])\n",
    "\n",
    "# Constraint 6 (Revised): The Project Manager must be either Grace or Irene\n",
    "def project_manager_is_grace_or_irene(grace, irene):\n",
    "    return grace == \"Project Manager\" or irene == \"Project Manager\"\n",
    "\n",
    "problem.addConstraint(project_manager_is_grace_or_irene, [\"Grace\", \"Irene\"])\n",
    "\n",
    "# Constraint 7: Henry is either the Developer or the Project Manager\n",
    "problem.addConstraint(lambda henry: henry in [\"Developer\", \"Project Manager\"], [\"Henry\"])\n",
    "\n",
    "# Constraint 8: Grace will take the role of Designer only if Irene is not the Tester\n",
    "def grace_designer_if_irene_not_tester(grace, irene):\n",
    "    if grace == \"Designer\":\n",
    "        return irene != \"Tester\"\n",
    "    return True\n",
    "\n",
    "problem.addConstraint(grace_designer_if_irene_not_tester, [\"Grace\", \"Irene\"])\n",
    "\n",
    "# The problem is now fully defined. You can run the solver to find solutions.\n",
    "# Here's how you can retrieve and print the solutions:\n",
    "\n",
    "solutions = problem.getSolutions()\n",
    "for idx, solution in enumerate(solutions, start=1):\n",
    "    print(f\"Solution {idx}: {solution}\")"
   ]
  },
  {
   "cell_type": "code",
   "execution_count": 13,
   "metadata": {},
   "outputs": [
    {
     "name": "stdout",
     "output_type": "stream",
     "text": [
      "Solution 1: {'Irene': 'Project Manager', 'Henry': 'Developer', 'Grace': 'Designer', 'Jack': 'Tester'}\n"
     ]
    }
   ],
   "source": [
    "from constraint import Problem, AllDifferentConstraint\n",
    "\n",
    "# Create a new problem instance\n",
    "problem = Problem()\n",
    "\n",
    "# Define the possible roles\n",
    "roles = [\"Developer\", \"Designer\", \"Tester\", \"Project Manager\"]\n",
    "\n",
    "# Add variables for each colleague with the possible roles\n",
    "problem.addVariable(\"Grace\", roles)\n",
    "problem.addVariable(\"Henry\", roles)\n",
    "problem.addVariable(\"Irene\", roles)\n",
    "problem.addVariable(\"Jack\", roles)\n",
    "\n",
    "# Add a constraint that all roles are assigned uniquely\n",
    "problem.addConstraint(AllDifferentConstraint())\n",
    "\n",
    "# Constraint 1: Grace cannot be the Project Manager\n",
    "problem.addConstraint(lambda grace: grace != \"Project Manager\", [\"Grace\"])\n",
    "\n",
    "# Constraint 2: Henry prefers not to be the Tester\n",
    "problem.addConstraint(lambda henry: henry != \"Tester\", [\"Henry\"])\n",
    "\n",
    "# Constraint 5: Jack cannot be the Designer\n",
    "problem.addConstraint(lambda jack: jack != \"Designer\", [\"Jack\"])\n",
    "\n",
    "# Constraint 6: Irene must be the Project Manager\n",
    "problem.addConstraint(lambda irene: irene == \"Project Manager\", [\"Irene\"])\n",
    "\n",
    "# Constraint 7: Henry is either the Developer or the Project Manager\n",
    "# Since Irene is Project Manager, Henry must be Developer\n",
    "def henry_role(henry, irene):\n",
    "    if irene == \"Project Manager\":\n",
    "        return henry == \"Developer\"\n",
    "    return henry in [\"Developer\", \"Project Manager\"]\n",
    "\n",
    "problem.addConstraint(henry_role, [\"Henry\", \"Irene\"])\n",
    "\n",
    "# Constraint 8: Grace will take the role of Designer only if Irene is not the Tester\n",
    "# Since Irene is Project Manager, she is not Tester, so Grace can be Designer\n",
    "# However, we include the constraint for completeness\n",
    "def grace_designer_if_irene_not_tester(grace, irene):\n",
    "    if grace == \"Designer\":\n",
    "        return irene != \"Tester\"\n",
    "    return True\n",
    "\n",
    "problem.addConstraint(grace_designer_if_irene_not_tester, [\"Grace\", \"Irene\"])\n",
    "\n",
    "# Now, the problem is fully defined. You can run the solver to find solutions.\n",
    "# Here's how you can retrieve and print the solutions:\n",
    "\n",
    "solutions = problem.getSolutions()\n",
    "for idx, solution in enumerate(solutions, start=1):\n",
    "    print(f\"Solution {idx}: {solution}\")"
   ]
  },
  {
   "cell_type": "code",
   "execution_count": 22,
   "metadata": {},
   "outputs": [
    {
     "name": "stdout",
     "output_type": "stream",
     "text": [
      "[{'A': 2, 'B': 5, 'C': 8}]\n"
     ]
    }
   ],
   "source": [
    "import constraint\n",
    "\n",
    "problem = constraint.Problem()\n",
    "problem.addVariable(\"A\", [1, 2, 3])\n",
    "problem.addVariable(\"B\", [4, 5, 6])\n",
    "problem.addVariable(\"C\", [7, 8, 9])\n",
    "problem.addConstraint(lambda a, b: a + b == 7, (\"A\", \"B\"))\n",
    "problem.addConstraint(lambda b, c: b - c == -3, (\"B\", \"C\"))\n",
    "problem.addConstraint(lambda a, c: a * c == 16, (\"A\", \"C\"))\n",
    "solutions = problem.getSolutions()\n",
    "print(solutions)"
   ]
  },
  {
   "cell_type": "code",
   "execution_count": 14,
   "metadata": {},
   "outputs": [
    {
     "data": {
      "text/plain": [
       "'problem.addConstraint(lambda a, b: a + b == 7, (\"A\", \"B\"))\\n'"
      ]
     },
     "execution_count": 14,
     "metadata": {},
     "output_type": "execute_result"
    }
   ],
   "source": [
    "import inspect\n",
    "\n",
    "inspect.getsource(problem._constraints[0][0]._func)"
   ]
  },
  {
   "cell_type": "code",
   "execution_count": null,
   "metadata": {},
   "outputs": [],
   "source": [
    "import random\n",
    "\n",
    "def generate_problem() -> None:\n",
    "    problem = constraint.Problem()\n",
    "    for _ in range(10):\n",
    "        problem.addVariable(random.choice(\"ABCDEFGHIJ\"), [1, 2, 3])"
   ]
  }
 ],
 "metadata": {
  "kernelspec": {
   "display_name": ".venv",
   "language": "python",
   "name": "python3"
  },
  "language_info": {
   "codemirror_mode": {
    "name": "ipython",
    "version": 3
   },
   "file_extension": ".py",
   "mimetype": "text/x-python",
   "name": "python",
   "nbconvert_exporter": "python",
   "pygments_lexer": "ipython3",
   "version": "3.12.5"
  }
 },
 "nbformat": 4,
 "nbformat_minor": 2
}
